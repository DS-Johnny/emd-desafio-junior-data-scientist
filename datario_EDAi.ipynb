{
 "cells": [
  {
   "cell_type": "markdown",
   "metadata": {},
   "source": [
    "# EDA Datario\n",
    "Ao invés de começar por diversas queries dentro do GCP, foi decidido explorar os dados primeiramente através do Pandas, visando decidir todas as variáveis e features necessárias para responder todas as questões do desafio e também ter insights sobre possíveis análises extras.\n",
    "<br>Objetivos principais:\n",
    "- criar arquivos .csv para não consumir dados do GCP a cada vez que o código for rodado\n",
    "- ter uma visão geral de cada dataset\n",
    "- Decidir quais colunas são necessárias para a soluções de **Todas** as questões do desafio\n",
    "- Analisar a possibilidade de análises extras relevantes para os dashboards PowerBI e Streamlit."
   ]
  },
  {
   "cell_type": "markdown",
   "metadata": {},
   "source": [
    "## Perguntas SQL"
   ]
  },
  {
   "cell_type": "markdown",
   "metadata": {},
   "source": [
    "## Localização de chamados do 1746\n",
    "#### Utilize a tabela de Chamados do 1746 e a tabela de Bairros do Rio de Janeiro para as perguntas de 1-5.\n",
    "\n",
    "1. Quantos chamados foram abertos no dia 01/04/2023?\n",
    "2. Qual o tipo de chamado que teve mais teve chamados abertos no dia 01/04/2023?\n",
    "3. Quais os nomes dos 3 bairros que mais tiveram chamados abertos nesse dia?\n",
    "4. Qual o nome da subprefeitura com mais chamados abertos nesse dia?\n",
    "5. Existe algum chamado aberto nesse dia que não foi associado a um bairro ou subprefeitura na tabela de bairros? Se sim, por que isso acontece?\n",
    "\n",
    "\n",
    "## Chamados do 1746 em grandes eventos\n",
    "#### Utilize a tabela de Chamados do 1746 e a tabela de Ocupação Hoteleira em Grandes Eventos no Rio para as perguntas de 6-10. Para todas as perguntas considere o subtipo de chamado \"Perturbação do sossego\".\n",
    "\n",
    "6. Quantos chamados com o subtipo \"Perturbação do sossego\" foram abertos desde 01/01/2022 até 31/12/2023 (incluindo extremidades)?\n",
    "7. Selecione os chamados com esse subtipo que foram abertos durante os eventos contidos na tabela de eventos (Reveillon, Carnaval e Rock in Rio).\n",
    "8. Quantos chamados desse subtipo foram abertos em cada evento?\n",
    "9. Qual evento teve a maior média diária de chamados abertos desse subtipo?\n",
    "10. Compare as médias diárias de chamados abertos desse subtipo durante os eventos específicos (Reveillon, Carnaval e Rock in Rio) e a média diária de chamados abertos desse subtipo considerando todo o período de 01/01/2022 até 31/12/2023.\n",
    "\n",
    "##### Importante: a tabela de Chamados do 1746 possui mais de 10M de linhas. Evite fazer consultas exploratórias na tabela sem um filtro ou limite de linhas para economizar sua cota no BigQuery!"
   ]
  },
  {
   "cell_type": "markdown",
   "metadata": {},
   "source": [
    "## Imports"
   ]
  },
  {
   "cell_type": "code",
   "execution_count": 1,
   "metadata": {},
   "outputs": [],
   "source": [
    "import basedosdados as bd\n",
    "import pandas as pd\n",
    "import plotly.express as px\n",
    "from datetime import timedelta\n",
    "from utils import Weather   "
   ]
  },
  {
   "cell_type": "code",
   "execution_count": 2,
   "metadata": {},
   "outputs": [],
   "source": [
    "# Config\n",
    "wrio = Weather(22.5423, 43.1021) # Cria instância da classe Weather com as coordenadas da cidade do Rio de Janeiro"
   ]
  },
  {
   "cell_type": "markdown",
   "metadata": {},
   "source": [
    "## Datasets\n",
    "Conforme primeiras observações feitas no notebook 'api_first_test.ipynb'. Vamos começar a analisar as tabelas do BigQuery em ordem da menor para a maior.\n",
    "<br>\n",
    "- datario.turismo_fluxo_visitantes.rede_hoteleira_ocupacao_eventos\n",
    "- datario.dados_mestres.bairro\n",
    "- datario.adm_central_atendimento_1746.chamado"
   ]
  },
  {
   "cell_type": "markdown",
   "metadata": {},
   "source": [
    "### Fluxo de visitantes/Ocupação de eventos "
   ]
  },
  {
   "cell_type": "markdown",
   "metadata": {},
   "source": [
    "Os códigos abaixo estão comentados para evitar o consumo desnecessário de dados no GCP"
   ]
  },
  {
   "cell_type": "code",
   "execution_count": 7,
   "metadata": {},
   "outputs": [
    {
     "name": "stdout",
     "output_type": "stream",
     "text": [
      "Downloading: 100%|\u001b[32m██████████\u001b[0m|\n"
     ]
    },
    {
     "data": {
      "text/plain": [
       "',ano,data_inicial,data_final,evento,taxa_ocupacao\\r\\n0,18/02 a 21/02 de 2023,2023-02-18,2023-02-21,Carnaval,0.9554\\r\\n1,30-31/12 e 01/01 (2022-2023),2022-12-30,2023-01-01,Reveillon,0.9251\\r\\n2,02/09 a 04/09 de 2022,2022-09-02,2022-09-04,Rock in Rio,0.8184\\r\\n3,08/09 a 11/09 de 2022,2022-09-08,2022-09-11,Rock in Rio,0.9451\\r\\n'"
      ]
     },
     "execution_count": 7,
     "metadata": {},
     "output_type": "execute_result"
    }
   ],
   "source": [
    "# Rodar a query apenas uma vez e salvar o dataframe como csv\n",
    "\n",
    "#query_ocup = \"SELECT * FROM datario.turismo_fluxo_visitantes.rede_hoteleira_ocupacao_eventos\"\n",
    "#ocup = bd.read_sql(query_ocup, billing_project_id=\"dados-rio-433111\")\n",
    "#ocup.to_csv('ocupacao.csv', index=False)"
   ]
  },
  {
   "cell_type": "code",
   "execution_count": 3,
   "metadata": {},
   "outputs": [
    {
     "data": {
      "text/html": [
       "<div>\n",
       "<style scoped>\n",
       "    .dataframe tbody tr th:only-of-type {\n",
       "        vertical-align: middle;\n",
       "    }\n",
       "\n",
       "    .dataframe tbody tr th {\n",
       "        vertical-align: top;\n",
       "    }\n",
       "\n",
       "    .dataframe thead th {\n",
       "        text-align: right;\n",
       "    }\n",
       "</style>\n",
       "<table border=\"1\" class=\"dataframe\">\n",
       "  <thead>\n",
       "    <tr style=\"text-align: right;\">\n",
       "      <th></th>\n",
       "      <th>ano</th>\n",
       "      <th>data_inicial</th>\n",
       "      <th>data_final</th>\n",
       "      <th>evento</th>\n",
       "      <th>taxa_ocupacao</th>\n",
       "    </tr>\n",
       "  </thead>\n",
       "  <tbody>\n",
       "    <tr>\n",
       "      <th>0</th>\n",
       "      <td>18/02 a 21/02 de 2023</td>\n",
       "      <td>2023-02-18</td>\n",
       "      <td>2023-02-21</td>\n",
       "      <td>Carnaval</td>\n",
       "      <td>0.9554</td>\n",
       "    </tr>\n",
       "    <tr>\n",
       "      <th>1</th>\n",
       "      <td>30-31/12 e 01/01 (2022-2023)</td>\n",
       "      <td>2022-12-30</td>\n",
       "      <td>2023-01-01</td>\n",
       "      <td>Reveillon</td>\n",
       "      <td>0.9251</td>\n",
       "    </tr>\n",
       "    <tr>\n",
       "      <th>2</th>\n",
       "      <td>02/09 a 04/09 de 2022</td>\n",
       "      <td>2022-09-02</td>\n",
       "      <td>2022-09-04</td>\n",
       "      <td>Rock in Rio</td>\n",
       "      <td>0.8184</td>\n",
       "    </tr>\n",
       "    <tr>\n",
       "      <th>3</th>\n",
       "      <td>08/09 a 11/09 de 2022</td>\n",
       "      <td>2022-09-08</td>\n",
       "      <td>2022-09-11</td>\n",
       "      <td>Rock in Rio</td>\n",
       "      <td>0.9451</td>\n",
       "    </tr>\n",
       "  </tbody>\n",
       "</table>\n",
       "</div>"
      ],
      "text/plain": [
       "                            ano data_inicial  data_final       evento  \\\n",
       "0         18/02 a 21/02 de 2023   2023-02-18  2023-02-21     Carnaval   \n",
       "1  30-31/12 e 01/01 (2022-2023)   2022-12-30  2023-01-01    Reveillon   \n",
       "2         02/09 a 04/09 de 2022   2022-09-02  2022-09-04  Rock in Rio   \n",
       "3         08/09 a 11/09 de 2022   2022-09-08  2022-09-11  Rock in Rio   \n",
       "\n",
       "   taxa_ocupacao  \n",
       "0         0.9554  \n",
       "1         0.9251  \n",
       "2         0.8184  \n",
       "3         0.9451  "
      ]
     },
     "execution_count": 3,
     "metadata": {},
     "output_type": "execute_result"
    }
   ],
   "source": [
    "# Dataset Ocupação Original\n",
    "ocup = pd.read_csv('ocupacao.csv')\n",
    "ocup"
   ]
  },
  {
   "cell_type": "markdown",
   "metadata": {},
   "source": [
    "Podemos observar que as observações foram feitas dentro do curto período de setembro/2022 até fevereiro/2023.\n",
    "<br>Todos os eventos aconteceram em pelo menos 3 dias\n",
    "<br>O Rock in Rio aconteceu por dois finais de semana seguidos, o ultimo tendo um fluxo de visitantes relativamente maior que o primeiro\n",
    "<br>O evento de maior fluxo foi o Carnaval, provavelmente por conta de ser feriado público e possívelmente ter sido em dias de calor(verificar com api)"
   ]
  },
  {
   "cell_type": "code",
   "execution_count": 4,
   "metadata": {},
   "outputs": [
    {
     "name": "stdout",
     "output_type": "stream",
     "text": [
      "<class 'pandas.core.frame.DataFrame'>\n",
      "RangeIndex: 4 entries, 0 to 3\n",
      "Data columns (total 5 columns):\n",
      " #   Column         Non-Null Count  Dtype  \n",
      "---  ------         --------------  -----  \n",
      " 0   ano            4 non-null      object \n",
      " 1   data_inicial   4 non-null      object \n",
      " 2   data_final     4 non-null      object \n",
      " 3   evento         4 non-null      object \n",
      " 4   taxa_ocupacao  4 non-null      float64\n",
      "dtypes: float64(1), object(4)\n",
      "memory usage: 292.0+ bytes\n"
     ]
    }
   ],
   "source": [
    "# Info do dataframe original\n",
    "ocup.info()"
   ]
  },
  {
   "cell_type": "markdown",
   "metadata": {},
   "source": [
    "**Tratativas**"
   ]
  },
  {
   "cell_type": "code",
   "execution_count": 10,
   "metadata": {},
   "outputs": [
    {
     "data": {
      "text/html": [
       "<div>\n",
       "<style scoped>\n",
       "    .dataframe tbody tr th:only-of-type {\n",
       "        vertical-align: middle;\n",
       "    }\n",
       "\n",
       "    .dataframe tbody tr th {\n",
       "        vertical-align: top;\n",
       "    }\n",
       "\n",
       "    .dataframe thead th {\n",
       "        text-align: right;\n",
       "    }\n",
       "</style>\n",
       "<table border=\"1\" class=\"dataframe\">\n",
       "  <thead>\n",
       "    <tr style=\"text-align: right;\">\n",
       "      <th></th>\n",
       "      <th>ano</th>\n",
       "      <th>data_inicial</th>\n",
       "      <th>data_final</th>\n",
       "      <th>evento</th>\n",
       "      <th>taxa_ocupacao</th>\n",
       "      <th>dia_inicial</th>\n",
       "      <th>dia_final</th>\n",
       "      <th>duracao</th>\n",
       "      <th>temperatura_data_inicial</th>\n",
       "      <th>clima_data_inicial</th>\n",
       "      <th>temperatura_data_final</th>\n",
       "      <th>clima_data_final</th>\n",
       "    </tr>\n",
       "  </thead>\n",
       "  <tbody>\n",
       "    <tr>\n",
       "      <th>0</th>\n",
       "      <td>2023</td>\n",
       "      <td>2023-02-18</td>\n",
       "      <td>2023-02-21</td>\n",
       "      <td>Carnaval</td>\n",
       "      <td>0.9554</td>\n",
       "      <td>Sábado</td>\n",
       "      <td>Terça-feira</td>\n",
       "      <td>4 days</td>\n",
       "      <td>15.151581</td>\n",
       "      <td>Mainly Sunny</td>\n",
       "      <td>20.324499</td>\n",
       "      <td>Mainly Sunny</td>\n",
       "    </tr>\n",
       "    <tr>\n",
       "      <th>1</th>\n",
       "      <td>(2022-2023)</td>\n",
       "      <td>2022-12-30</td>\n",
       "      <td>2023-01-01</td>\n",
       "      <td>Reveillon</td>\n",
       "      <td>0.9251</td>\n",
       "      <td>Sexta-feira</td>\n",
       "      <td>Domingo</td>\n",
       "      <td>3 days</td>\n",
       "      <td>10.391168</td>\n",
       "      <td>Rain</td>\n",
       "      <td>13.837001</td>\n",
       "      <td>Light Rain</td>\n",
       "    </tr>\n",
       "    <tr>\n",
       "      <th>2</th>\n",
       "      <td>2022</td>\n",
       "      <td>2022-09-02</td>\n",
       "      <td>2022-09-04</td>\n",
       "      <td>Rock in Rio</td>\n",
       "      <td>0.8184</td>\n",
       "      <td>Sexta-feira</td>\n",
       "      <td>Domingo</td>\n",
       "      <td>3 days</td>\n",
       "      <td>30.980749</td>\n",
       "      <td>Sunny</td>\n",
       "      <td>32.174496</td>\n",
       "      <td>Sunny</td>\n",
       "    </tr>\n",
       "    <tr>\n",
       "      <th>3</th>\n",
       "      <td>2022</td>\n",
       "      <td>2022-09-08</td>\n",
       "      <td>2022-09-11</td>\n",
       "      <td>Rock in Rio</td>\n",
       "      <td>0.9451</td>\n",
       "      <td>Quinta-feira</td>\n",
       "      <td>Domingo</td>\n",
       "      <td>4 days</td>\n",
       "      <td>32.207832</td>\n",
       "      <td>Sunny</td>\n",
       "      <td>32.826580</td>\n",
       "      <td>Mainly Sunny</td>\n",
       "    </tr>\n",
       "  </tbody>\n",
       "</table>\n",
       "</div>"
      ],
      "text/plain": [
       "           ano data_inicial data_final       evento  taxa_ocupacao  \\\n",
       "0         2023   2023-02-18 2023-02-21     Carnaval         0.9554   \n",
       "1  (2022-2023)   2022-12-30 2023-01-01    Reveillon         0.9251   \n",
       "2         2022   2022-09-02 2022-09-04  Rock in Rio         0.8184   \n",
       "3         2022   2022-09-08 2022-09-11  Rock in Rio         0.9451   \n",
       "\n",
       "    dia_inicial    dia_final duracao  temperatura_data_inicial  \\\n",
       "0        Sábado  Terça-feira  4 days                 15.151581   \n",
       "1   Sexta-feira      Domingo  3 days                 10.391168   \n",
       "2   Sexta-feira      Domingo  3 days                 30.980749   \n",
       "3  Quinta-feira      Domingo  4 days                 32.207832   \n",
       "\n",
       "  clima_data_inicial  temperatura_data_final clima_data_final  \n",
       "0       Mainly Sunny               20.324499     Mainly Sunny  \n",
       "1               Rain               13.837001       Light Rain  \n",
       "2              Sunny               32.174496            Sunny  \n",
       "3              Sunny               32.826580     Mainly Sunny  "
      ]
     },
     "execution_count": 10,
     "metadata": {},
     "output_type": "execute_result"
    }
   ],
   "source": [
    "# Converter colunas de datas para datetime\n",
    "ocup['data_inicial'] = pd.to_datetime(ocup['data_inicial'])\n",
    "ocup['data_final'] = pd.to_datetime(ocup['data_final'])\n",
    "# Extrair apenas o ano(s) da coluna ano\n",
    "ocup['ano'] = ocup['ano'].apply(lambda x: x.split()[-1])\n",
    "# Criar colunas para o dia da semana de início e fim dos eventos escrita em Português\n",
    "dias = {\n",
    "    0: \"Segunda-feira\",\n",
    "    1: \"Terça-feira\",\n",
    "    2: \"Quarta-feira\",\n",
    "    3: \"Quinta-feira\",\n",
    "    4: \"Sexta-feira\",\n",
    "    5: \"Sábado\",\n",
    "    6: \"Domingo\"\n",
    "}\n",
    "ocup['dia_inicial'] = ocup['data_inicial'].apply(lambda x: x.weekday()).map(dias)\n",
    "ocup['dia_final'] = ocup['data_final'].apply(lambda x: x.weekday()).map(dias)\n",
    "# Coluna de duração dos eventos(quantidade de dias)\n",
    "ocup['duracao'] = (ocup['data_final'] - ocup['data_inicial']) + timedelta(days=1)\n",
    "# Temperatura/clima do dia utilizando o método forecast da classe Weather\n",
    "ocup['temperatura_data_inicial'] = ocup['data_inicial'].apply(lambda x: wrio.forecast(x.date(), x.date())['temperatura media'])\n",
    "ocup['clima_data_inicial'] = ocup['data_inicial'].apply(lambda x: wrio.forecast(x.date(), x.date())['clima'])\n",
    "ocup['temperatura_data_final'] = ocup['data_final'].apply(lambda x: wrio.forecast(x.date(), x.date())['temperatura media'])\n",
    "ocup['clima_data_final'] = ocup['data_final'].apply(lambda x: wrio.forecast(x.date(), x.date())['clima'])\n",
    "ocup"
   ]
  },
  {
   "cell_type": "markdown",
   "metadata": {},
   "source": [
    "**Conclusão**\n",
    "<br>Apesar de ter sido em época de chuva e temperaturas baixas, o Reveillon teve uma taxa de ocupação mais alta do que no primeiro final de semana do evento Rock in Rio\n",
    "<br>O carnaval liderou a taxa de ocupação mesmo não sendo um dia considerado \"Quente\" para o cidadão Carioca\n",
    "\n",
    "**Sugestão de análise futura**\n",
    "A taxa de ocupação tem alguma correlação com a média de chamados de Perturbação do Sossego nas datas dos eventos?"
   ]
  },
  {
   "cell_type": "markdown",
   "metadata": {},
   "source": [
    "### Bairros da cidade de Rio de Janeiro"
   ]
  },
  {
   "cell_type": "markdown",
   "metadata": {},
   "source": [
    "Os códigos abaixo estão comentados para evitar o consumo desnecessário de dados no GCP"
   ]
  },
  {
   "cell_type": "code",
   "execution_count": 11,
   "metadata": {},
   "outputs": [
    {
     "name": "stdout",
     "output_type": "stream",
     "text": [
      "Downloading: 100%|\u001b[32m██████████\u001b[0m|\n"
     ]
    }
   ],
   "source": [
    "# Rodar a query apenas uma vez e salvar o dataframe como csv\n",
    "\n",
    "#query_bairro = \"SELECT * FROM datario.dados_mestres.bairro\"\n",
    "#bairro = bd.read_sql(query_bairro, billing_project_id=\"dados-rio-433111\")\n",
    "#bairro.to_csv('bairro.csv', index=False)"
   ]
  },
  {
   "cell_type": "code",
   "execution_count": 2,
   "metadata": {},
   "outputs": [],
   "source": [
    "bairro = pd.read_csv('bairro.csv')"
   ]
  },
  {
   "cell_type": "markdown",
   "metadata": {},
   "source": [
    "Colunas:\n",
    "- id_bairro | Código do bairro dado pela prefeitura do Rio de Janeiro.\n",
    "- nome | Nome do bairro\n",
    "- id_area_planejamento | Código da área de planejamento onde está localizado a região de planejamento do bairro. Ver atributo nome_regiao_planejamento.\n",
    "- id_regiao_planejamento | Código da região de planejamento onde está localizado o região administrativa do bairro. Ver atributo REGIAO_ADM.\n",
    "- nome_regiao_planejamento | Nome da região de planejamento. Deve respeitar o atributo id_regiao_planejamento.\n",
    "- id_regiao_administrativa | Código da região administrativa onde está locallizado o bairro.\n",
    "- nome_regiao_administrativa | Nome da região administrativa onde está localizado o bairro. Este atributo deve respeitar o atributo id_regiao_administrativa.\n",
    "- subprefeitura |Nome da subprefeitura a que pertence o bairro.\n",
    "- area | Área (m²) do bairro. Tem o mesmo valor do atributo SHAPE.STArea().\n",
    "- perimetro | Perímetro (m) do bairro.\n",
    "- geometry_wkt | -\n",
    "- geometry | Geometria do bairro no banco do ArcGIS."
   ]
  },
  {
   "cell_type": "code",
   "execution_count": 3,
   "metadata": {},
   "outputs": [
    {
     "data": {
      "text/html": [
       "<div>\n",
       "<style scoped>\n",
       "    .dataframe tbody tr th:only-of-type {\n",
       "        vertical-align: middle;\n",
       "    }\n",
       "\n",
       "    .dataframe tbody tr th {\n",
       "        vertical-align: top;\n",
       "    }\n",
       "\n",
       "    .dataframe thead th {\n",
       "        text-align: right;\n",
       "    }\n",
       "</style>\n",
       "<table border=\"1\" class=\"dataframe\">\n",
       "  <thead>\n",
       "    <tr style=\"text-align: right;\">\n",
       "      <th></th>\n",
       "      <th>id_bairro</th>\n",
       "      <th>nome</th>\n",
       "      <th>id_area_planejamento</th>\n",
       "      <th>id_regiao_planejamento</th>\n",
       "      <th>nome_regiao_planejamento</th>\n",
       "      <th>id_regiao_administrativa</th>\n",
       "      <th>nome_regiao_administrativa</th>\n",
       "      <th>subprefeitura</th>\n",
       "      <th>area</th>\n",
       "      <th>perimetro</th>\n",
       "      <th>geometry_wkt</th>\n",
       "      <th>geometry</th>\n",
       "    </tr>\n",
       "  </thead>\n",
       "  <tbody>\n",
       "    <tr>\n",
       "      <th>0</th>\n",
       "      <td>2</td>\n",
       "      <td>Gamboa</td>\n",
       "      <td>1</td>\n",
       "      <td>1.1</td>\n",
       "      <td>Centro</td>\n",
       "      <td>1</td>\n",
       "      <td>Portuaria</td>\n",
       "      <td>Centro</td>\n",
       "      <td>1.112903e+06</td>\n",
       "      <td>4612.833630</td>\n",
       "      <td>POLYGON ((-43.18791509600138 -22.8931217212322...</td>\n",
       "      <td>POLYGON((-43.1879150960014 -22.8931217212322, ...</td>\n",
       "    </tr>\n",
       "    <tr>\n",
       "      <th>1</th>\n",
       "      <td>1</td>\n",
       "      <td>Saúde</td>\n",
       "      <td>1</td>\n",
       "      <td>1.1</td>\n",
       "      <td>Centro</td>\n",
       "      <td>1</td>\n",
       "      <td>Portuaria</td>\n",
       "      <td>Centro</td>\n",
       "      <td>3.638176e+05</td>\n",
       "      <td>2646.220568</td>\n",
       "      <td>POLYGON ((-43.181151633502964 -22.895430284304...</td>\n",
       "      <td>POLYGON((-43.181151633503 -22.8954302843042, -...</td>\n",
       "    </tr>\n",
       "    <tr>\n",
       "      <th>2</th>\n",
       "      <td>4</td>\n",
       "      <td>Caju</td>\n",
       "      <td>1</td>\n",
       "      <td>1.1</td>\n",
       "      <td>Centro</td>\n",
       "      <td>1</td>\n",
       "      <td>Portuaria</td>\n",
       "      <td>Centro</td>\n",
       "      <td>5.347481e+06</td>\n",
       "      <td>19800.522524</td>\n",
       "      <td>MULTIPOLYGON (((-43.22522241788469 -22.8746498...</td>\n",
       "      <td>MULTIPOLYGON(((-43.196711909178 -22.8872495021...</td>\n",
       "    </tr>\n",
       "    <tr>\n",
       "      <th>3</th>\n",
       "      <td>3</td>\n",
       "      <td>Santo Cristo</td>\n",
       "      <td>1</td>\n",
       "      <td>1.1</td>\n",
       "      <td>Centro</td>\n",
       "      <td>1</td>\n",
       "      <td>Portuaria</td>\n",
       "      <td>Centro</td>\n",
       "      <td>1.684721e+06</td>\n",
       "      <td>6743.227885</td>\n",
       "      <td>POLYGON ((-43.194498082949806 -22.903378003392...</td>\n",
       "      <td>POLYGON((-43.1944980829498 -22.9033780033923, ...</td>\n",
       "    </tr>\n",
       "    <tr>\n",
       "      <th>4</th>\n",
       "      <td>161</td>\n",
       "      <td>Lapa</td>\n",
       "      <td>1</td>\n",
       "      <td>1.1</td>\n",
       "      <td>Centro</td>\n",
       "      <td>2</td>\n",
       "      <td>Centro</td>\n",
       "      <td>Centro</td>\n",
       "      <td>2.983258e+05</td>\n",
       "      <td>3849.181818</td>\n",
       "      <td>POLYGON ((-43.18166120770202 -22.9120798224676...</td>\n",
       "      <td>POLYGON((-43.181661207702 -22.9120798224677, -...</td>\n",
       "    </tr>\n",
       "  </tbody>\n",
       "</table>\n",
       "</div>"
      ],
      "text/plain": [
       "   id_bairro          nome  id_area_planejamento  id_regiao_planejamento  \\\n",
       "0          2        Gamboa                     1                     1.1   \n",
       "1          1         Saúde                     1                     1.1   \n",
       "2          4          Caju                     1                     1.1   \n",
       "3          3  Santo Cristo                     1                     1.1   \n",
       "4        161          Lapa                     1                     1.1   \n",
       "\n",
       "  nome_regiao_planejamento  id_regiao_administrativa  \\\n",
       "0                   Centro                         1   \n",
       "1                   Centro                         1   \n",
       "2                   Centro                         1   \n",
       "3                   Centro                         1   \n",
       "4                   Centro                         2   \n",
       "\n",
       "  nome_regiao_administrativa subprefeitura          area     perimetro  \\\n",
       "0                  Portuaria        Centro  1.112903e+06   4612.833630   \n",
       "1                  Portuaria        Centro  3.638176e+05   2646.220568   \n",
       "2                  Portuaria        Centro  5.347481e+06  19800.522524   \n",
       "3                  Portuaria        Centro  1.684721e+06   6743.227885   \n",
       "4                     Centro        Centro  2.983258e+05   3849.181818   \n",
       "\n",
       "                                        geometry_wkt  \\\n",
       "0  POLYGON ((-43.18791509600138 -22.8931217212322...   \n",
       "1  POLYGON ((-43.181151633502964 -22.895430284304...   \n",
       "2  MULTIPOLYGON (((-43.22522241788469 -22.8746498...   \n",
       "3  POLYGON ((-43.194498082949806 -22.903378003392...   \n",
       "4  POLYGON ((-43.18166120770202 -22.9120798224676...   \n",
       "\n",
       "                                            geometry  \n",
       "0  POLYGON((-43.1879150960014 -22.8931217212322, ...  \n",
       "1  POLYGON((-43.181151633503 -22.8954302843042, -...  \n",
       "2  MULTIPOLYGON(((-43.196711909178 -22.8872495021...  \n",
       "3  POLYGON((-43.1944980829498 -22.9033780033923, ...  \n",
       "4  POLYGON((-43.181661207702 -22.9120798224677, -...  "
      ]
     },
     "execution_count": 3,
     "metadata": {},
     "output_type": "execute_result"
    }
   ],
   "source": [
    "bairro.head()"
   ]
  },
  {
   "cell_type": "code",
   "execution_count": 4,
   "metadata": {},
   "outputs": [
    {
     "name": "stdout",
     "output_type": "stream",
     "text": [
      "<class 'pandas.core.frame.DataFrame'>\n",
      "RangeIndex: 164 entries, 0 to 163\n",
      "Data columns (total 12 columns):\n",
      " #   Column                      Non-Null Count  Dtype  \n",
      "---  ------                      --------------  -----  \n",
      " 0   id_bairro                   164 non-null    int64  \n",
      " 1   nome                        164 non-null    object \n",
      " 2   id_area_planejamento        164 non-null    int64  \n",
      " 3   id_regiao_planejamento      164 non-null    float64\n",
      " 4   nome_regiao_planejamento    164 non-null    object \n",
      " 5   id_regiao_administrativa    164 non-null    int64  \n",
      " 6   nome_regiao_administrativa  164 non-null    object \n",
      " 7   subprefeitura               164 non-null    object \n",
      " 8   area                        164 non-null    float64\n",
      " 9   perimetro                   164 non-null    float64\n",
      " 10  geometry_wkt                164 non-null    object \n",
      " 11  geometry                    164 non-null    object \n",
      "dtypes: float64(3), int64(3), object(6)\n",
      "memory usage: 15.5+ KB\n"
     ]
    }
   ],
   "source": [
    "bairro.info()"
   ]
  },
  {
   "cell_type": "markdown",
   "metadata": {},
   "source": [
    "Podemos observar que o dataset original possui 12 colunas e 164 linhas, não possui nenhum valor ausente e os tipos das Series variam entre integers, floats e strings.\n",
    "<br>As colunas geometry_wkt e geometry possuem coordenadas, mas precisam ser tratadas para que possam ser usadas.\n",
    "<br>Talvez seja possível plotar as áreas de cada bairro em um mapa"
   ]
  },
  {
   "cell_type": "markdown",
   "metadata": {},
   "source": [
    "**Subprefeituras e suas cidades**"
   ]
  },
  {
   "cell_type": "code",
   "execution_count": 5,
   "metadata": {},
   "outputs": [
    {
     "name": "stdout",
     "output_type": "stream",
     "text": [
      "Subprefeituras: 9\n",
      "subprefeitura\n",
      "Zona Norte         65\n",
      "Zona Sul           17\n",
      "Centro             16\n",
      "Ilhas              16\n",
      "Zona Oeste         12\n",
      "Grande Bangu       12\n",
      "Jacarepaguá        11\n",
      "Barra da Tijuca     8\n",
      "Grande Tijuca       7\n",
      "Name: count, dtype: int64\n"
     ]
    }
   ],
   "source": [
    "# Quantas subprefeituras únicas:\n",
    "print(f'Subprefeituras: {bairro['subprefeitura'].nunique()}')\n",
    "print(bairro['subprefeitura'].value_counts())"
   ]
  },
  {
   "cell_type": "markdown",
   "metadata": {},
   "source": [
    "**Regiões Administrativas**"
   ]
  },
  {
   "cell_type": "code",
   "execution_count": 16,
   "metadata": {},
   "outputs": [
    {
     "name": "stdout",
     "output_type": "stream",
     "text": [
      "Regiões Administrativas: 33\n",
      "nome_regiao_administrativa\n",
      "Meier                 16\n",
      "Ilha Do Governador    15\n",
      "Madureira             13\n",
      "Jacarepagua           10\n",
      "Barra Da Tijuca        8\n",
      "Botafogo               8\n",
      "Lagoa                  7\n",
      "Inhauma                6\n",
      "Iraja                  6\n",
      "Bangu                  6\n",
      "Pavuna                 6\n",
      "Realengo               6\n",
      "Campo Grande           5\n",
      "Portuaria              4\n",
      "Vila Isabel            4\n",
      "Rio Comprido           4\n",
      "Ramos                  4\n",
      "Sao Cristovao          4\n",
      "Guaratiba              4\n",
      "Vigario Geral          4\n",
      "Anchieta               4\n",
      "Santa Cruz             3\n",
      "Penha                  3\n",
      "Tijuca                 3\n",
      "Copacabana             2\n",
      "Centro                 2\n",
      "Jacarezinho            1\n",
      "Rocinha                1\n",
      "Santa Tereza           1\n",
      "Paqueta                1\n",
      "Complexo Da Mare       1\n",
      "Complexo Do Alemão     1\n",
      "Cidade De Deus         1\n",
      "Name: count, dtype: int64\n"
     ]
    }
   ],
   "source": [
    "print(f'Regiões Administrativas: {bairro['nome_regiao_administrativa'].nunique()}')\n",
    "print(bairro['nome_regiao_administrativa'].value_counts())"
   ]
  },
  {
   "cell_type": "markdown",
   "metadata": {},
   "source": [
    "**Região Planejamento**"
   ]
  },
  {
   "cell_type": "code",
   "execution_count": 36,
   "metadata": {},
   "outputs": [
    {
     "name": "stdout",
     "output_type": "stream",
     "text": [
      "Regiões Planejamento: 16\n",
      "nome_regiao_planejamento\n",
      "Madureira             19\n",
      "Zona Sul              18\n",
      "Méier                 17\n",
      "Centro                16\n",
      "Ilha do Governador    15\n",
      "Bangu                 12\n",
      "Jacarepaguá           11\n",
      "Pavuna                10\n",
      "Barra da Tijuca        8\n",
      "Penha                  7\n",
      "Tijuca                 7\n",
      "Inhaúma                7\n",
      "Ramos                  5\n",
      "Campo Grande           5\n",
      "Guaratiba              4\n",
      "Santa Cruz             3\n",
      "Name: count, dtype: int64\n"
     ]
    }
   ],
   "source": [
    "print(f'Regiões Planejamento: {bairro['nome_regiao_planejamento'].nunique()}')\n",
    "print(bairro['nome_regiao_planejamento'].value_counts())"
   ]
  },
  {
   "cell_type": "code",
   "execution_count": 42,
   "metadata": {},
   "outputs": [
    {
     "data": {
      "text/html": [
       "<div>\n",
       "<style scoped>\n",
       "    .dataframe tbody tr th:only-of-type {\n",
       "        vertical-align: middle;\n",
       "    }\n",
       "\n",
       "    .dataframe tbody tr th {\n",
       "        vertical-align: top;\n",
       "    }\n",
       "\n",
       "    .dataframe thead th {\n",
       "        text-align: right;\n",
       "    }\n",
       "</style>\n",
       "<table border=\"1\" class=\"dataframe\">\n",
       "  <thead>\n",
       "    <tr style=\"text-align: right;\">\n",
       "      <th></th>\n",
       "      <th></th>\n",
       "      <th></th>\n",
       "      <th>nome</th>\n",
       "    </tr>\n",
       "    <tr>\n",
       "      <th>subprefeitura</th>\n",
       "      <th>nome_regiao_planejamento</th>\n",
       "      <th>nome_regiao_administrativa</th>\n",
       "      <th></th>\n",
       "    </tr>\n",
       "  </thead>\n",
       "  <tbody>\n",
       "    <tr>\n",
       "      <th>Barra da Tijuca</th>\n",
       "      <th>Barra da Tijuca</th>\n",
       "      <th>Barra Da Tijuca</th>\n",
       "      <td>8</td>\n",
       "    </tr>\n",
       "    <tr>\n",
       "      <th rowspan=\"6\" valign=\"top\">Centro</th>\n",
       "      <th rowspan=\"5\" valign=\"top\">Centro</th>\n",
       "      <th>Centro</th>\n",
       "      <td>2</td>\n",
       "    </tr>\n",
       "    <tr>\n",
       "      <th>Portuaria</th>\n",
       "      <td>4</td>\n",
       "    </tr>\n",
       "    <tr>\n",
       "      <th>Rio Comprido</th>\n",
       "      <td>4</td>\n",
       "    </tr>\n",
       "    <tr>\n",
       "      <th>Santa Tereza</th>\n",
       "      <td>1</td>\n",
       "    </tr>\n",
       "    <tr>\n",
       "      <th>Sao Cristovao</th>\n",
       "      <td>4</td>\n",
       "    </tr>\n",
       "    <tr>\n",
       "      <th>Zona Sul</th>\n",
       "      <th>Botafogo</th>\n",
       "      <td>1</td>\n",
       "    </tr>\n",
       "    <tr>\n",
       "      <th rowspan=\"2\" valign=\"top\">Grande Bangu</th>\n",
       "      <th rowspan=\"2\" valign=\"top\">Bangu</th>\n",
       "      <th>Bangu</th>\n",
       "      <td>6</td>\n",
       "    </tr>\n",
       "    <tr>\n",
       "      <th>Realengo</th>\n",
       "      <td>6</td>\n",
       "    </tr>\n",
       "    <tr>\n",
       "      <th rowspan=\"2\" valign=\"top\">Grande Tijuca</th>\n",
       "      <th rowspan=\"2\" valign=\"top\">Tijuca</th>\n",
       "      <th>Tijuca</th>\n",
       "      <td>3</td>\n",
       "    </tr>\n",
       "    <tr>\n",
       "      <th>Vila Isabel</th>\n",
       "      <td>4</td>\n",
       "    </tr>\n",
       "    <tr>\n",
       "      <th rowspan=\"2\" valign=\"top\">Ilhas</th>\n",
       "      <th>Centro</th>\n",
       "      <th>Paqueta</th>\n",
       "      <td>1</td>\n",
       "    </tr>\n",
       "    <tr>\n",
       "      <th>Ilha do Governador</th>\n",
       "      <th>Ilha Do Governador</th>\n",
       "      <td>15</td>\n",
       "    </tr>\n",
       "    <tr>\n",
       "      <th rowspan=\"2\" valign=\"top\">Jacarepaguá</th>\n",
       "      <th rowspan=\"2\" valign=\"top\">Jacarepaguá</th>\n",
       "      <th>Cidade De Deus</th>\n",
       "      <td>1</td>\n",
       "    </tr>\n",
       "    <tr>\n",
       "      <th>Jacarepagua</th>\n",
       "      <td>10</td>\n",
       "    </tr>\n",
       "    <tr>\n",
       "      <th rowspan=\"12\" valign=\"top\">Zona Norte</th>\n",
       "      <th rowspan=\"2\" valign=\"top\">Inhaúma</th>\n",
       "      <th>Complexo Do Alemão</th>\n",
       "      <td>1</td>\n",
       "    </tr>\n",
       "    <tr>\n",
       "      <th>Inhauma</th>\n",
       "      <td>6</td>\n",
       "    </tr>\n",
       "    <tr>\n",
       "      <th rowspan=\"2\" valign=\"top\">Madureira</th>\n",
       "      <th>Iraja</th>\n",
       "      <td>6</td>\n",
       "    </tr>\n",
       "    <tr>\n",
       "      <th>Madureira</th>\n",
       "      <td>13</td>\n",
       "    </tr>\n",
       "    <tr>\n",
       "      <th rowspan=\"2\" valign=\"top\">Méier</th>\n",
       "      <th>Jacarezinho</th>\n",
       "      <td>1</td>\n",
       "    </tr>\n",
       "    <tr>\n",
       "      <th>Meier</th>\n",
       "      <td>16</td>\n",
       "    </tr>\n",
       "    <tr>\n",
       "      <th rowspan=\"2\" valign=\"top\">Pavuna</th>\n",
       "      <th>Anchieta</th>\n",
       "      <td>4</td>\n",
       "    </tr>\n",
       "    <tr>\n",
       "      <th>Pavuna</th>\n",
       "      <td>6</td>\n",
       "    </tr>\n",
       "    <tr>\n",
       "      <th rowspan=\"2\" valign=\"top\">Penha</th>\n",
       "      <th>Penha</th>\n",
       "      <td>3</td>\n",
       "    </tr>\n",
       "    <tr>\n",
       "      <th>Vigario Geral</th>\n",
       "      <td>4</td>\n",
       "    </tr>\n",
       "    <tr>\n",
       "      <th rowspan=\"2\" valign=\"top\">Ramos</th>\n",
       "      <th>Complexo Da Mare</th>\n",
       "      <td>1</td>\n",
       "    </tr>\n",
       "    <tr>\n",
       "      <th>Ramos</th>\n",
       "      <td>4</td>\n",
       "    </tr>\n",
       "    <tr>\n",
       "      <th rowspan=\"3\" valign=\"top\">Zona Oeste</th>\n",
       "      <th>Campo Grande</th>\n",
       "      <th>Campo Grande</th>\n",
       "      <td>5</td>\n",
       "    </tr>\n",
       "    <tr>\n",
       "      <th>Guaratiba</th>\n",
       "      <th>Guaratiba</th>\n",
       "      <td>4</td>\n",
       "    </tr>\n",
       "    <tr>\n",
       "      <th>Santa Cruz</th>\n",
       "      <th>Santa Cruz</th>\n",
       "      <td>3</td>\n",
       "    </tr>\n",
       "    <tr>\n",
       "      <th rowspan=\"4\" valign=\"top\">Zona Sul</th>\n",
       "      <th rowspan=\"4\" valign=\"top\">Zona Sul</th>\n",
       "      <th>Botafogo</th>\n",
       "      <td>7</td>\n",
       "    </tr>\n",
       "    <tr>\n",
       "      <th>Copacabana</th>\n",
       "      <td>2</td>\n",
       "    </tr>\n",
       "    <tr>\n",
       "      <th>Lagoa</th>\n",
       "      <td>7</td>\n",
       "    </tr>\n",
       "    <tr>\n",
       "      <th>Rocinha</th>\n",
       "      <td>1</td>\n",
       "    </tr>\n",
       "  </tbody>\n",
       "</table>\n",
       "</div>"
      ],
      "text/plain": [
       "                                                                     nome\n",
       "subprefeitura   nome_regiao_planejamento nome_regiao_administrativa      \n",
       "Barra da Tijuca Barra da Tijuca          Barra Da Tijuca                8\n",
       "Centro          Centro                   Centro                         2\n",
       "                                         Portuaria                      4\n",
       "                                         Rio Comprido                   4\n",
       "                                         Santa Tereza                   1\n",
       "                                         Sao Cristovao                  4\n",
       "                Zona Sul                 Botafogo                       1\n",
       "Grande Bangu    Bangu                    Bangu                          6\n",
       "                                         Realengo                       6\n",
       "Grande Tijuca   Tijuca                   Tijuca                         3\n",
       "                                         Vila Isabel                    4\n",
       "Ilhas           Centro                   Paqueta                        1\n",
       "                Ilha do Governador       Ilha Do Governador            15\n",
       "Jacarepaguá     Jacarepaguá              Cidade De Deus                 1\n",
       "                                         Jacarepagua                   10\n",
       "Zona Norte      Inhaúma                  Complexo Do Alemão             1\n",
       "                                         Inhauma                        6\n",
       "                Madureira                Iraja                          6\n",
       "                                         Madureira                     13\n",
       "                Méier                    Jacarezinho                    1\n",
       "                                         Meier                         16\n",
       "                Pavuna                   Anchieta                       4\n",
       "                                         Pavuna                         6\n",
       "                Penha                    Penha                          3\n",
       "                                         Vigario Geral                  4\n",
       "                Ramos                    Complexo Da Mare               1\n",
       "                                         Ramos                          4\n",
       "Zona Oeste      Campo Grande             Campo Grande                   5\n",
       "                Guaratiba                Guaratiba                      4\n",
       "                Santa Cruz               Santa Cruz                     3\n",
       "Zona Sul        Zona Sul                 Botafogo                       7\n",
       "                                         Copacabana                     2\n",
       "                                         Lagoa                          7\n",
       "                                         Rocinha                        1"
      ]
     },
     "execution_count": 42,
     "metadata": {},
     "output_type": "execute_result"
    }
   ],
   "source": [
    "#bairro.groupby(['nome_regiao_administrativa', 'nome_regiao_planejamento', 'subprefeitura']).agg({'nome':'count'})\n",
    "distribuicao = bairro.groupby(['subprefeitura','nome_regiao_planejamento','nome_regiao_administrativa']).agg({'nome':'count'})\n",
    "\n",
    "distribuicao"
   ]
  },
  {
   "cell_type": "markdown",
   "metadata": {},
   "source": [
    "#### Distribuição Geográfica e Tamanho:"
   ]
  },
  {
   "cell_type": "markdown",
   "metadata": {},
   "source": [
    "**Quais são os bairros com as maiores e menores áreas?**\n"
   ]
  },
  {
   "cell_type": "code",
   "execution_count": 6,
   "metadata": {},
   "outputs": [
    {
     "data": {
      "text/html": [
       "<div>\n",
       "<style scoped>\n",
       "    .dataframe tbody tr th:only-of-type {\n",
       "        vertical-align: middle;\n",
       "    }\n",
       "\n",
       "    .dataframe tbody tr th {\n",
       "        vertical-align: top;\n",
       "    }\n",
       "\n",
       "    .dataframe thead th {\n",
       "        text-align: right;\n",
       "    }\n",
       "</style>\n",
       "<table border=\"1\" class=\"dataframe\">\n",
       "  <thead>\n",
       "    <tr style=\"text-align: right;\">\n",
       "      <th></th>\n",
       "      <th>nome</th>\n",
       "      <th>subprefeitura</th>\n",
       "      <th>area</th>\n",
       "    </tr>\n",
       "  </thead>\n",
       "  <tbody>\n",
       "    <tr>\n",
       "      <th>114</th>\n",
       "      <td>Zumbi</td>\n",
       "      <td>Ilhas</td>\n",
       "      <td>161117.78418</td>\n",
       "    </tr>\n",
       "  </tbody>\n",
       "</table>\n",
       "</div>"
      ],
      "text/plain": [
       "      nome subprefeitura          area\n",
       "114  Zumbi         Ilhas  161117.78418"
      ]
     },
     "execution_count": 6,
     "metadata": {},
     "output_type": "execute_result"
    }
   ],
   "source": [
    "bairro[bairro['area'] == bairro['area'].min()][['nome', 'subprefeitura', 'area']]"
   ]
  },
  {
   "cell_type": "code",
   "execution_count": 7,
   "metadata": {},
   "outputs": [
    {
     "data": {
      "text/html": [
       "<div>\n",
       "<style scoped>\n",
       "    .dataframe tbody tr th:only-of-type {\n",
       "        vertical-align: middle;\n",
       "    }\n",
       "\n",
       "    .dataframe tbody tr th {\n",
       "        vertical-align: top;\n",
       "    }\n",
       "\n",
       "    .dataframe thead th {\n",
       "        text-align: right;\n",
       "    }\n",
       "</style>\n",
       "<table border=\"1\" class=\"dataframe\">\n",
       "  <thead>\n",
       "    <tr style=\"text-align: right;\">\n",
       "      <th></th>\n",
       "      <th>nome</th>\n",
       "      <th>subprefeitura</th>\n",
       "      <th>area</th>\n",
       "    </tr>\n",
       "  </thead>\n",
       "  <tbody>\n",
       "    <tr>\n",
       "      <th>162</th>\n",
       "      <td>Guaratiba</td>\n",
       "      <td>Zona Oeste</td>\n",
       "      <td>1.317866e+08</td>\n",
       "    </tr>\n",
       "  </tbody>\n",
       "</table>\n",
       "</div>"
      ],
      "text/plain": [
       "          nome subprefeitura          area\n",
       "162  Guaratiba    Zona Oeste  1.317866e+08"
      ]
     },
     "execution_count": 7,
     "metadata": {},
     "output_type": "execute_result"
    }
   ],
   "source": [
    "bairro[bairro['area'] == bairro['area'].max()][['nome', 'subprefeitura', 'area']]"
   ]
  },
  {
   "cell_type": "markdown",
   "metadata": {},
   "source": [
    "**Como as áreas dos bairros estão distribuídas? Existe uma correlação entre área e perímetro?**"
   ]
  },
  {
   "cell_type": "code",
   "execution_count": 29,
   "metadata": {},
   "outputs": [
    {
     "data": {
      "application/vnd.plotly.v1+json": {
       "config": {
        "plotlyServerURL": "https://plot.ly"
       },
       "data": [
        {
         "alignmentgroup": "True",
         "boxpoints": "all",
         "customdata": [
          [
           "Gamboa",
           "Centro",
           "Portuaria"
          ],
          [
           "Saúde",
           "Centro",
           "Portuaria"
          ],
          [
           "Caju",
           "Centro",
           "Portuaria"
          ],
          [
           "Santo Cristo",
           "Centro",
           "Portuaria"
          ],
          [
           "Lapa",
           "Centro",
           "Centro"
          ],
          [
           "Centro",
           "Centro",
           "Centro"
          ],
          [
           "Estácio",
           "Centro",
           "Rio Comprido"
          ],
          [
           "Rio Comprido",
           "Centro",
           "Rio Comprido"
          ],
          [
           "Cidade Nova",
           "Centro",
           "Rio Comprido"
          ],
          [
           "Catumbi",
           "Centro",
           "Rio Comprido"
          ],
          [
           "Mangueira",
           "Centro",
           "Sao Cristovao"
          ],
          [
           "Benfica",
           "Centro",
           "Sao Cristovao"
          ],
          [
           "Vasco da Gama",
           "Centro",
           "Sao Cristovao"
          ],
          [
           "São Cristóvão",
           "Centro",
           "Sao Cristovao"
          ],
          [
           "Paquetá",
           "Ilhas",
           "Paqueta"
          ],
          [
           "Santa Teresa",
           "Centro",
           "Santa Tereza"
          ],
          [
           "Catete",
           "Zona Sul",
           "Botafogo"
          ],
          [
           "Flamengo",
           "Zona Sul",
           "Botafogo"
          ],
          [
           "Botafogo",
           "Zona Sul",
           "Botafogo"
          ],
          [
           "Humaitá",
           "Zona Sul",
           "Botafogo"
          ],
          [
           "Glória",
           "Centro",
           "Botafogo"
          ],
          [
           "Cosme Velho",
           "Zona Sul",
           "Botafogo"
          ],
          [
           "Urca",
           "Zona Sul",
           "Botafogo"
          ],
          [
           "Laranjeiras",
           "Zona Sul",
           "Botafogo"
          ],
          [
           "Leme",
           "Zona Sul",
           "Copacabana"
          ],
          [
           "Copacabana",
           "Zona Sul",
           "Copacabana"
          ],
          [
           "Vidigal",
           "Zona Sul",
           "Lagoa"
          ],
          [
           "Ipanema",
           "Zona Sul",
           "Lagoa"
          ],
          [
           "São Conrado",
           "Zona Sul",
           "Lagoa"
          ],
          [
           "Gávea",
           "Zona Sul",
           "Lagoa"
          ],
          [
           "Lagoa",
           "Zona Sul",
           "Lagoa"
          ],
          [
           "Jardim Botânico",
           "Zona Sul",
           "Lagoa"
          ],
          [
           "Leblon",
           "Zona Sul",
           "Lagoa"
          ],
          [
           "Rocinha",
           "Zona Sul",
           "Rocinha"
          ],
          [
           "Tijuca",
           "Grande Tijuca",
           "Tijuca"
          ],
          [
           "Alto da Boa Vista",
           "Grande Tijuca",
           "Tijuca"
          ],
          [
           "Praça da Bandeira",
           "Grande Tijuca",
           "Tijuca"
          ],
          [
           "Grajaú",
           "Grande Tijuca",
           "Vila Isabel"
          ],
          [
           "Maracanã",
           "Grande Tijuca",
           "Vila Isabel"
          ],
          [
           "Vila Isabel",
           "Grande Tijuca",
           "Vila Isabel"
          ],
          [
           "Andaraí",
           "Grande Tijuca",
           "Vila Isabel"
          ],
          [
           "Olaria",
           "Zona Norte",
           "Ramos"
          ],
          [
           "Bonsucesso",
           "Zona Norte",
           "Ramos"
          ],
          [
           "Manguinhos",
           "Zona Norte",
           "Ramos"
          ],
          [
           "Ramos",
           "Zona Norte",
           "Ramos"
          ],
          [
           "Maré",
           "Zona Norte",
           "Complexo Da Mare"
          ],
          [
           "Engenho Novo",
           "Zona Norte",
           "Meier"
          ],
          [
           "Lins de Vasconcelos",
           "Zona Norte",
           "Meier"
          ],
          [
           "Riachuelo",
           "Zona Norte",
           "Meier"
          ],
          [
           "Rocha",
           "Zona Norte",
           "Meier"
          ],
          [
           "Pilares",
           "Zona Norte",
           "Meier"
          ],
          [
           "Engenho de Dentro",
           "Zona Norte",
           "Meier"
          ],
          [
           "Sampaio",
           "Zona Norte",
           "Meier"
          ],
          [
           "Méier",
           "Zona Norte",
           "Meier"
          ],
          [
           "Abolição",
           "Zona Norte",
           "Meier"
          ],
          [
           "São Francisco Xavier",
           "Zona Norte",
           "Meier"
          ],
          [
           "Encantado",
           "Zona Norte",
           "Meier"
          ],
          [
           "Água Santa",
           "Zona Norte",
           "Meier"
          ],
          [
           "Jacaré",
           "Zona Norte",
           "Meier"
          ],
          [
           "Piedade",
           "Zona Norte",
           "Meier"
          ],
          [
           "Todos os Santos",
           "Zona Norte",
           "Meier"
          ],
          [
           "Cachambi",
           "Zona Norte",
           "Meier"
          ],
          [
           "Jacarezinho",
           "Zona Norte",
           "Jacarezinho"
          ],
          [
           "Colégio",
           "Zona Norte",
           "Iraja"
          ],
          [
           "Vila da Penha",
           "Zona Norte",
           "Iraja"
          ],
          [
           "Vicente de Carvalho",
           "Zona Norte",
           "Iraja"
          ],
          [
           "Vila Kosmos",
           "Zona Norte",
           "Iraja"
          ],
          [
           "Irajá",
           "Zona Norte",
           "Iraja"
          ],
          [
           "Vista Alegre",
           "Zona Norte",
           "Iraja"
          ],
          [
           "Campinho",
           "Zona Norte",
           "Madureira"
          ],
          [
           "Cavalcanti",
           "Zona Norte",
           "Madureira"
          ],
          [
           "Rocha Miranda",
           "Zona Norte",
           "Madureira"
          ],
          [
           "Honório Gurgel",
           "Zona Norte",
           "Madureira"
          ],
          [
           "Turiaçú",
           "Zona Norte",
           "Madureira"
          ],
          [
           "Marechal Hermes",
           "Zona Norte",
           "Madureira"
          ],
          [
           "Osvaldo Cruz",
           "Zona Norte",
           "Madureira"
          ],
          [
           "Engenheiro Leal",
           "Zona Norte",
           "Madureira"
          ],
          [
           "Quintino Bocaiúva",
           "Zona Norte",
           "Madureira"
          ],
          [
           "Madureira",
           "Zona Norte",
           "Madureira"
          ],
          [
           "Vaz Lobo",
           "Zona Norte",
           "Madureira"
          ],
          [
           "Bento Ribeiro",
           "Zona Norte",
           "Madureira"
          ],
          [
           "Cascadura",
           "Zona Norte",
           "Madureira"
          ],
          [
           "Del Castilho",
           "Zona Norte",
           "Inhauma"
          ],
          [
           "Inhaúma",
           "Zona Norte",
           "Inhauma"
          ],
          [
           "Higienópolis",
           "Zona Norte",
           "Inhauma"
          ],
          [
           "Tomás Coelho",
           "Zona Norte",
           "Inhauma"
          ],
          [
           "Engenho da Rainha",
           "Zona Norte",
           "Inhauma"
          ],
          [
           "Maria da Graça",
           "Zona Norte",
           "Inhauma"
          ],
          [
           "Complexo do Alemão",
           "Zona Norte",
           "Complexo Do Alemão"
          ],
          [
           "Penha Circular",
           "Zona Norte",
           "Penha"
          ],
          [
           "Brás de Pina",
           "Zona Norte",
           "Penha"
          ],
          [
           "Penha",
           "Zona Norte",
           "Penha"
          ],
          [
           "Vigário Geral",
           "Zona Norte",
           "Vigario Geral"
          ],
          [
           "Jardim América",
           "Zona Norte",
           "Vigario Geral"
          ],
          [
           "Cordovil",
           "Zona Norte",
           "Vigario Geral"
          ],
          [
           "Parada de Lucas",
           "Zona Norte",
           "Vigario Geral"
          ],
          [
           "Guadalupe",
           "Zona Norte",
           "Anchieta"
          ],
          [
           "Ricardo de Albuquerque",
           "Zona Norte",
           "Anchieta"
          ],
          [
           "Anchieta",
           "Zona Norte",
           "Anchieta"
          ],
          [
           "Parque Anchieta",
           "Zona Norte",
           "Anchieta"
          ],
          [
           "Acari",
           "Zona Norte",
           "Pavuna"
          ],
          [
           "Parque Colúmbia",
           "Zona Norte",
           "Pavuna"
          ],
          [
           "Coelho Neto",
           "Zona Norte",
           "Pavuna"
          ],
          [
           "Costa Barros",
           "Zona Norte",
           "Pavuna"
          ],
          [
           "Barros Filho",
           "Zona Norte",
           "Pavuna"
          ],
          [
           "Pavuna",
           "Zona Norte",
           "Pavuna"
          ],
          [
           "Portuguesa",
           "Ilhas",
           "Ilha Do Governador"
          ],
          [
           "Ribeira",
           "Ilhas",
           "Ilha Do Governador"
          ],
          [
           "Cacuia",
           "Ilhas",
           "Ilha Do Governador"
          ],
          [
           "Jardim Carioca",
           "Ilhas",
           "Ilha Do Governador"
          ],
          [
           "Tauá",
           "Ilhas",
           "Ilha Do Governador"
          ],
          [
           "Praia da Bandeira",
           "Ilhas",
           "Ilha Do Governador"
          ],
          [
           "Bancários",
           "Ilhas",
           "Ilha Do Governador"
          ],
          [
           "Pitangueiras",
           "Ilhas",
           "Ilha Do Governador"
          ],
          [
           "Zumbi",
           "Ilhas",
           "Ilha Do Governador"
          ],
          [
           "Freguesia (Ilha)",
           "Ilhas",
           "Ilha Do Governador"
          ],
          [
           "Galeão",
           "Ilhas",
           "Ilha Do Governador"
          ],
          [
           "Cidade Universitária",
           "Ilhas",
           "Ilha Do Governador"
          ],
          [
           "Moneró",
           "Ilhas",
           "Ilha Do Governador"
          ],
          [
           "Cocotá",
           "Ilhas",
           "Ilha Do Governador"
          ],
          [
           "Jardim Guanabara",
           "Ilhas",
           "Ilha Do Governador"
          ],
          [
           "Praça Seca",
           "Jacarepaguá",
           "Jacarepagua"
          ],
          [
           "Tanque",
           "Jacarepaguá",
           "Jacarepagua"
          ],
          [
           "Taquara",
           "Jacarepaguá",
           "Jacarepagua"
          ],
          [
           "Curicica",
           "Jacarepaguá",
           "Jacarepagua"
          ],
          [
           "Anil",
           "Jacarepaguá",
           "Jacarepagua"
          ],
          [
           "Pechincha",
           "Jacarepaguá",
           "Jacarepagua"
          ],
          [
           "Vila Valqueire",
           "Jacarepaguá",
           "Jacarepagua"
          ],
          [
           "Gardênia Azul",
           "Jacarepaguá",
           "Jacarepagua"
          ],
          [
           "Freguesia (Jacarepaguá)",
           "Jacarepaguá",
           "Jacarepagua"
          ],
          [
           "Jacarepaguá",
           "Jacarepaguá",
           "Jacarepagua"
          ],
          [
           "Cidade de Deus",
           "Jacarepaguá",
           "Cidade De Deus"
          ],
          [
           "Itanhangá",
           "Barra da Tijuca",
           "Barra Da Tijuca"
          ],
          [
           "Vargem Grande",
           "Barra da Tijuca",
           "Barra Da Tijuca"
          ],
          [
           "Recreio dos Bandeirantes",
           "Barra da Tijuca",
           "Barra Da Tijuca"
          ],
          [
           "Camorim",
           "Barra da Tijuca",
           "Barra Da Tijuca"
          ],
          [
           "Barra da Tijuca",
           "Barra da Tijuca",
           "Barra Da Tijuca"
          ],
          [
           "Vargem Pequena",
           "Barra da Tijuca",
           "Barra Da Tijuca"
          ],
          [
           "Joá",
           "Barra da Tijuca",
           "Barra Da Tijuca"
          ],
          [
           "Grumari",
           "Barra da Tijuca",
           "Barra Da Tijuca"
          ],
          [
           "Vila Kennedy",
           "Grande Bangu",
           "Bangu"
          ],
          [
           "Senador Camará",
           "Grande Bangu",
           "Bangu"
          ],
          [
           "Gericinó",
           "Grande Bangu",
           "Bangu"
          ],
          [
           "Padre Miguel",
           "Grande Bangu",
           "Bangu"
          ],
          [
           "Jabour",
           "Grande Bangu",
           "Bangu"
          ],
          [
           "Bangu",
           "Grande Bangu",
           "Bangu"
          ],
          [
           "Magalhães Bastos",
           "Grande Bangu",
           "Realengo"
          ],
          [
           "Deodoro",
           "Grande Bangu",
           "Realengo"
          ],
          [
           "Jardim Sulacap",
           "Grande Bangu",
           "Realengo"
          ],
          [
           "Vila Militar",
           "Grande Bangu",
           "Realengo"
          ],
          [
           "Realengo",
           "Grande Bangu",
           "Realengo"
          ],
          [
           "Campo dos Afonsos",
           "Grande Bangu",
           "Realengo"
          ],
          [
           "Campo Grande",
           "Zona Oeste",
           "Campo Grande"
          ],
          [
           "Senador Vasconcelos",
           "Zona Oeste",
           "Campo Grande"
          ],
          [
           "Cosmos",
           "Zona Oeste",
           "Campo Grande"
          ],
          [
           "Santíssimo",
           "Zona Oeste",
           "Campo Grande"
          ],
          [
           "Inhoaíba",
           "Zona Oeste",
           "Campo Grande"
          ],
          [
           "Santa Cruz",
           "Zona Oeste",
           "Santa Cruz"
          ],
          [
           "Paciência",
           "Zona Oeste",
           "Santa Cruz"
          ],
          [
           "Sepetiba",
           "Zona Oeste",
           "Santa Cruz"
          ],
          [
           "Barra de Guaratiba",
           "Zona Oeste",
           "Guaratiba"
          ],
          [
           "Ilha de Guaratiba",
           "Zona Oeste",
           "Guaratiba"
          ],
          [
           "Guaratiba",
           "Zona Oeste",
           "Guaratiba"
          ],
          [
           "Pedra de Guaratiba",
           "Zona Oeste",
           "Guaratiba"
          ]
         ],
         "fillcolor": "rgba(255,255,255,0)",
         "hoveron": "points",
         "hovertemplate": "area=%{y}<br>nome=%{customdata[0]}<br>subprefeitura=%{customdata[1]}<br>nome_regiao_administrativa=%{customdata[2]}<extra></extra>",
         "legendgroup": "",
         "line": {
          "color": "rgba(255,255,255,0)"
         },
         "marker": {
          "color": "#636efa"
         },
         "name": "",
         "offsetgroup": "",
         "orientation": "v",
         "pointpos": 0,
         "showlegend": false,
         "type": "box",
         "x0": " ",
         "xaxis": "x",
         "y": [
          1112902.74121094,
          363817.62255859,
          5347480.57666016,
          1684720.66113281,
          298325.82470703,
          5424739.1953125,
          980400.66503906,
          3342510.64160156,
          934852.88378906,
          539458.4418945301,
          798128.92089844,
          1736412.8076171898,
          863074.53808594,
          4105643.88916016,
          1705684.50390625,
          5157128.513671881,
          681026.73291016,
          1646253.58740234,
          4798955.831542971,
          1054475.31884766,
          1140065.48193359,
          892540.06591797,
          2319001.83740234,
          2493507.37158203,
          977199.05126953,
          4100850.171875,
          1621377.8681640602,
          3084907.22021484,
          6488565.79443359,
          2579636.59130859,
          5109893.287109381,
          2689203.73388672,
          2153095.9453125,
          1437194.75585938,
          10065558.49267578,
          31495676.00878906,
          719909.69824219,
          5739104.51953125,
          1667302.203125,
          3217125.9003906297,
          2261300.484375,
          3689833.24707031,
          2199716.17089844,
          2618351.22753906,
          2793533,
          4268761.30273438,
          2644847.10009766,
          2669197.55273438,
          928108.49707031,
          1311625.6000976602,
          1836420.02978516,
          3920440.57421875,
          884408.47705078,
          2470933.15234375,
          616332.65332031,
          648907.60009766,
          1060146.1748046898,
          2426231.83935547,
          842565.64208984,
          3887100.34375,
          1012635.96728516,
          2250159.74560547,
          943874.10644531,
          2261110.26855469,
          1435715.75537109,
          1835710.64990234,
          1519254.12988281,
          7477839.76953125,
          515209.05175781,
          984510.43115234,
          1924149.28466797,
          2886705.52392578,
          1374847.05664063,
          1255809.62109375,
          3886225.66064453,
          2071126.77880859,
          708274.3046875,
          4323794.68115234,
          3787613.32128906,
          1101220.96240234,
          3037846.62695313,
          2838970.70166016,
          1440914.46484375,
          3485274.29931641,
          1157472.79248047,
          1747526.4858398398,
          2225644.96826172,
          824989.74072266,
          2960855.18457031,
          4623381.89599609,
          3522221.85253906,
          5811323.138671881,
          3385308.03125,
          1973968.44726563,
          3856801.0668945294,
          2197968.69482422,
          3820007.67333984,
          2116869.79931641,
          4345726.97900391,
          3905790.00732422,
          1605524.3203125,
          1517134.46630859,
          2511970.33837891,
          1814831.70556641,
          1723864.3334960898,
          8311405.5546875,
          1186409.43945313,
          861924.82275391,
          2068686.08105469,
          1621126.1884765602,
          1672545.7509765602,
          379405.89892578,
          978046.54248047,
          604129.7749023399,
          161117.78417969,
          4056402.76611328,
          18957422.15185547,
          4690706.469726561,
          520557.46679688,
          490102.43017578,
          3205882.07080078,
          6499977.50927734,
          5567990.09863281,
          13206630.09667969,
          3339565.5786132803,
          3500410.67089844,
          2830915.62158203,
          4232214.787109381,
          1236291.52294922,
          10328406.11181641,
          75796482.33105469,
          1273024.81640625,
          13197726.20361328,
          39380382.52197267,
          30655624.23681641,
          8859905.68505859,
          48150630.06591797,
          14438294.698242191,
          1689691.29736328,
          9598826.27539063,
          1473737.29589844,
          16908604.956542972,
          2534304.16845703,
          4865791.84277344,
          327327.08300781,
          35966196.700195305,
          1975949.31054688,
          4640511.10009766,
          7869204.28027344,
          10756709.42382813,
          26054198.06884766,
          3252292.92871094,
          104445147.6875,
          6441769.125,
          11261318.89306641,
          8319614.02734375,
          8287883.104492189,
          125044295.35205078,
          27417970.83300781,
          11621300.01464844,
          9442030.42529297,
          7714616.09516844,
          131786592.9921875,
          3636912.25195313
         ],
         "y0": " ",
         "yaxis": "y"
        }
       ],
       "layout": {
        "boxmode": "group",
        "legend": {
         "tracegroupgap": 0
        },
        "margin": {
         "t": 60
        },
        "template": {
         "data": {
          "bar": [
           {
            "error_x": {
             "color": "#2a3f5f"
            },
            "error_y": {
             "color": "#2a3f5f"
            },
            "marker": {
             "line": {
              "color": "#E5ECF6",
              "width": 0.5
             },
             "pattern": {
              "fillmode": "overlay",
              "size": 10,
              "solidity": 0.2
             }
            },
            "type": "bar"
           }
          ],
          "barpolar": [
           {
            "marker": {
             "line": {
              "color": "#E5ECF6",
              "width": 0.5
             },
             "pattern": {
              "fillmode": "overlay",
              "size": 10,
              "solidity": 0.2
             }
            },
            "type": "barpolar"
           }
          ],
          "carpet": [
           {
            "aaxis": {
             "endlinecolor": "#2a3f5f",
             "gridcolor": "white",
             "linecolor": "white",
             "minorgridcolor": "white",
             "startlinecolor": "#2a3f5f"
            },
            "baxis": {
             "endlinecolor": "#2a3f5f",
             "gridcolor": "white",
             "linecolor": "white",
             "minorgridcolor": "white",
             "startlinecolor": "#2a3f5f"
            },
            "type": "carpet"
           }
          ],
          "choropleth": [
           {
            "colorbar": {
             "outlinewidth": 0,
             "ticks": ""
            },
            "type": "choropleth"
           }
          ],
          "contour": [
           {
            "colorbar": {
             "outlinewidth": 0,
             "ticks": ""
            },
            "colorscale": [
             [
              0,
              "#0d0887"
             ],
             [
              0.1111111111111111,
              "#46039f"
             ],
             [
              0.2222222222222222,
              "#7201a8"
             ],
             [
              0.3333333333333333,
              "#9c179e"
             ],
             [
              0.4444444444444444,
              "#bd3786"
             ],
             [
              0.5555555555555556,
              "#d8576b"
             ],
             [
              0.6666666666666666,
              "#ed7953"
             ],
             [
              0.7777777777777778,
              "#fb9f3a"
             ],
             [
              0.8888888888888888,
              "#fdca26"
             ],
             [
              1,
              "#f0f921"
             ]
            ],
            "type": "contour"
           }
          ],
          "contourcarpet": [
           {
            "colorbar": {
             "outlinewidth": 0,
             "ticks": ""
            },
            "type": "contourcarpet"
           }
          ],
          "heatmap": [
           {
            "colorbar": {
             "outlinewidth": 0,
             "ticks": ""
            },
            "colorscale": [
             [
              0,
              "#0d0887"
             ],
             [
              0.1111111111111111,
              "#46039f"
             ],
             [
              0.2222222222222222,
              "#7201a8"
             ],
             [
              0.3333333333333333,
              "#9c179e"
             ],
             [
              0.4444444444444444,
              "#bd3786"
             ],
             [
              0.5555555555555556,
              "#d8576b"
             ],
             [
              0.6666666666666666,
              "#ed7953"
             ],
             [
              0.7777777777777778,
              "#fb9f3a"
             ],
             [
              0.8888888888888888,
              "#fdca26"
             ],
             [
              1,
              "#f0f921"
             ]
            ],
            "type": "heatmap"
           }
          ],
          "heatmapgl": [
           {
            "colorbar": {
             "outlinewidth": 0,
             "ticks": ""
            },
            "colorscale": [
             [
              0,
              "#0d0887"
             ],
             [
              0.1111111111111111,
              "#46039f"
             ],
             [
              0.2222222222222222,
              "#7201a8"
             ],
             [
              0.3333333333333333,
              "#9c179e"
             ],
             [
              0.4444444444444444,
              "#bd3786"
             ],
             [
              0.5555555555555556,
              "#d8576b"
             ],
             [
              0.6666666666666666,
              "#ed7953"
             ],
             [
              0.7777777777777778,
              "#fb9f3a"
             ],
             [
              0.8888888888888888,
              "#fdca26"
             ],
             [
              1,
              "#f0f921"
             ]
            ],
            "type": "heatmapgl"
           }
          ],
          "histogram": [
           {
            "marker": {
             "pattern": {
              "fillmode": "overlay",
              "size": 10,
              "solidity": 0.2
             }
            },
            "type": "histogram"
           }
          ],
          "histogram2d": [
           {
            "colorbar": {
             "outlinewidth": 0,
             "ticks": ""
            },
            "colorscale": [
             [
              0,
              "#0d0887"
             ],
             [
              0.1111111111111111,
              "#46039f"
             ],
             [
              0.2222222222222222,
              "#7201a8"
             ],
             [
              0.3333333333333333,
              "#9c179e"
             ],
             [
              0.4444444444444444,
              "#bd3786"
             ],
             [
              0.5555555555555556,
              "#d8576b"
             ],
             [
              0.6666666666666666,
              "#ed7953"
             ],
             [
              0.7777777777777778,
              "#fb9f3a"
             ],
             [
              0.8888888888888888,
              "#fdca26"
             ],
             [
              1,
              "#f0f921"
             ]
            ],
            "type": "histogram2d"
           }
          ],
          "histogram2dcontour": [
           {
            "colorbar": {
             "outlinewidth": 0,
             "ticks": ""
            },
            "colorscale": [
             [
              0,
              "#0d0887"
             ],
             [
              0.1111111111111111,
              "#46039f"
             ],
             [
              0.2222222222222222,
              "#7201a8"
             ],
             [
              0.3333333333333333,
              "#9c179e"
             ],
             [
              0.4444444444444444,
              "#bd3786"
             ],
             [
              0.5555555555555556,
              "#d8576b"
             ],
             [
              0.6666666666666666,
              "#ed7953"
             ],
             [
              0.7777777777777778,
              "#fb9f3a"
             ],
             [
              0.8888888888888888,
              "#fdca26"
             ],
             [
              1,
              "#f0f921"
             ]
            ],
            "type": "histogram2dcontour"
           }
          ],
          "mesh3d": [
           {
            "colorbar": {
             "outlinewidth": 0,
             "ticks": ""
            },
            "type": "mesh3d"
           }
          ],
          "parcoords": [
           {
            "line": {
             "colorbar": {
              "outlinewidth": 0,
              "ticks": ""
             }
            },
            "type": "parcoords"
           }
          ],
          "pie": [
           {
            "automargin": true,
            "type": "pie"
           }
          ],
          "scatter": [
           {
            "fillpattern": {
             "fillmode": "overlay",
             "size": 10,
             "solidity": 0.2
            },
            "type": "scatter"
           }
          ],
          "scatter3d": [
           {
            "line": {
             "colorbar": {
              "outlinewidth": 0,
              "ticks": ""
             }
            },
            "marker": {
             "colorbar": {
              "outlinewidth": 0,
              "ticks": ""
             }
            },
            "type": "scatter3d"
           }
          ],
          "scattercarpet": [
           {
            "marker": {
             "colorbar": {
              "outlinewidth": 0,
              "ticks": ""
             }
            },
            "type": "scattercarpet"
           }
          ],
          "scattergeo": [
           {
            "marker": {
             "colorbar": {
              "outlinewidth": 0,
              "ticks": ""
             }
            },
            "type": "scattergeo"
           }
          ],
          "scattergl": [
           {
            "marker": {
             "colorbar": {
              "outlinewidth": 0,
              "ticks": ""
             }
            },
            "type": "scattergl"
           }
          ],
          "scattermapbox": [
           {
            "marker": {
             "colorbar": {
              "outlinewidth": 0,
              "ticks": ""
             }
            },
            "type": "scattermapbox"
           }
          ],
          "scatterpolar": [
           {
            "marker": {
             "colorbar": {
              "outlinewidth": 0,
              "ticks": ""
             }
            },
            "type": "scatterpolar"
           }
          ],
          "scatterpolargl": [
           {
            "marker": {
             "colorbar": {
              "outlinewidth": 0,
              "ticks": ""
             }
            },
            "type": "scatterpolargl"
           }
          ],
          "scatterternary": [
           {
            "marker": {
             "colorbar": {
              "outlinewidth": 0,
              "ticks": ""
             }
            },
            "type": "scatterternary"
           }
          ],
          "surface": [
           {
            "colorbar": {
             "outlinewidth": 0,
             "ticks": ""
            },
            "colorscale": [
             [
              0,
              "#0d0887"
             ],
             [
              0.1111111111111111,
              "#46039f"
             ],
             [
              0.2222222222222222,
              "#7201a8"
             ],
             [
              0.3333333333333333,
              "#9c179e"
             ],
             [
              0.4444444444444444,
              "#bd3786"
             ],
             [
              0.5555555555555556,
              "#d8576b"
             ],
             [
              0.6666666666666666,
              "#ed7953"
             ],
             [
              0.7777777777777778,
              "#fb9f3a"
             ],
             [
              0.8888888888888888,
              "#fdca26"
             ],
             [
              1,
              "#f0f921"
             ]
            ],
            "type": "surface"
           }
          ],
          "table": [
           {
            "cells": {
             "fill": {
              "color": "#EBF0F8"
             },
             "line": {
              "color": "white"
             }
            },
            "header": {
             "fill": {
              "color": "#C8D4E3"
             },
             "line": {
              "color": "white"
             }
            },
            "type": "table"
           }
          ]
         },
         "layout": {
          "annotationdefaults": {
           "arrowcolor": "#2a3f5f",
           "arrowhead": 0,
           "arrowwidth": 1
          },
          "autotypenumbers": "strict",
          "coloraxis": {
           "colorbar": {
            "outlinewidth": 0,
            "ticks": ""
           }
          },
          "colorscale": {
           "diverging": [
            [
             0,
             "#8e0152"
            ],
            [
             0.1,
             "#c51b7d"
            ],
            [
             0.2,
             "#de77ae"
            ],
            [
             0.3,
             "#f1b6da"
            ],
            [
             0.4,
             "#fde0ef"
            ],
            [
             0.5,
             "#f7f7f7"
            ],
            [
             0.6,
             "#e6f5d0"
            ],
            [
             0.7,
             "#b8e186"
            ],
            [
             0.8,
             "#7fbc41"
            ],
            [
             0.9,
             "#4d9221"
            ],
            [
             1,
             "#276419"
            ]
           ],
           "sequential": [
            [
             0,
             "#0d0887"
            ],
            [
             0.1111111111111111,
             "#46039f"
            ],
            [
             0.2222222222222222,
             "#7201a8"
            ],
            [
             0.3333333333333333,
             "#9c179e"
            ],
            [
             0.4444444444444444,
             "#bd3786"
            ],
            [
             0.5555555555555556,
             "#d8576b"
            ],
            [
             0.6666666666666666,
             "#ed7953"
            ],
            [
             0.7777777777777778,
             "#fb9f3a"
            ],
            [
             0.8888888888888888,
             "#fdca26"
            ],
            [
             1,
             "#f0f921"
            ]
           ],
           "sequentialminus": [
            [
             0,
             "#0d0887"
            ],
            [
             0.1111111111111111,
             "#46039f"
            ],
            [
             0.2222222222222222,
             "#7201a8"
            ],
            [
             0.3333333333333333,
             "#9c179e"
            ],
            [
             0.4444444444444444,
             "#bd3786"
            ],
            [
             0.5555555555555556,
             "#d8576b"
            ],
            [
             0.6666666666666666,
             "#ed7953"
            ],
            [
             0.7777777777777778,
             "#fb9f3a"
            ],
            [
             0.8888888888888888,
             "#fdca26"
            ],
            [
             1,
             "#f0f921"
            ]
           ]
          },
          "colorway": [
           "#636efa",
           "#EF553B",
           "#00cc96",
           "#ab63fa",
           "#FFA15A",
           "#19d3f3",
           "#FF6692",
           "#B6E880",
           "#FF97FF",
           "#FECB52"
          ],
          "font": {
           "color": "#2a3f5f"
          },
          "geo": {
           "bgcolor": "white",
           "lakecolor": "white",
           "landcolor": "#E5ECF6",
           "showlakes": true,
           "showland": true,
           "subunitcolor": "white"
          },
          "hoverlabel": {
           "align": "left"
          },
          "hovermode": "closest",
          "mapbox": {
           "style": "light"
          },
          "paper_bgcolor": "white",
          "plot_bgcolor": "#E5ECF6",
          "polar": {
           "angularaxis": {
            "gridcolor": "white",
            "linecolor": "white",
            "ticks": ""
           },
           "bgcolor": "#E5ECF6",
           "radialaxis": {
            "gridcolor": "white",
            "linecolor": "white",
            "ticks": ""
           }
          },
          "scene": {
           "xaxis": {
            "backgroundcolor": "#E5ECF6",
            "gridcolor": "white",
            "gridwidth": 2,
            "linecolor": "white",
            "showbackground": true,
            "ticks": "",
            "zerolinecolor": "white"
           },
           "yaxis": {
            "backgroundcolor": "#E5ECF6",
            "gridcolor": "white",
            "gridwidth": 2,
            "linecolor": "white",
            "showbackground": true,
            "ticks": "",
            "zerolinecolor": "white"
           },
           "zaxis": {
            "backgroundcolor": "#E5ECF6",
            "gridcolor": "white",
            "gridwidth": 2,
            "linecolor": "white",
            "showbackground": true,
            "ticks": "",
            "zerolinecolor": "white"
           }
          },
          "shapedefaults": {
           "line": {
            "color": "#2a3f5f"
           }
          },
          "ternary": {
           "aaxis": {
            "gridcolor": "white",
            "linecolor": "white",
            "ticks": ""
           },
           "baxis": {
            "gridcolor": "white",
            "linecolor": "white",
            "ticks": ""
           },
           "bgcolor": "#E5ECF6",
           "caxis": {
            "gridcolor": "white",
            "linecolor": "white",
            "ticks": ""
           }
          },
          "title": {
           "x": 0.05
          },
          "xaxis": {
           "automargin": true,
           "gridcolor": "white",
           "linecolor": "white",
           "ticks": "",
           "title": {
            "standoff": 15
           },
           "zerolinecolor": "white",
           "zerolinewidth": 2
          },
          "yaxis": {
           "automargin": true,
           "gridcolor": "white",
           "linecolor": "white",
           "ticks": "",
           "title": {
            "standoff": 15
           },
           "zerolinecolor": "white",
           "zerolinewidth": 2
          }
         }
        },
        "xaxis": {
         "anchor": "y",
         "domain": [
          0,
          1
         ]
        },
        "yaxis": {
         "anchor": "x",
         "domain": [
          0,
          1
         ],
         "title": {
          "text": "area"
         }
        }
       }
      }
     },
     "metadata": {},
     "output_type": "display_data"
    }
   ],
   "source": [
    "fig = px.strip(bairro,y=\"area\", hover_data=['nome', 'area','subprefeitura', 'nome_regiao_administrativa'])#, color='subprefeitura')\n",
    "fig.show()"
   ]
  },
  {
   "cell_type": "markdown",
   "metadata": {},
   "source": [
    "A maior parte dos bairros tem a área abaixo de 20M²"
   ]
  },
  {
   "cell_type": "code",
   "execution_count": 15,
   "metadata": {},
   "outputs": [
    {
     "data": {
      "application/vnd.plotly.v1+json": {
       "config": {
        "plotlyServerURL": "https://plot.ly"
       },
       "data": [
        {
         "alignmentgroup": "True",
         "bingroup": "x",
         "histfunc": "sum",
         "hovertemplate": "nome=%{x}<br>sum of area=%{y}<extra></extra>",
         "legendgroup": "",
         "marker": {
          "color": "#636efa",
          "pattern": {
           "shape": ""
          }
         },
         "name": "",
         "offsetgroup": "",
         "orientation": "v",
         "showlegend": false,
         "type": "histogram",
         "x": [
          "Gamboa",
          "Saúde",
          "Caju",
          "Santo Cristo",
          "Lapa",
          "Centro",
          "Estácio",
          "Rio Comprido",
          "Cidade Nova",
          "Catumbi",
          "Mangueira",
          "Benfica",
          "Vasco da Gama",
          "São Cristóvão",
          "Paquetá",
          "Santa Teresa",
          "Catete",
          "Flamengo",
          "Botafogo",
          "Humaitá",
          "Glória",
          "Cosme Velho",
          "Urca",
          "Laranjeiras",
          "Leme",
          "Copacabana",
          "Vidigal",
          "Ipanema",
          "São Conrado",
          "Gávea",
          "Lagoa",
          "Jardim Botânico",
          "Leblon",
          "Rocinha",
          "Tijuca",
          "Alto da Boa Vista",
          "Praça da Bandeira",
          "Grajaú",
          "Maracanã",
          "Vila Isabel",
          "Andaraí",
          "Olaria",
          "Bonsucesso",
          "Manguinhos",
          "Ramos",
          "Maré",
          "Engenho Novo",
          "Lins de Vasconcelos",
          "Riachuelo",
          "Rocha",
          "Pilares",
          "Engenho de Dentro",
          "Sampaio",
          "Méier",
          "Abolição",
          "São Francisco Xavier",
          "Encantado",
          "Água Santa",
          "Jacaré",
          "Piedade",
          "Todos os Santos",
          "Cachambi",
          "Jacarezinho",
          "Colégio",
          "Vila da Penha",
          "Vicente de Carvalho",
          "Vila Kosmos",
          "Irajá",
          "Vista Alegre",
          "Campinho",
          "Cavalcanti",
          "Rocha Miranda",
          "Honório Gurgel",
          "Turiaçú",
          "Marechal Hermes",
          "Osvaldo Cruz",
          "Engenheiro Leal",
          "Quintino Bocaiúva",
          "Madureira",
          "Vaz Lobo",
          "Bento Ribeiro",
          "Cascadura",
          "Del Castilho",
          "Inhaúma",
          "Higienópolis",
          "Tomás Coelho",
          "Engenho da Rainha",
          "Maria da Graça",
          "Complexo do Alemão",
          "Penha Circular",
          "Brás de Pina",
          "Penha",
          "Vigário Geral",
          "Jardim América",
          "Cordovil",
          "Parada de Lucas",
          "Guadalupe",
          "Ricardo de Albuquerque",
          "Anchieta",
          "Parque Anchieta",
          "Acari",
          "Parque Colúmbia",
          "Coelho Neto",
          "Costa Barros",
          "Barros Filho",
          "Pavuna",
          "Portuguesa",
          "Ribeira",
          "Cacuia",
          "Jardim Carioca",
          "Tauá",
          "Praia da Bandeira",
          "Bancários",
          "Pitangueiras",
          "Zumbi",
          "Freguesia (Ilha)",
          "Galeão",
          "Cidade Universitária",
          "Moneró",
          "Cocotá",
          "Jardim Guanabara",
          "Praça Seca",
          "Tanque",
          "Taquara",
          "Curicica",
          "Anil",
          "Pechincha",
          "Vila Valqueire",
          "Gardênia Azul",
          "Freguesia (Jacarepaguá)",
          "Jacarepaguá",
          "Cidade de Deus",
          "Itanhangá",
          "Vargem Grande",
          "Recreio dos Bandeirantes",
          "Camorim",
          "Barra da Tijuca",
          "Vargem Pequena",
          "Joá",
          "Grumari",
          "Vila Kennedy",
          "Senador Camará",
          "Gericinó",
          "Padre Miguel",
          "Jabour",
          "Bangu",
          "Magalhães Bastos",
          "Deodoro",
          "Jardim Sulacap",
          "Vila Militar",
          "Realengo",
          "Campo dos Afonsos",
          "Campo Grande",
          "Senador Vasconcelos",
          "Cosmos",
          "Santíssimo",
          "Inhoaíba",
          "Santa Cruz",
          "Paciência",
          "Sepetiba",
          "Barra de Guaratiba",
          "Ilha de Guaratiba",
          "Guaratiba",
          "Pedra de Guaratiba"
         ],
         "xaxis": "x",
         "y": [
          1112902.74121094,
          363817.62255859,
          5347480.57666016,
          1684720.66113281,
          298325.82470703,
          5424739.1953125,
          980400.66503906,
          3342510.64160156,
          934852.88378906,
          539458.4418945301,
          798128.92089844,
          1736412.8076171898,
          863074.53808594,
          4105643.88916016,
          1705684.50390625,
          5157128.513671881,
          681026.73291016,
          1646253.58740234,
          4798955.831542971,
          1054475.31884766,
          1140065.48193359,
          892540.06591797,
          2319001.83740234,
          2493507.37158203,
          977199.05126953,
          4100850.171875,
          1621377.8681640602,
          3084907.22021484,
          6488565.79443359,
          2579636.59130859,
          5109893.287109381,
          2689203.73388672,
          2153095.9453125,
          1437194.75585938,
          10065558.49267578,
          31495676.00878906,
          719909.69824219,
          5739104.51953125,
          1667302.203125,
          3217125.9003906297,
          2261300.484375,
          3689833.24707031,
          2199716.17089844,
          2618351.22753906,
          2793533,
          4268761.30273438,
          2644847.10009766,
          2669197.55273438,
          928108.49707031,
          1311625.6000976602,
          1836420.02978516,
          3920440.57421875,
          884408.47705078,
          2470933.15234375,
          616332.65332031,
          648907.60009766,
          1060146.1748046898,
          2426231.83935547,
          842565.64208984,
          3887100.34375,
          1012635.96728516,
          2250159.74560547,
          943874.10644531,
          2261110.26855469,
          1435715.75537109,
          1835710.64990234,
          1519254.12988281,
          7477839.76953125,
          515209.05175781,
          984510.43115234,
          1924149.28466797,
          2886705.52392578,
          1374847.05664063,
          1255809.62109375,
          3886225.66064453,
          2071126.77880859,
          708274.3046875,
          4323794.68115234,
          3787613.32128906,
          1101220.96240234,
          3037846.62695313,
          2838970.70166016,
          1440914.46484375,
          3485274.29931641,
          1157472.79248047,
          1747526.4858398398,
          2225644.96826172,
          824989.74072266,
          2960855.18457031,
          4623381.89599609,
          3522221.85253906,
          5811323.138671881,
          3385308.03125,
          1973968.44726563,
          3856801.0668945294,
          2197968.69482422,
          3820007.67333984,
          2116869.79931641,
          4345726.97900391,
          3905790.00732422,
          1605524.3203125,
          1517134.46630859,
          2511970.33837891,
          1814831.70556641,
          1723864.3334960898,
          8311405.5546875,
          1186409.43945313,
          861924.82275391,
          2068686.08105469,
          1621126.1884765602,
          1672545.7509765602,
          379405.89892578,
          978046.54248047,
          604129.7749023399,
          161117.78417969,
          4056402.76611328,
          18957422.15185547,
          4690706.469726561,
          520557.46679688,
          490102.43017578,
          3205882.07080078,
          6499977.50927734,
          5567990.09863281,
          13206630.09667969,
          3339565.5786132803,
          3500410.67089844,
          2830915.62158203,
          4232214.787109381,
          1236291.52294922,
          10328406.11181641,
          75796482.33105469,
          1273024.81640625,
          13197726.20361328,
          39380382.52197267,
          30655624.23681641,
          8859905.68505859,
          48150630.06591797,
          14438294.698242191,
          1689691.29736328,
          9598826.27539063,
          1473737.29589844,
          16908604.956542972,
          2534304.16845703,
          4865791.84277344,
          327327.08300781,
          35966196.700195305,
          1975949.31054688,
          4640511.10009766,
          7869204.28027344,
          10756709.42382813,
          26054198.06884766,
          3252292.92871094,
          104445147.6875,
          6441769.125,
          11261318.89306641,
          8319614.02734375,
          8287883.104492189,
          125044295.35205078,
          27417970.83300781,
          11621300.01464844,
          9442030.42529297,
          7714616.09516844,
          131786592.9921875,
          3636912.25195313
         ],
         "yaxis": "y"
        }
       ],
       "layout": {
        "barmode": "relative",
        "legend": {
         "tracegroupgap": 0
        },
        "margin": {
         "t": 60
        },
        "template": {
         "data": {
          "bar": [
           {
            "error_x": {
             "color": "#2a3f5f"
            },
            "error_y": {
             "color": "#2a3f5f"
            },
            "marker": {
             "line": {
              "color": "#E5ECF6",
              "width": 0.5
             },
             "pattern": {
              "fillmode": "overlay",
              "size": 10,
              "solidity": 0.2
             }
            },
            "type": "bar"
           }
          ],
          "barpolar": [
           {
            "marker": {
             "line": {
              "color": "#E5ECF6",
              "width": 0.5
             },
             "pattern": {
              "fillmode": "overlay",
              "size": 10,
              "solidity": 0.2
             }
            },
            "type": "barpolar"
           }
          ],
          "carpet": [
           {
            "aaxis": {
             "endlinecolor": "#2a3f5f",
             "gridcolor": "white",
             "linecolor": "white",
             "minorgridcolor": "white",
             "startlinecolor": "#2a3f5f"
            },
            "baxis": {
             "endlinecolor": "#2a3f5f",
             "gridcolor": "white",
             "linecolor": "white",
             "minorgridcolor": "white",
             "startlinecolor": "#2a3f5f"
            },
            "type": "carpet"
           }
          ],
          "choropleth": [
           {
            "colorbar": {
             "outlinewidth": 0,
             "ticks": ""
            },
            "type": "choropleth"
           }
          ],
          "contour": [
           {
            "colorbar": {
             "outlinewidth": 0,
             "ticks": ""
            },
            "colorscale": [
             [
              0,
              "#0d0887"
             ],
             [
              0.1111111111111111,
              "#46039f"
             ],
             [
              0.2222222222222222,
              "#7201a8"
             ],
             [
              0.3333333333333333,
              "#9c179e"
             ],
             [
              0.4444444444444444,
              "#bd3786"
             ],
             [
              0.5555555555555556,
              "#d8576b"
             ],
             [
              0.6666666666666666,
              "#ed7953"
             ],
             [
              0.7777777777777778,
              "#fb9f3a"
             ],
             [
              0.8888888888888888,
              "#fdca26"
             ],
             [
              1,
              "#f0f921"
             ]
            ],
            "type": "contour"
           }
          ],
          "contourcarpet": [
           {
            "colorbar": {
             "outlinewidth": 0,
             "ticks": ""
            },
            "type": "contourcarpet"
           }
          ],
          "heatmap": [
           {
            "colorbar": {
             "outlinewidth": 0,
             "ticks": ""
            },
            "colorscale": [
             [
              0,
              "#0d0887"
             ],
             [
              0.1111111111111111,
              "#46039f"
             ],
             [
              0.2222222222222222,
              "#7201a8"
             ],
             [
              0.3333333333333333,
              "#9c179e"
             ],
             [
              0.4444444444444444,
              "#bd3786"
             ],
             [
              0.5555555555555556,
              "#d8576b"
             ],
             [
              0.6666666666666666,
              "#ed7953"
             ],
             [
              0.7777777777777778,
              "#fb9f3a"
             ],
             [
              0.8888888888888888,
              "#fdca26"
             ],
             [
              1,
              "#f0f921"
             ]
            ],
            "type": "heatmap"
           }
          ],
          "heatmapgl": [
           {
            "colorbar": {
             "outlinewidth": 0,
             "ticks": ""
            },
            "colorscale": [
             [
              0,
              "#0d0887"
             ],
             [
              0.1111111111111111,
              "#46039f"
             ],
             [
              0.2222222222222222,
              "#7201a8"
             ],
             [
              0.3333333333333333,
              "#9c179e"
             ],
             [
              0.4444444444444444,
              "#bd3786"
             ],
             [
              0.5555555555555556,
              "#d8576b"
             ],
             [
              0.6666666666666666,
              "#ed7953"
             ],
             [
              0.7777777777777778,
              "#fb9f3a"
             ],
             [
              0.8888888888888888,
              "#fdca26"
             ],
             [
              1,
              "#f0f921"
             ]
            ],
            "type": "heatmapgl"
           }
          ],
          "histogram": [
           {
            "marker": {
             "pattern": {
              "fillmode": "overlay",
              "size": 10,
              "solidity": 0.2
             }
            },
            "type": "histogram"
           }
          ],
          "histogram2d": [
           {
            "colorbar": {
             "outlinewidth": 0,
             "ticks": ""
            },
            "colorscale": [
             [
              0,
              "#0d0887"
             ],
             [
              0.1111111111111111,
              "#46039f"
             ],
             [
              0.2222222222222222,
              "#7201a8"
             ],
             [
              0.3333333333333333,
              "#9c179e"
             ],
             [
              0.4444444444444444,
              "#bd3786"
             ],
             [
              0.5555555555555556,
              "#d8576b"
             ],
             [
              0.6666666666666666,
              "#ed7953"
             ],
             [
              0.7777777777777778,
              "#fb9f3a"
             ],
             [
              0.8888888888888888,
              "#fdca26"
             ],
             [
              1,
              "#f0f921"
             ]
            ],
            "type": "histogram2d"
           }
          ],
          "histogram2dcontour": [
           {
            "colorbar": {
             "outlinewidth": 0,
             "ticks": ""
            },
            "colorscale": [
             [
              0,
              "#0d0887"
             ],
             [
              0.1111111111111111,
              "#46039f"
             ],
             [
              0.2222222222222222,
              "#7201a8"
             ],
             [
              0.3333333333333333,
              "#9c179e"
             ],
             [
              0.4444444444444444,
              "#bd3786"
             ],
             [
              0.5555555555555556,
              "#d8576b"
             ],
             [
              0.6666666666666666,
              "#ed7953"
             ],
             [
              0.7777777777777778,
              "#fb9f3a"
             ],
             [
              0.8888888888888888,
              "#fdca26"
             ],
             [
              1,
              "#f0f921"
             ]
            ],
            "type": "histogram2dcontour"
           }
          ],
          "mesh3d": [
           {
            "colorbar": {
             "outlinewidth": 0,
             "ticks": ""
            },
            "type": "mesh3d"
           }
          ],
          "parcoords": [
           {
            "line": {
             "colorbar": {
              "outlinewidth": 0,
              "ticks": ""
             }
            },
            "type": "parcoords"
           }
          ],
          "pie": [
           {
            "automargin": true,
            "type": "pie"
           }
          ],
          "scatter": [
           {
            "fillpattern": {
             "fillmode": "overlay",
             "size": 10,
             "solidity": 0.2
            },
            "type": "scatter"
           }
          ],
          "scatter3d": [
           {
            "line": {
             "colorbar": {
              "outlinewidth": 0,
              "ticks": ""
             }
            },
            "marker": {
             "colorbar": {
              "outlinewidth": 0,
              "ticks": ""
             }
            },
            "type": "scatter3d"
           }
          ],
          "scattercarpet": [
           {
            "marker": {
             "colorbar": {
              "outlinewidth": 0,
              "ticks": ""
             }
            },
            "type": "scattercarpet"
           }
          ],
          "scattergeo": [
           {
            "marker": {
             "colorbar": {
              "outlinewidth": 0,
              "ticks": ""
             }
            },
            "type": "scattergeo"
           }
          ],
          "scattergl": [
           {
            "marker": {
             "colorbar": {
              "outlinewidth": 0,
              "ticks": ""
             }
            },
            "type": "scattergl"
           }
          ],
          "scattermapbox": [
           {
            "marker": {
             "colorbar": {
              "outlinewidth": 0,
              "ticks": ""
             }
            },
            "type": "scattermapbox"
           }
          ],
          "scatterpolar": [
           {
            "marker": {
             "colorbar": {
              "outlinewidth": 0,
              "ticks": ""
             }
            },
            "type": "scatterpolar"
           }
          ],
          "scatterpolargl": [
           {
            "marker": {
             "colorbar": {
              "outlinewidth": 0,
              "ticks": ""
             }
            },
            "type": "scatterpolargl"
           }
          ],
          "scatterternary": [
           {
            "marker": {
             "colorbar": {
              "outlinewidth": 0,
              "ticks": ""
             }
            },
            "type": "scatterternary"
           }
          ],
          "surface": [
           {
            "colorbar": {
             "outlinewidth": 0,
             "ticks": ""
            },
            "colorscale": [
             [
              0,
              "#0d0887"
             ],
             [
              0.1111111111111111,
              "#46039f"
             ],
             [
              0.2222222222222222,
              "#7201a8"
             ],
             [
              0.3333333333333333,
              "#9c179e"
             ],
             [
              0.4444444444444444,
              "#bd3786"
             ],
             [
              0.5555555555555556,
              "#d8576b"
             ],
             [
              0.6666666666666666,
              "#ed7953"
             ],
             [
              0.7777777777777778,
              "#fb9f3a"
             ],
             [
              0.8888888888888888,
              "#fdca26"
             ],
             [
              1,
              "#f0f921"
             ]
            ],
            "type": "surface"
           }
          ],
          "table": [
           {
            "cells": {
             "fill": {
              "color": "#EBF0F8"
             },
             "line": {
              "color": "white"
             }
            },
            "header": {
             "fill": {
              "color": "#C8D4E3"
             },
             "line": {
              "color": "white"
             }
            },
            "type": "table"
           }
          ]
         },
         "layout": {
          "annotationdefaults": {
           "arrowcolor": "#2a3f5f",
           "arrowhead": 0,
           "arrowwidth": 1
          },
          "autotypenumbers": "strict",
          "coloraxis": {
           "colorbar": {
            "outlinewidth": 0,
            "ticks": ""
           }
          },
          "colorscale": {
           "diverging": [
            [
             0,
             "#8e0152"
            ],
            [
             0.1,
             "#c51b7d"
            ],
            [
             0.2,
             "#de77ae"
            ],
            [
             0.3,
             "#f1b6da"
            ],
            [
             0.4,
             "#fde0ef"
            ],
            [
             0.5,
             "#f7f7f7"
            ],
            [
             0.6,
             "#e6f5d0"
            ],
            [
             0.7,
             "#b8e186"
            ],
            [
             0.8,
             "#7fbc41"
            ],
            [
             0.9,
             "#4d9221"
            ],
            [
             1,
             "#276419"
            ]
           ],
           "sequential": [
            [
             0,
             "#0d0887"
            ],
            [
             0.1111111111111111,
             "#46039f"
            ],
            [
             0.2222222222222222,
             "#7201a8"
            ],
            [
             0.3333333333333333,
             "#9c179e"
            ],
            [
             0.4444444444444444,
             "#bd3786"
            ],
            [
             0.5555555555555556,
             "#d8576b"
            ],
            [
             0.6666666666666666,
             "#ed7953"
            ],
            [
             0.7777777777777778,
             "#fb9f3a"
            ],
            [
             0.8888888888888888,
             "#fdca26"
            ],
            [
             1,
             "#f0f921"
            ]
           ],
           "sequentialminus": [
            [
             0,
             "#0d0887"
            ],
            [
             0.1111111111111111,
             "#46039f"
            ],
            [
             0.2222222222222222,
             "#7201a8"
            ],
            [
             0.3333333333333333,
             "#9c179e"
            ],
            [
             0.4444444444444444,
             "#bd3786"
            ],
            [
             0.5555555555555556,
             "#d8576b"
            ],
            [
             0.6666666666666666,
             "#ed7953"
            ],
            [
             0.7777777777777778,
             "#fb9f3a"
            ],
            [
             0.8888888888888888,
             "#fdca26"
            ],
            [
             1,
             "#f0f921"
            ]
           ]
          },
          "colorway": [
           "#636efa",
           "#EF553B",
           "#00cc96",
           "#ab63fa",
           "#FFA15A",
           "#19d3f3",
           "#FF6692",
           "#B6E880",
           "#FF97FF",
           "#FECB52"
          ],
          "font": {
           "color": "#2a3f5f"
          },
          "geo": {
           "bgcolor": "white",
           "lakecolor": "white",
           "landcolor": "#E5ECF6",
           "showlakes": true,
           "showland": true,
           "subunitcolor": "white"
          },
          "hoverlabel": {
           "align": "left"
          },
          "hovermode": "closest",
          "mapbox": {
           "style": "light"
          },
          "paper_bgcolor": "white",
          "plot_bgcolor": "#E5ECF6",
          "polar": {
           "angularaxis": {
            "gridcolor": "white",
            "linecolor": "white",
            "ticks": ""
           },
           "bgcolor": "#E5ECF6",
           "radialaxis": {
            "gridcolor": "white",
            "linecolor": "white",
            "ticks": ""
           }
          },
          "scene": {
           "xaxis": {
            "backgroundcolor": "#E5ECF6",
            "gridcolor": "white",
            "gridwidth": 2,
            "linecolor": "white",
            "showbackground": true,
            "ticks": "",
            "zerolinecolor": "white"
           },
           "yaxis": {
            "backgroundcolor": "#E5ECF6",
            "gridcolor": "white",
            "gridwidth": 2,
            "linecolor": "white",
            "showbackground": true,
            "ticks": "",
            "zerolinecolor": "white"
           },
           "zaxis": {
            "backgroundcolor": "#E5ECF6",
            "gridcolor": "white",
            "gridwidth": 2,
            "linecolor": "white",
            "showbackground": true,
            "ticks": "",
            "zerolinecolor": "white"
           }
          },
          "shapedefaults": {
           "line": {
            "color": "#2a3f5f"
           }
          },
          "ternary": {
           "aaxis": {
            "gridcolor": "white",
            "linecolor": "white",
            "ticks": ""
           },
           "baxis": {
            "gridcolor": "white",
            "linecolor": "white",
            "ticks": ""
           },
           "bgcolor": "#E5ECF6",
           "caxis": {
            "gridcolor": "white",
            "linecolor": "white",
            "ticks": ""
           }
          },
          "title": {
           "x": 0.05
          },
          "xaxis": {
           "automargin": true,
           "gridcolor": "white",
           "linecolor": "white",
           "ticks": "",
           "title": {
            "standoff": 15
           },
           "zerolinecolor": "white",
           "zerolinewidth": 2
          },
          "yaxis": {
           "automargin": true,
           "gridcolor": "white",
           "linecolor": "white",
           "ticks": "",
           "title": {
            "standoff": 15
           },
           "zerolinecolor": "white",
           "zerolinewidth": 2
          }
         }
        },
        "xaxis": {
         "anchor": "y",
         "domain": [
          0,
          1
         ],
         "title": {
          "text": "nome"
         }
        },
        "yaxis": {
         "anchor": "x",
         "domain": [
          0,
          1
         ],
         "title": {
          "text": "sum of area"
         }
        }
       }
      }
     },
     "metadata": {},
     "output_type": "display_data"
    }
   ],
   "source": [
    "fig = px.histogram(bairro, x='nome', y='area')\n",
    "fig.show()"
   ]
  },
  {
   "cell_type": "code",
   "execution_count": 25,
   "metadata": {},
   "outputs": [
    {
     "data": {
      "text/html": [
       "<div>\n",
       "<style scoped>\n",
       "    .dataframe tbody tr th:only-of-type {\n",
       "        vertical-align: middle;\n",
       "    }\n",
       "\n",
       "    .dataframe tbody tr th {\n",
       "        vertical-align: top;\n",
       "    }\n",
       "\n",
       "    .dataframe thead th {\n",
       "        text-align: right;\n",
       "    }\n",
       "</style>\n",
       "<table border=\"1\" class=\"dataframe\">\n",
       "  <thead>\n",
       "    <tr style=\"text-align: right;\">\n",
       "      <th></th>\n",
       "      <th>area</th>\n",
       "      <th>perimetro</th>\n",
       "    </tr>\n",
       "  </thead>\n",
       "  <tbody>\n",
       "    <tr>\n",
       "      <th>area</th>\n",
       "      <td>1.000000</td>\n",
       "      <td>0.920674</td>\n",
       "    </tr>\n",
       "    <tr>\n",
       "      <th>perimetro</th>\n",
       "      <td>0.920674</td>\n",
       "      <td>1.000000</td>\n",
       "    </tr>\n",
       "  </tbody>\n",
       "</table>\n",
       "</div>"
      ],
      "text/plain": [
       "               area  perimetro\n",
       "area       1.000000   0.920674\n",
       "perimetro  0.920674   1.000000"
      ]
     },
     "execution_count": 25,
     "metadata": {},
     "output_type": "execute_result"
    }
   ],
   "source": [
    "ar_per = bairro[['area','perimetro']].corr()\n",
    "ar_per"
   ]
  },
  {
   "cell_type": "markdown",
   "metadata": {},
   "source": [
    "**Qual é a distribuição dos bairros entre as diferentes regiões administrativas?**"
   ]
  },
  {
   "cell_type": "code",
   "execution_count": 45,
   "metadata": {},
   "outputs": [
    {
     "data": {
      "application/vnd.plotly.v1+json": {
       "config": {
        "plotlyServerURL": "https://plot.ly"
       },
       "data": [
        {
         "alignmentgroup": "True",
         "bingroup": "x",
         "histfunc": "sum",
         "hovertemplate": "nome_regiao_administrativa=%{x}<br>sum of nome=%{y}<extra></extra>",
         "legendgroup": "",
         "marker": {
          "color": "#636efa",
          "pattern": {
           "shape": ""
          }
         },
         "name": "",
         "offsetgroup": "",
         "orientation": "v",
         "showlegend": false,
         "type": "histogram",
         "x": [
          "Anchieta",
          "Bangu",
          "Barra Da Tijuca",
          "Botafogo",
          "Campo Grande",
          "Centro",
          "Cidade De Deus",
          "Complexo Da Mare",
          "Complexo Do Alemão",
          "Copacabana",
          "Guaratiba",
          "Ilha Do Governador",
          "Inhauma",
          "Iraja",
          "Jacarepagua",
          "Jacarezinho",
          "Lagoa",
          "Madureira",
          "Meier",
          "Paqueta",
          "Pavuna",
          "Penha",
          "Portuaria",
          "Ramos",
          "Realengo",
          "Rio Comprido",
          "Rocinha",
          "Santa Cruz",
          "Santa Tereza",
          "Sao Cristovao",
          "Tijuca",
          "Vigario Geral",
          "Vila Isabel"
         ],
         "xaxis": "x",
         "y": [
          4,
          6,
          8,
          8,
          5,
          2,
          1,
          1,
          1,
          2,
          4,
          15,
          6,
          6,
          10,
          1,
          7,
          13,
          16,
          1,
          6,
          3,
          4,
          4,
          6,
          4,
          1,
          3,
          1,
          4,
          3,
          4,
          4
         ],
         "yaxis": "y"
        }
       ],
       "layout": {
        "barmode": "relative",
        "legend": {
         "tracegroupgap": 0
        },
        "template": {
         "data": {
          "bar": [
           {
            "error_x": {
             "color": "#2a3f5f"
            },
            "error_y": {
             "color": "#2a3f5f"
            },
            "marker": {
             "line": {
              "color": "#E5ECF6",
              "width": 0.5
             },
             "pattern": {
              "fillmode": "overlay",
              "size": 10,
              "solidity": 0.2
             }
            },
            "type": "bar"
           }
          ],
          "barpolar": [
           {
            "marker": {
             "line": {
              "color": "#E5ECF6",
              "width": 0.5
             },
             "pattern": {
              "fillmode": "overlay",
              "size": 10,
              "solidity": 0.2
             }
            },
            "type": "barpolar"
           }
          ],
          "carpet": [
           {
            "aaxis": {
             "endlinecolor": "#2a3f5f",
             "gridcolor": "white",
             "linecolor": "white",
             "minorgridcolor": "white",
             "startlinecolor": "#2a3f5f"
            },
            "baxis": {
             "endlinecolor": "#2a3f5f",
             "gridcolor": "white",
             "linecolor": "white",
             "minorgridcolor": "white",
             "startlinecolor": "#2a3f5f"
            },
            "type": "carpet"
           }
          ],
          "choropleth": [
           {
            "colorbar": {
             "outlinewidth": 0,
             "ticks": ""
            },
            "type": "choropleth"
           }
          ],
          "contour": [
           {
            "colorbar": {
             "outlinewidth": 0,
             "ticks": ""
            },
            "colorscale": [
             [
              0,
              "#0d0887"
             ],
             [
              0.1111111111111111,
              "#46039f"
             ],
             [
              0.2222222222222222,
              "#7201a8"
             ],
             [
              0.3333333333333333,
              "#9c179e"
             ],
             [
              0.4444444444444444,
              "#bd3786"
             ],
             [
              0.5555555555555556,
              "#d8576b"
             ],
             [
              0.6666666666666666,
              "#ed7953"
             ],
             [
              0.7777777777777778,
              "#fb9f3a"
             ],
             [
              0.8888888888888888,
              "#fdca26"
             ],
             [
              1,
              "#f0f921"
             ]
            ],
            "type": "contour"
           }
          ],
          "contourcarpet": [
           {
            "colorbar": {
             "outlinewidth": 0,
             "ticks": ""
            },
            "type": "contourcarpet"
           }
          ],
          "heatmap": [
           {
            "colorbar": {
             "outlinewidth": 0,
             "ticks": ""
            },
            "colorscale": [
             [
              0,
              "#0d0887"
             ],
             [
              0.1111111111111111,
              "#46039f"
             ],
             [
              0.2222222222222222,
              "#7201a8"
             ],
             [
              0.3333333333333333,
              "#9c179e"
             ],
             [
              0.4444444444444444,
              "#bd3786"
             ],
             [
              0.5555555555555556,
              "#d8576b"
             ],
             [
              0.6666666666666666,
              "#ed7953"
             ],
             [
              0.7777777777777778,
              "#fb9f3a"
             ],
             [
              0.8888888888888888,
              "#fdca26"
             ],
             [
              1,
              "#f0f921"
             ]
            ],
            "type": "heatmap"
           }
          ],
          "heatmapgl": [
           {
            "colorbar": {
             "outlinewidth": 0,
             "ticks": ""
            },
            "colorscale": [
             [
              0,
              "#0d0887"
             ],
             [
              0.1111111111111111,
              "#46039f"
             ],
             [
              0.2222222222222222,
              "#7201a8"
             ],
             [
              0.3333333333333333,
              "#9c179e"
             ],
             [
              0.4444444444444444,
              "#bd3786"
             ],
             [
              0.5555555555555556,
              "#d8576b"
             ],
             [
              0.6666666666666666,
              "#ed7953"
             ],
             [
              0.7777777777777778,
              "#fb9f3a"
             ],
             [
              0.8888888888888888,
              "#fdca26"
             ],
             [
              1,
              "#f0f921"
             ]
            ],
            "type": "heatmapgl"
           }
          ],
          "histogram": [
           {
            "marker": {
             "pattern": {
              "fillmode": "overlay",
              "size": 10,
              "solidity": 0.2
             }
            },
            "type": "histogram"
           }
          ],
          "histogram2d": [
           {
            "colorbar": {
             "outlinewidth": 0,
             "ticks": ""
            },
            "colorscale": [
             [
              0,
              "#0d0887"
             ],
             [
              0.1111111111111111,
              "#46039f"
             ],
             [
              0.2222222222222222,
              "#7201a8"
             ],
             [
              0.3333333333333333,
              "#9c179e"
             ],
             [
              0.4444444444444444,
              "#bd3786"
             ],
             [
              0.5555555555555556,
              "#d8576b"
             ],
             [
              0.6666666666666666,
              "#ed7953"
             ],
             [
              0.7777777777777778,
              "#fb9f3a"
             ],
             [
              0.8888888888888888,
              "#fdca26"
             ],
             [
              1,
              "#f0f921"
             ]
            ],
            "type": "histogram2d"
           }
          ],
          "histogram2dcontour": [
           {
            "colorbar": {
             "outlinewidth": 0,
             "ticks": ""
            },
            "colorscale": [
             [
              0,
              "#0d0887"
             ],
             [
              0.1111111111111111,
              "#46039f"
             ],
             [
              0.2222222222222222,
              "#7201a8"
             ],
             [
              0.3333333333333333,
              "#9c179e"
             ],
             [
              0.4444444444444444,
              "#bd3786"
             ],
             [
              0.5555555555555556,
              "#d8576b"
             ],
             [
              0.6666666666666666,
              "#ed7953"
             ],
             [
              0.7777777777777778,
              "#fb9f3a"
             ],
             [
              0.8888888888888888,
              "#fdca26"
             ],
             [
              1,
              "#f0f921"
             ]
            ],
            "type": "histogram2dcontour"
           }
          ],
          "mesh3d": [
           {
            "colorbar": {
             "outlinewidth": 0,
             "ticks": ""
            },
            "type": "mesh3d"
           }
          ],
          "parcoords": [
           {
            "line": {
             "colorbar": {
              "outlinewidth": 0,
              "ticks": ""
             }
            },
            "type": "parcoords"
           }
          ],
          "pie": [
           {
            "automargin": true,
            "type": "pie"
           }
          ],
          "scatter": [
           {
            "fillpattern": {
             "fillmode": "overlay",
             "size": 10,
             "solidity": 0.2
            },
            "type": "scatter"
           }
          ],
          "scatter3d": [
           {
            "line": {
             "colorbar": {
              "outlinewidth": 0,
              "ticks": ""
             }
            },
            "marker": {
             "colorbar": {
              "outlinewidth": 0,
              "ticks": ""
             }
            },
            "type": "scatter3d"
           }
          ],
          "scattercarpet": [
           {
            "marker": {
             "colorbar": {
              "outlinewidth": 0,
              "ticks": ""
             }
            },
            "type": "scattercarpet"
           }
          ],
          "scattergeo": [
           {
            "marker": {
             "colorbar": {
              "outlinewidth": 0,
              "ticks": ""
             }
            },
            "type": "scattergeo"
           }
          ],
          "scattergl": [
           {
            "marker": {
             "colorbar": {
              "outlinewidth": 0,
              "ticks": ""
             }
            },
            "type": "scattergl"
           }
          ],
          "scattermapbox": [
           {
            "marker": {
             "colorbar": {
              "outlinewidth": 0,
              "ticks": ""
             }
            },
            "type": "scattermapbox"
           }
          ],
          "scatterpolar": [
           {
            "marker": {
             "colorbar": {
              "outlinewidth": 0,
              "ticks": ""
             }
            },
            "type": "scatterpolar"
           }
          ],
          "scatterpolargl": [
           {
            "marker": {
             "colorbar": {
              "outlinewidth": 0,
              "ticks": ""
             }
            },
            "type": "scatterpolargl"
           }
          ],
          "scatterternary": [
           {
            "marker": {
             "colorbar": {
              "outlinewidth": 0,
              "ticks": ""
             }
            },
            "type": "scatterternary"
           }
          ],
          "surface": [
           {
            "colorbar": {
             "outlinewidth": 0,
             "ticks": ""
            },
            "colorscale": [
             [
              0,
              "#0d0887"
             ],
             [
              0.1111111111111111,
              "#46039f"
             ],
             [
              0.2222222222222222,
              "#7201a8"
             ],
             [
              0.3333333333333333,
              "#9c179e"
             ],
             [
              0.4444444444444444,
              "#bd3786"
             ],
             [
              0.5555555555555556,
              "#d8576b"
             ],
             [
              0.6666666666666666,
              "#ed7953"
             ],
             [
              0.7777777777777778,
              "#fb9f3a"
             ],
             [
              0.8888888888888888,
              "#fdca26"
             ],
             [
              1,
              "#f0f921"
             ]
            ],
            "type": "surface"
           }
          ],
          "table": [
           {
            "cells": {
             "fill": {
              "color": "#EBF0F8"
             },
             "line": {
              "color": "white"
             }
            },
            "header": {
             "fill": {
              "color": "#C8D4E3"
             },
             "line": {
              "color": "white"
             }
            },
            "type": "table"
           }
          ]
         },
         "layout": {
          "annotationdefaults": {
           "arrowcolor": "#2a3f5f",
           "arrowhead": 0,
           "arrowwidth": 1
          },
          "autotypenumbers": "strict",
          "coloraxis": {
           "colorbar": {
            "outlinewidth": 0,
            "ticks": ""
           }
          },
          "colorscale": {
           "diverging": [
            [
             0,
             "#8e0152"
            ],
            [
             0.1,
             "#c51b7d"
            ],
            [
             0.2,
             "#de77ae"
            ],
            [
             0.3,
             "#f1b6da"
            ],
            [
             0.4,
             "#fde0ef"
            ],
            [
             0.5,
             "#f7f7f7"
            ],
            [
             0.6,
             "#e6f5d0"
            ],
            [
             0.7,
             "#b8e186"
            ],
            [
             0.8,
             "#7fbc41"
            ],
            [
             0.9,
             "#4d9221"
            ],
            [
             1,
             "#276419"
            ]
           ],
           "sequential": [
            [
             0,
             "#0d0887"
            ],
            [
             0.1111111111111111,
             "#46039f"
            ],
            [
             0.2222222222222222,
             "#7201a8"
            ],
            [
             0.3333333333333333,
             "#9c179e"
            ],
            [
             0.4444444444444444,
             "#bd3786"
            ],
            [
             0.5555555555555556,
             "#d8576b"
            ],
            [
             0.6666666666666666,
             "#ed7953"
            ],
            [
             0.7777777777777778,
             "#fb9f3a"
            ],
            [
             0.8888888888888888,
             "#fdca26"
            ],
            [
             1,
             "#f0f921"
            ]
           ],
           "sequentialminus": [
            [
             0,
             "#0d0887"
            ],
            [
             0.1111111111111111,
             "#46039f"
            ],
            [
             0.2222222222222222,
             "#7201a8"
            ],
            [
             0.3333333333333333,
             "#9c179e"
            ],
            [
             0.4444444444444444,
             "#bd3786"
            ],
            [
             0.5555555555555556,
             "#d8576b"
            ],
            [
             0.6666666666666666,
             "#ed7953"
            ],
            [
             0.7777777777777778,
             "#fb9f3a"
            ],
            [
             0.8888888888888888,
             "#fdca26"
            ],
            [
             1,
             "#f0f921"
            ]
           ]
          },
          "colorway": [
           "#636efa",
           "#EF553B",
           "#00cc96",
           "#ab63fa",
           "#FFA15A",
           "#19d3f3",
           "#FF6692",
           "#B6E880",
           "#FF97FF",
           "#FECB52"
          ],
          "font": {
           "color": "#2a3f5f"
          },
          "geo": {
           "bgcolor": "white",
           "lakecolor": "white",
           "landcolor": "#E5ECF6",
           "showlakes": true,
           "showland": true,
           "subunitcolor": "white"
          },
          "hoverlabel": {
           "align": "left"
          },
          "hovermode": "closest",
          "mapbox": {
           "style": "light"
          },
          "paper_bgcolor": "white",
          "plot_bgcolor": "#E5ECF6",
          "polar": {
           "angularaxis": {
            "gridcolor": "white",
            "linecolor": "white",
            "ticks": ""
           },
           "bgcolor": "#E5ECF6",
           "radialaxis": {
            "gridcolor": "white",
            "linecolor": "white",
            "ticks": ""
           }
          },
          "scene": {
           "xaxis": {
            "backgroundcolor": "#E5ECF6",
            "gridcolor": "white",
            "gridwidth": 2,
            "linecolor": "white",
            "showbackground": true,
            "ticks": "",
            "zerolinecolor": "white"
           },
           "yaxis": {
            "backgroundcolor": "#E5ECF6",
            "gridcolor": "white",
            "gridwidth": 2,
            "linecolor": "white",
            "showbackground": true,
            "ticks": "",
            "zerolinecolor": "white"
           },
           "zaxis": {
            "backgroundcolor": "#E5ECF6",
            "gridcolor": "white",
            "gridwidth": 2,
            "linecolor": "white",
            "showbackground": true,
            "ticks": "",
            "zerolinecolor": "white"
           }
          },
          "shapedefaults": {
           "line": {
            "color": "#2a3f5f"
           }
          },
          "ternary": {
           "aaxis": {
            "gridcolor": "white",
            "linecolor": "white",
            "ticks": ""
           },
           "baxis": {
            "gridcolor": "white",
            "linecolor": "white",
            "ticks": ""
           },
           "bgcolor": "#E5ECF6",
           "caxis": {
            "gridcolor": "white",
            "linecolor": "white",
            "ticks": ""
           }
          },
          "title": {
           "x": 0.05
          },
          "xaxis": {
           "automargin": true,
           "gridcolor": "white",
           "linecolor": "white",
           "ticks": "",
           "title": {
            "standoff": 15
           },
           "zerolinecolor": "white",
           "zerolinewidth": 2
          },
          "yaxis": {
           "automargin": true,
           "gridcolor": "white",
           "linecolor": "white",
           "ticks": "",
           "title": {
            "standoff": 15
           },
           "zerolinecolor": "white",
           "zerolinewidth": 2
          }
         }
        },
        "title": {
         "text": "Bairros por Região Administrativa"
        },
        "xaxis": {
         "anchor": "y",
         "domain": [
          0,
          1
         ],
         "title": {
          "text": "nome_regiao_administrativa"
         }
        },
        "yaxis": {
         "anchor": "x",
         "domain": [
          0,
          1
         ],
         "title": {
          "text": "sum of nome"
         }
        }
       }
      }
     },
     "metadata": {},
     "output_type": "display_data"
    }
   ],
   "source": [
    "qt_bairroRegiao = bairro.groupby('nome_regiao_administrativa').agg({'nome':'count'}).reset_index()\n",
    "\n",
    "fig = px.histogram(qt_bairroRegiao, x='nome_regiao_administrativa', y='nome', title='Bairros por Região Administrativa')\n",
    "fig.show()\n",
    "\n"
   ]
  },
  {
   "cell_type": "code",
   "execution_count": 44,
   "metadata": {},
   "outputs": [
    {
     "data": {
      "application/vnd.plotly.v1+json": {
       "config": {
        "plotlyServerURL": "https://plot.ly"
       },
       "data": [
        {
         "alignmentgroup": "True",
         "bingroup": "x",
         "histfunc": "sum",
         "hovertemplate": "subprefeitura=%{x}<br>sum of nome=%{y}<extra></extra>",
         "legendgroup": "",
         "marker": {
          "color": "#636efa",
          "pattern": {
           "shape": ""
          }
         },
         "name": "",
         "offsetgroup": "",
         "orientation": "v",
         "showlegend": false,
         "type": "histogram",
         "x": [
          "Barra da Tijuca",
          "Centro",
          "Grande Bangu",
          "Grande Tijuca",
          "Ilhas",
          "Jacarepaguá",
          "Zona Norte",
          "Zona Oeste",
          "Zona Sul"
         ],
         "xaxis": "x",
         "y": [
          8,
          16,
          12,
          7,
          16,
          11,
          65,
          12,
          17
         ],
         "yaxis": "y"
        }
       ],
       "layout": {
        "barmode": "relative",
        "legend": {
         "tracegroupgap": 0
        },
        "template": {
         "data": {
          "bar": [
           {
            "error_x": {
             "color": "#2a3f5f"
            },
            "error_y": {
             "color": "#2a3f5f"
            },
            "marker": {
             "line": {
              "color": "#E5ECF6",
              "width": 0.5
             },
             "pattern": {
              "fillmode": "overlay",
              "size": 10,
              "solidity": 0.2
             }
            },
            "type": "bar"
           }
          ],
          "barpolar": [
           {
            "marker": {
             "line": {
              "color": "#E5ECF6",
              "width": 0.5
             },
             "pattern": {
              "fillmode": "overlay",
              "size": 10,
              "solidity": 0.2
             }
            },
            "type": "barpolar"
           }
          ],
          "carpet": [
           {
            "aaxis": {
             "endlinecolor": "#2a3f5f",
             "gridcolor": "white",
             "linecolor": "white",
             "minorgridcolor": "white",
             "startlinecolor": "#2a3f5f"
            },
            "baxis": {
             "endlinecolor": "#2a3f5f",
             "gridcolor": "white",
             "linecolor": "white",
             "minorgridcolor": "white",
             "startlinecolor": "#2a3f5f"
            },
            "type": "carpet"
           }
          ],
          "choropleth": [
           {
            "colorbar": {
             "outlinewidth": 0,
             "ticks": ""
            },
            "type": "choropleth"
           }
          ],
          "contour": [
           {
            "colorbar": {
             "outlinewidth": 0,
             "ticks": ""
            },
            "colorscale": [
             [
              0,
              "#0d0887"
             ],
             [
              0.1111111111111111,
              "#46039f"
             ],
             [
              0.2222222222222222,
              "#7201a8"
             ],
             [
              0.3333333333333333,
              "#9c179e"
             ],
             [
              0.4444444444444444,
              "#bd3786"
             ],
             [
              0.5555555555555556,
              "#d8576b"
             ],
             [
              0.6666666666666666,
              "#ed7953"
             ],
             [
              0.7777777777777778,
              "#fb9f3a"
             ],
             [
              0.8888888888888888,
              "#fdca26"
             ],
             [
              1,
              "#f0f921"
             ]
            ],
            "type": "contour"
           }
          ],
          "contourcarpet": [
           {
            "colorbar": {
             "outlinewidth": 0,
             "ticks": ""
            },
            "type": "contourcarpet"
           }
          ],
          "heatmap": [
           {
            "colorbar": {
             "outlinewidth": 0,
             "ticks": ""
            },
            "colorscale": [
             [
              0,
              "#0d0887"
             ],
             [
              0.1111111111111111,
              "#46039f"
             ],
             [
              0.2222222222222222,
              "#7201a8"
             ],
             [
              0.3333333333333333,
              "#9c179e"
             ],
             [
              0.4444444444444444,
              "#bd3786"
             ],
             [
              0.5555555555555556,
              "#d8576b"
             ],
             [
              0.6666666666666666,
              "#ed7953"
             ],
             [
              0.7777777777777778,
              "#fb9f3a"
             ],
             [
              0.8888888888888888,
              "#fdca26"
             ],
             [
              1,
              "#f0f921"
             ]
            ],
            "type": "heatmap"
           }
          ],
          "heatmapgl": [
           {
            "colorbar": {
             "outlinewidth": 0,
             "ticks": ""
            },
            "colorscale": [
             [
              0,
              "#0d0887"
             ],
             [
              0.1111111111111111,
              "#46039f"
             ],
             [
              0.2222222222222222,
              "#7201a8"
             ],
             [
              0.3333333333333333,
              "#9c179e"
             ],
             [
              0.4444444444444444,
              "#bd3786"
             ],
             [
              0.5555555555555556,
              "#d8576b"
             ],
             [
              0.6666666666666666,
              "#ed7953"
             ],
             [
              0.7777777777777778,
              "#fb9f3a"
             ],
             [
              0.8888888888888888,
              "#fdca26"
             ],
             [
              1,
              "#f0f921"
             ]
            ],
            "type": "heatmapgl"
           }
          ],
          "histogram": [
           {
            "marker": {
             "pattern": {
              "fillmode": "overlay",
              "size": 10,
              "solidity": 0.2
             }
            },
            "type": "histogram"
           }
          ],
          "histogram2d": [
           {
            "colorbar": {
             "outlinewidth": 0,
             "ticks": ""
            },
            "colorscale": [
             [
              0,
              "#0d0887"
             ],
             [
              0.1111111111111111,
              "#46039f"
             ],
             [
              0.2222222222222222,
              "#7201a8"
             ],
             [
              0.3333333333333333,
              "#9c179e"
             ],
             [
              0.4444444444444444,
              "#bd3786"
             ],
             [
              0.5555555555555556,
              "#d8576b"
             ],
             [
              0.6666666666666666,
              "#ed7953"
             ],
             [
              0.7777777777777778,
              "#fb9f3a"
             ],
             [
              0.8888888888888888,
              "#fdca26"
             ],
             [
              1,
              "#f0f921"
             ]
            ],
            "type": "histogram2d"
           }
          ],
          "histogram2dcontour": [
           {
            "colorbar": {
             "outlinewidth": 0,
             "ticks": ""
            },
            "colorscale": [
             [
              0,
              "#0d0887"
             ],
             [
              0.1111111111111111,
              "#46039f"
             ],
             [
              0.2222222222222222,
              "#7201a8"
             ],
             [
              0.3333333333333333,
              "#9c179e"
             ],
             [
              0.4444444444444444,
              "#bd3786"
             ],
             [
              0.5555555555555556,
              "#d8576b"
             ],
             [
              0.6666666666666666,
              "#ed7953"
             ],
             [
              0.7777777777777778,
              "#fb9f3a"
             ],
             [
              0.8888888888888888,
              "#fdca26"
             ],
             [
              1,
              "#f0f921"
             ]
            ],
            "type": "histogram2dcontour"
           }
          ],
          "mesh3d": [
           {
            "colorbar": {
             "outlinewidth": 0,
             "ticks": ""
            },
            "type": "mesh3d"
           }
          ],
          "parcoords": [
           {
            "line": {
             "colorbar": {
              "outlinewidth": 0,
              "ticks": ""
             }
            },
            "type": "parcoords"
           }
          ],
          "pie": [
           {
            "automargin": true,
            "type": "pie"
           }
          ],
          "scatter": [
           {
            "fillpattern": {
             "fillmode": "overlay",
             "size": 10,
             "solidity": 0.2
            },
            "type": "scatter"
           }
          ],
          "scatter3d": [
           {
            "line": {
             "colorbar": {
              "outlinewidth": 0,
              "ticks": ""
             }
            },
            "marker": {
             "colorbar": {
              "outlinewidth": 0,
              "ticks": ""
             }
            },
            "type": "scatter3d"
           }
          ],
          "scattercarpet": [
           {
            "marker": {
             "colorbar": {
              "outlinewidth": 0,
              "ticks": ""
             }
            },
            "type": "scattercarpet"
           }
          ],
          "scattergeo": [
           {
            "marker": {
             "colorbar": {
              "outlinewidth": 0,
              "ticks": ""
             }
            },
            "type": "scattergeo"
           }
          ],
          "scattergl": [
           {
            "marker": {
             "colorbar": {
              "outlinewidth": 0,
              "ticks": ""
             }
            },
            "type": "scattergl"
           }
          ],
          "scattermapbox": [
           {
            "marker": {
             "colorbar": {
              "outlinewidth": 0,
              "ticks": ""
             }
            },
            "type": "scattermapbox"
           }
          ],
          "scatterpolar": [
           {
            "marker": {
             "colorbar": {
              "outlinewidth": 0,
              "ticks": ""
             }
            },
            "type": "scatterpolar"
           }
          ],
          "scatterpolargl": [
           {
            "marker": {
             "colorbar": {
              "outlinewidth": 0,
              "ticks": ""
             }
            },
            "type": "scatterpolargl"
           }
          ],
          "scatterternary": [
           {
            "marker": {
             "colorbar": {
              "outlinewidth": 0,
              "ticks": ""
             }
            },
            "type": "scatterternary"
           }
          ],
          "surface": [
           {
            "colorbar": {
             "outlinewidth": 0,
             "ticks": ""
            },
            "colorscale": [
             [
              0,
              "#0d0887"
             ],
             [
              0.1111111111111111,
              "#46039f"
             ],
             [
              0.2222222222222222,
              "#7201a8"
             ],
             [
              0.3333333333333333,
              "#9c179e"
             ],
             [
              0.4444444444444444,
              "#bd3786"
             ],
             [
              0.5555555555555556,
              "#d8576b"
             ],
             [
              0.6666666666666666,
              "#ed7953"
             ],
             [
              0.7777777777777778,
              "#fb9f3a"
             ],
             [
              0.8888888888888888,
              "#fdca26"
             ],
             [
              1,
              "#f0f921"
             ]
            ],
            "type": "surface"
           }
          ],
          "table": [
           {
            "cells": {
             "fill": {
              "color": "#EBF0F8"
             },
             "line": {
              "color": "white"
             }
            },
            "header": {
             "fill": {
              "color": "#C8D4E3"
             },
             "line": {
              "color": "white"
             }
            },
            "type": "table"
           }
          ]
         },
         "layout": {
          "annotationdefaults": {
           "arrowcolor": "#2a3f5f",
           "arrowhead": 0,
           "arrowwidth": 1
          },
          "autotypenumbers": "strict",
          "coloraxis": {
           "colorbar": {
            "outlinewidth": 0,
            "ticks": ""
           }
          },
          "colorscale": {
           "diverging": [
            [
             0,
             "#8e0152"
            ],
            [
             0.1,
             "#c51b7d"
            ],
            [
             0.2,
             "#de77ae"
            ],
            [
             0.3,
             "#f1b6da"
            ],
            [
             0.4,
             "#fde0ef"
            ],
            [
             0.5,
             "#f7f7f7"
            ],
            [
             0.6,
             "#e6f5d0"
            ],
            [
             0.7,
             "#b8e186"
            ],
            [
             0.8,
             "#7fbc41"
            ],
            [
             0.9,
             "#4d9221"
            ],
            [
             1,
             "#276419"
            ]
           ],
           "sequential": [
            [
             0,
             "#0d0887"
            ],
            [
             0.1111111111111111,
             "#46039f"
            ],
            [
             0.2222222222222222,
             "#7201a8"
            ],
            [
             0.3333333333333333,
             "#9c179e"
            ],
            [
             0.4444444444444444,
             "#bd3786"
            ],
            [
             0.5555555555555556,
             "#d8576b"
            ],
            [
             0.6666666666666666,
             "#ed7953"
            ],
            [
             0.7777777777777778,
             "#fb9f3a"
            ],
            [
             0.8888888888888888,
             "#fdca26"
            ],
            [
             1,
             "#f0f921"
            ]
           ],
           "sequentialminus": [
            [
             0,
             "#0d0887"
            ],
            [
             0.1111111111111111,
             "#46039f"
            ],
            [
             0.2222222222222222,
             "#7201a8"
            ],
            [
             0.3333333333333333,
             "#9c179e"
            ],
            [
             0.4444444444444444,
             "#bd3786"
            ],
            [
             0.5555555555555556,
             "#d8576b"
            ],
            [
             0.6666666666666666,
             "#ed7953"
            ],
            [
             0.7777777777777778,
             "#fb9f3a"
            ],
            [
             0.8888888888888888,
             "#fdca26"
            ],
            [
             1,
             "#f0f921"
            ]
           ]
          },
          "colorway": [
           "#636efa",
           "#EF553B",
           "#00cc96",
           "#ab63fa",
           "#FFA15A",
           "#19d3f3",
           "#FF6692",
           "#B6E880",
           "#FF97FF",
           "#FECB52"
          ],
          "font": {
           "color": "#2a3f5f"
          },
          "geo": {
           "bgcolor": "white",
           "lakecolor": "white",
           "landcolor": "#E5ECF6",
           "showlakes": true,
           "showland": true,
           "subunitcolor": "white"
          },
          "hoverlabel": {
           "align": "left"
          },
          "hovermode": "closest",
          "mapbox": {
           "style": "light"
          },
          "paper_bgcolor": "white",
          "plot_bgcolor": "#E5ECF6",
          "polar": {
           "angularaxis": {
            "gridcolor": "white",
            "linecolor": "white",
            "ticks": ""
           },
           "bgcolor": "#E5ECF6",
           "radialaxis": {
            "gridcolor": "white",
            "linecolor": "white",
            "ticks": ""
           }
          },
          "scene": {
           "xaxis": {
            "backgroundcolor": "#E5ECF6",
            "gridcolor": "white",
            "gridwidth": 2,
            "linecolor": "white",
            "showbackground": true,
            "ticks": "",
            "zerolinecolor": "white"
           },
           "yaxis": {
            "backgroundcolor": "#E5ECF6",
            "gridcolor": "white",
            "gridwidth": 2,
            "linecolor": "white",
            "showbackground": true,
            "ticks": "",
            "zerolinecolor": "white"
           },
           "zaxis": {
            "backgroundcolor": "#E5ECF6",
            "gridcolor": "white",
            "gridwidth": 2,
            "linecolor": "white",
            "showbackground": true,
            "ticks": "",
            "zerolinecolor": "white"
           }
          },
          "shapedefaults": {
           "line": {
            "color": "#2a3f5f"
           }
          },
          "ternary": {
           "aaxis": {
            "gridcolor": "white",
            "linecolor": "white",
            "ticks": ""
           },
           "baxis": {
            "gridcolor": "white",
            "linecolor": "white",
            "ticks": ""
           },
           "bgcolor": "#E5ECF6",
           "caxis": {
            "gridcolor": "white",
            "linecolor": "white",
            "ticks": ""
           }
          },
          "title": {
           "x": 0.05
          },
          "xaxis": {
           "automargin": true,
           "gridcolor": "white",
           "linecolor": "white",
           "ticks": "",
           "title": {
            "standoff": 15
           },
           "zerolinecolor": "white",
           "zerolinewidth": 2
          },
          "yaxis": {
           "automargin": true,
           "gridcolor": "white",
           "linecolor": "white",
           "ticks": "",
           "title": {
            "standoff": 15
           },
           "zerolinecolor": "white",
           "zerolinewidth": 2
          }
         }
        },
        "title": {
         "text": "Bairros por Subprefeitura"
        },
        "xaxis": {
         "anchor": "y",
         "domain": [
          0,
          1
         ],
         "title": {
          "text": "subprefeitura"
         }
        },
        "yaxis": {
         "anchor": "x",
         "domain": [
          0,
          1
         ],
         "title": {
          "text": "sum of nome"
         }
        }
       }
      }
     },
     "metadata": {},
     "output_type": "display_data"
    }
   ],
   "source": [
    "qt_bairroSubprefeitura = bairro.groupby('subprefeitura').agg({'nome':'count'}).reset_index()\n",
    "\n",
    "fig = px.histogram(qt_bairroSubprefeitura, x='subprefeitura', y='nome', title='Bairros por Subprefeitura')\n",
    "fig.show()\n"
   ]
  },
  {
   "cell_type": "code",
   "execution_count": 43,
   "metadata": {},
   "outputs": [
    {
     "data": {
      "application/vnd.plotly.v1+json": {
       "config": {
        "plotlyServerURL": "https://plot.ly"
       },
       "data": [
        {
         "alignmentgroup": "True",
         "bingroup": "x",
         "histfunc": "sum",
         "hovertemplate": "nome_regiao_planejamento=%{x}<br>sum of nome=%{y}<extra></extra>",
         "legendgroup": "",
         "marker": {
          "color": "#636efa",
          "pattern": {
           "shape": ""
          }
         },
         "name": "",
         "offsetgroup": "",
         "orientation": "v",
         "showlegend": false,
         "type": "histogram",
         "x": [
          "Bangu",
          "Barra da Tijuca",
          "Campo Grande",
          "Centro",
          "Guaratiba",
          "Ilha do Governador",
          "Inhaúma",
          "Jacarepaguá",
          "Madureira",
          "Méier",
          "Pavuna",
          "Penha",
          "Ramos",
          "Santa Cruz",
          "Tijuca",
          "Zona Sul"
         ],
         "xaxis": "x",
         "y": [
          12,
          8,
          5,
          16,
          4,
          15,
          7,
          11,
          19,
          17,
          10,
          7,
          5,
          3,
          7,
          18
         ],
         "yaxis": "y"
        }
       ],
       "layout": {
        "barmode": "relative",
        "legend": {
         "tracegroupgap": 0
        },
        "template": {
         "data": {
          "bar": [
           {
            "error_x": {
             "color": "#2a3f5f"
            },
            "error_y": {
             "color": "#2a3f5f"
            },
            "marker": {
             "line": {
              "color": "#E5ECF6",
              "width": 0.5
             },
             "pattern": {
              "fillmode": "overlay",
              "size": 10,
              "solidity": 0.2
             }
            },
            "type": "bar"
           }
          ],
          "barpolar": [
           {
            "marker": {
             "line": {
              "color": "#E5ECF6",
              "width": 0.5
             },
             "pattern": {
              "fillmode": "overlay",
              "size": 10,
              "solidity": 0.2
             }
            },
            "type": "barpolar"
           }
          ],
          "carpet": [
           {
            "aaxis": {
             "endlinecolor": "#2a3f5f",
             "gridcolor": "white",
             "linecolor": "white",
             "minorgridcolor": "white",
             "startlinecolor": "#2a3f5f"
            },
            "baxis": {
             "endlinecolor": "#2a3f5f",
             "gridcolor": "white",
             "linecolor": "white",
             "minorgridcolor": "white",
             "startlinecolor": "#2a3f5f"
            },
            "type": "carpet"
           }
          ],
          "choropleth": [
           {
            "colorbar": {
             "outlinewidth": 0,
             "ticks": ""
            },
            "type": "choropleth"
           }
          ],
          "contour": [
           {
            "colorbar": {
             "outlinewidth": 0,
             "ticks": ""
            },
            "colorscale": [
             [
              0,
              "#0d0887"
             ],
             [
              0.1111111111111111,
              "#46039f"
             ],
             [
              0.2222222222222222,
              "#7201a8"
             ],
             [
              0.3333333333333333,
              "#9c179e"
             ],
             [
              0.4444444444444444,
              "#bd3786"
             ],
             [
              0.5555555555555556,
              "#d8576b"
             ],
             [
              0.6666666666666666,
              "#ed7953"
             ],
             [
              0.7777777777777778,
              "#fb9f3a"
             ],
             [
              0.8888888888888888,
              "#fdca26"
             ],
             [
              1,
              "#f0f921"
             ]
            ],
            "type": "contour"
           }
          ],
          "contourcarpet": [
           {
            "colorbar": {
             "outlinewidth": 0,
             "ticks": ""
            },
            "type": "contourcarpet"
           }
          ],
          "heatmap": [
           {
            "colorbar": {
             "outlinewidth": 0,
             "ticks": ""
            },
            "colorscale": [
             [
              0,
              "#0d0887"
             ],
             [
              0.1111111111111111,
              "#46039f"
             ],
             [
              0.2222222222222222,
              "#7201a8"
             ],
             [
              0.3333333333333333,
              "#9c179e"
             ],
             [
              0.4444444444444444,
              "#bd3786"
             ],
             [
              0.5555555555555556,
              "#d8576b"
             ],
             [
              0.6666666666666666,
              "#ed7953"
             ],
             [
              0.7777777777777778,
              "#fb9f3a"
             ],
             [
              0.8888888888888888,
              "#fdca26"
             ],
             [
              1,
              "#f0f921"
             ]
            ],
            "type": "heatmap"
           }
          ],
          "heatmapgl": [
           {
            "colorbar": {
             "outlinewidth": 0,
             "ticks": ""
            },
            "colorscale": [
             [
              0,
              "#0d0887"
             ],
             [
              0.1111111111111111,
              "#46039f"
             ],
             [
              0.2222222222222222,
              "#7201a8"
             ],
             [
              0.3333333333333333,
              "#9c179e"
             ],
             [
              0.4444444444444444,
              "#bd3786"
             ],
             [
              0.5555555555555556,
              "#d8576b"
             ],
             [
              0.6666666666666666,
              "#ed7953"
             ],
             [
              0.7777777777777778,
              "#fb9f3a"
             ],
             [
              0.8888888888888888,
              "#fdca26"
             ],
             [
              1,
              "#f0f921"
             ]
            ],
            "type": "heatmapgl"
           }
          ],
          "histogram": [
           {
            "marker": {
             "pattern": {
              "fillmode": "overlay",
              "size": 10,
              "solidity": 0.2
             }
            },
            "type": "histogram"
           }
          ],
          "histogram2d": [
           {
            "colorbar": {
             "outlinewidth": 0,
             "ticks": ""
            },
            "colorscale": [
             [
              0,
              "#0d0887"
             ],
             [
              0.1111111111111111,
              "#46039f"
             ],
             [
              0.2222222222222222,
              "#7201a8"
             ],
             [
              0.3333333333333333,
              "#9c179e"
             ],
             [
              0.4444444444444444,
              "#bd3786"
             ],
             [
              0.5555555555555556,
              "#d8576b"
             ],
             [
              0.6666666666666666,
              "#ed7953"
             ],
             [
              0.7777777777777778,
              "#fb9f3a"
             ],
             [
              0.8888888888888888,
              "#fdca26"
             ],
             [
              1,
              "#f0f921"
             ]
            ],
            "type": "histogram2d"
           }
          ],
          "histogram2dcontour": [
           {
            "colorbar": {
             "outlinewidth": 0,
             "ticks": ""
            },
            "colorscale": [
             [
              0,
              "#0d0887"
             ],
             [
              0.1111111111111111,
              "#46039f"
             ],
             [
              0.2222222222222222,
              "#7201a8"
             ],
             [
              0.3333333333333333,
              "#9c179e"
             ],
             [
              0.4444444444444444,
              "#bd3786"
             ],
             [
              0.5555555555555556,
              "#d8576b"
             ],
             [
              0.6666666666666666,
              "#ed7953"
             ],
             [
              0.7777777777777778,
              "#fb9f3a"
             ],
             [
              0.8888888888888888,
              "#fdca26"
             ],
             [
              1,
              "#f0f921"
             ]
            ],
            "type": "histogram2dcontour"
           }
          ],
          "mesh3d": [
           {
            "colorbar": {
             "outlinewidth": 0,
             "ticks": ""
            },
            "type": "mesh3d"
           }
          ],
          "parcoords": [
           {
            "line": {
             "colorbar": {
              "outlinewidth": 0,
              "ticks": ""
             }
            },
            "type": "parcoords"
           }
          ],
          "pie": [
           {
            "automargin": true,
            "type": "pie"
           }
          ],
          "scatter": [
           {
            "fillpattern": {
             "fillmode": "overlay",
             "size": 10,
             "solidity": 0.2
            },
            "type": "scatter"
           }
          ],
          "scatter3d": [
           {
            "line": {
             "colorbar": {
              "outlinewidth": 0,
              "ticks": ""
             }
            },
            "marker": {
             "colorbar": {
              "outlinewidth": 0,
              "ticks": ""
             }
            },
            "type": "scatter3d"
           }
          ],
          "scattercarpet": [
           {
            "marker": {
             "colorbar": {
              "outlinewidth": 0,
              "ticks": ""
             }
            },
            "type": "scattercarpet"
           }
          ],
          "scattergeo": [
           {
            "marker": {
             "colorbar": {
              "outlinewidth": 0,
              "ticks": ""
             }
            },
            "type": "scattergeo"
           }
          ],
          "scattergl": [
           {
            "marker": {
             "colorbar": {
              "outlinewidth": 0,
              "ticks": ""
             }
            },
            "type": "scattergl"
           }
          ],
          "scattermapbox": [
           {
            "marker": {
             "colorbar": {
              "outlinewidth": 0,
              "ticks": ""
             }
            },
            "type": "scattermapbox"
           }
          ],
          "scatterpolar": [
           {
            "marker": {
             "colorbar": {
              "outlinewidth": 0,
              "ticks": ""
             }
            },
            "type": "scatterpolar"
           }
          ],
          "scatterpolargl": [
           {
            "marker": {
             "colorbar": {
              "outlinewidth": 0,
              "ticks": ""
             }
            },
            "type": "scatterpolargl"
           }
          ],
          "scatterternary": [
           {
            "marker": {
             "colorbar": {
              "outlinewidth": 0,
              "ticks": ""
             }
            },
            "type": "scatterternary"
           }
          ],
          "surface": [
           {
            "colorbar": {
             "outlinewidth": 0,
             "ticks": ""
            },
            "colorscale": [
             [
              0,
              "#0d0887"
             ],
             [
              0.1111111111111111,
              "#46039f"
             ],
             [
              0.2222222222222222,
              "#7201a8"
             ],
             [
              0.3333333333333333,
              "#9c179e"
             ],
             [
              0.4444444444444444,
              "#bd3786"
             ],
             [
              0.5555555555555556,
              "#d8576b"
             ],
             [
              0.6666666666666666,
              "#ed7953"
             ],
             [
              0.7777777777777778,
              "#fb9f3a"
             ],
             [
              0.8888888888888888,
              "#fdca26"
             ],
             [
              1,
              "#f0f921"
             ]
            ],
            "type": "surface"
           }
          ],
          "table": [
           {
            "cells": {
             "fill": {
              "color": "#EBF0F8"
             },
             "line": {
              "color": "white"
             }
            },
            "header": {
             "fill": {
              "color": "#C8D4E3"
             },
             "line": {
              "color": "white"
             }
            },
            "type": "table"
           }
          ]
         },
         "layout": {
          "annotationdefaults": {
           "arrowcolor": "#2a3f5f",
           "arrowhead": 0,
           "arrowwidth": 1
          },
          "autotypenumbers": "strict",
          "coloraxis": {
           "colorbar": {
            "outlinewidth": 0,
            "ticks": ""
           }
          },
          "colorscale": {
           "diverging": [
            [
             0,
             "#8e0152"
            ],
            [
             0.1,
             "#c51b7d"
            ],
            [
             0.2,
             "#de77ae"
            ],
            [
             0.3,
             "#f1b6da"
            ],
            [
             0.4,
             "#fde0ef"
            ],
            [
             0.5,
             "#f7f7f7"
            ],
            [
             0.6,
             "#e6f5d0"
            ],
            [
             0.7,
             "#b8e186"
            ],
            [
             0.8,
             "#7fbc41"
            ],
            [
             0.9,
             "#4d9221"
            ],
            [
             1,
             "#276419"
            ]
           ],
           "sequential": [
            [
             0,
             "#0d0887"
            ],
            [
             0.1111111111111111,
             "#46039f"
            ],
            [
             0.2222222222222222,
             "#7201a8"
            ],
            [
             0.3333333333333333,
             "#9c179e"
            ],
            [
             0.4444444444444444,
             "#bd3786"
            ],
            [
             0.5555555555555556,
             "#d8576b"
            ],
            [
             0.6666666666666666,
             "#ed7953"
            ],
            [
             0.7777777777777778,
             "#fb9f3a"
            ],
            [
             0.8888888888888888,
             "#fdca26"
            ],
            [
             1,
             "#f0f921"
            ]
           ],
           "sequentialminus": [
            [
             0,
             "#0d0887"
            ],
            [
             0.1111111111111111,
             "#46039f"
            ],
            [
             0.2222222222222222,
             "#7201a8"
            ],
            [
             0.3333333333333333,
             "#9c179e"
            ],
            [
             0.4444444444444444,
             "#bd3786"
            ],
            [
             0.5555555555555556,
             "#d8576b"
            ],
            [
             0.6666666666666666,
             "#ed7953"
            ],
            [
             0.7777777777777778,
             "#fb9f3a"
            ],
            [
             0.8888888888888888,
             "#fdca26"
            ],
            [
             1,
             "#f0f921"
            ]
           ]
          },
          "colorway": [
           "#636efa",
           "#EF553B",
           "#00cc96",
           "#ab63fa",
           "#FFA15A",
           "#19d3f3",
           "#FF6692",
           "#B6E880",
           "#FF97FF",
           "#FECB52"
          ],
          "font": {
           "color": "#2a3f5f"
          },
          "geo": {
           "bgcolor": "white",
           "lakecolor": "white",
           "landcolor": "#E5ECF6",
           "showlakes": true,
           "showland": true,
           "subunitcolor": "white"
          },
          "hoverlabel": {
           "align": "left"
          },
          "hovermode": "closest",
          "mapbox": {
           "style": "light"
          },
          "paper_bgcolor": "white",
          "plot_bgcolor": "#E5ECF6",
          "polar": {
           "angularaxis": {
            "gridcolor": "white",
            "linecolor": "white",
            "ticks": ""
           },
           "bgcolor": "#E5ECF6",
           "radialaxis": {
            "gridcolor": "white",
            "linecolor": "white",
            "ticks": ""
           }
          },
          "scene": {
           "xaxis": {
            "backgroundcolor": "#E5ECF6",
            "gridcolor": "white",
            "gridwidth": 2,
            "linecolor": "white",
            "showbackground": true,
            "ticks": "",
            "zerolinecolor": "white"
           },
           "yaxis": {
            "backgroundcolor": "#E5ECF6",
            "gridcolor": "white",
            "gridwidth": 2,
            "linecolor": "white",
            "showbackground": true,
            "ticks": "",
            "zerolinecolor": "white"
           },
           "zaxis": {
            "backgroundcolor": "#E5ECF6",
            "gridcolor": "white",
            "gridwidth": 2,
            "linecolor": "white",
            "showbackground": true,
            "ticks": "",
            "zerolinecolor": "white"
           }
          },
          "shapedefaults": {
           "line": {
            "color": "#2a3f5f"
           }
          },
          "ternary": {
           "aaxis": {
            "gridcolor": "white",
            "linecolor": "white",
            "ticks": ""
           },
           "baxis": {
            "gridcolor": "white",
            "linecolor": "white",
            "ticks": ""
           },
           "bgcolor": "#E5ECF6",
           "caxis": {
            "gridcolor": "white",
            "linecolor": "white",
            "ticks": ""
           }
          },
          "title": {
           "x": 0.05
          },
          "xaxis": {
           "automargin": true,
           "gridcolor": "white",
           "linecolor": "white",
           "ticks": "",
           "title": {
            "standoff": 15
           },
           "zerolinecolor": "white",
           "zerolinewidth": 2
          },
          "yaxis": {
           "automargin": true,
           "gridcolor": "white",
           "linecolor": "white",
           "ticks": "",
           "title": {
            "standoff": 15
           },
           "zerolinecolor": "white",
           "zerolinewidth": 2
          }
         }
        },
        "title": {
         "text": "Bairros por Região de Planejamento"
        },
        "xaxis": {
         "anchor": "y",
         "domain": [
          0,
          1
         ],
         "title": {
          "text": "nome_regiao_planejamento"
         }
        },
        "yaxis": {
         "anchor": "x",
         "domain": [
          0,
          1
         ],
         "title": {
          "text": "sum of nome"
         }
        }
       }
      }
     },
     "metadata": {},
     "output_type": "display_data"
    }
   ],
   "source": [
    "qt_bairroPlanejamento = bairro.groupby('nome_regiao_planejamento').agg({'nome':'count'}).reset_index()\n",
    "\n",
    "fig = px.histogram(qt_bairroPlanejamento, x='nome_regiao_planejamento', y='nome', title='Bairros por Região de Planejamento')\n",
    "fig.show()\n"
   ]
  },
  {
   "cell_type": "markdown",
   "metadata": {},
   "source": [
    "**Plots Geográficos com Geopandas**"
   ]
  },
  {
   "cell_type": "code",
   "execution_count": null,
   "metadata": {},
   "outputs": [],
   "source": []
  }
 ],
 "metadata": {
  "kernelspec": {
   "display_name": "govrio",
   "language": "python",
   "name": "python3"
  },
  "language_info": {
   "codemirror_mode": {
    "name": "ipython",
    "version": 3
   },
   "file_extension": ".py",
   "mimetype": "text/x-python",
   "name": "python",
   "nbconvert_exporter": "python",
   "pygments_lexer": "ipython3",
   "version": "3.12.1"
  }
 },
 "nbformat": 4,
 "nbformat_minor": 2
}
