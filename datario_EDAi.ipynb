{
 "cells": [
  {
   "cell_type": "markdown",
   "metadata": {},
   "source": [
    "# EDA Datario\n",
    "Ao invés de começar por diversas queries dentro do GCP, foi decidido explorar os dados primeiramente através do Pandas, visando decidir todas as variáveis e features necessárias para responder todas as questões do desafio e também ter insights sobre possíveis análises extras.\n",
    "<br>Objetivos principais:\n",
    "- criar arquivos .csv para não consumir dados do GCP a cada vez que o código for rodado\n",
    "- ter uma visão geral de cada dataset\n",
    "- Decidir quais colunas são necessárias para a soluções de **Todas** as questões do desafio\n",
    "- Analisar a possibilidade de análises extras relevantes para os dashboards PowerBI e Streamlit."
   ]
  },
  {
   "cell_type": "markdown",
   "metadata": {},
   "source": [
    "## Perguntas SQL"
   ]
  },
  {
   "cell_type": "markdown",
   "metadata": {},
   "source": [
    "## Localização de chamados do 1746\n",
    "#### Utilize a tabela de Chamados do 1746 e a tabela de Bairros do Rio de Janeiro para as perguntas de 1-5.\n",
    "\n",
    "1. Quantos chamados foram abertos no dia 01/04/2023?\n",
    "2. Qual o tipo de chamado que teve mais teve chamados abertos no dia 01/04/2023?\n",
    "3. Quais os nomes dos 3 bairros que mais tiveram chamados abertos nesse dia?\n",
    "4. Qual o nome da subprefeitura com mais chamados abertos nesse dia?\n",
    "5. Existe algum chamado aberto nesse dia que não foi associado a um bairro ou subprefeitura na tabela de bairros? Se sim, por que isso acontece?\n",
    "\n",
    "\n",
    "## Chamados do 1746 em grandes eventos\n",
    "#### Utilize a tabela de Chamados do 1746 e a tabela de Ocupação Hoteleira em Grandes Eventos no Rio para as perguntas de 6-10. Para todas as perguntas considere o subtipo de chamado \"Perturbação do sossego\".\n",
    "\n",
    "6. Quantos chamados com o subtipo \"Perturbação do sossego\" foram abertos desde 01/01/2022 até 31/12/2023 (incluindo extremidades)?\n",
    "7. Selecione os chamados com esse subtipo que foram abertos durante os eventos contidos na tabela de eventos (Reveillon, Carnaval e Rock in Rio).\n",
    "8. Quantos chamados desse subtipo foram abertos em cada evento?\n",
    "9. Qual evento teve a maior média diária de chamados abertos desse subtipo?\n",
    "10. Compare as médias diárias de chamados abertos desse subtipo durante os eventos específicos (Reveillon, Carnaval e Rock in Rio) e a média diária de chamados abertos desse subtipo considerando todo o período de 01/01/2022 até 31/12/2023.\n",
    "\n",
    "##### Importante: a tabela de Chamados do 1746 possui mais de 10M de linhas. Evite fazer consultas exploratórias na tabela sem um filtro ou limite de linhas para economizar sua cota no BigQuery!"
   ]
  },
  {
   "cell_type": "markdown",
   "metadata": {},
   "source": [
    "## Imports"
   ]
  },
  {
   "cell_type": "code",
   "execution_count": 1,
   "metadata": {},
   "outputs": [],
   "source": [
    "import basedosdados as bd\n",
    "import pandas as pd\n",
    "from datetime import timedelta\n",
    "from utils import Weather"
   ]
  },
  {
   "cell_type": "code",
   "execution_count": 2,
   "metadata": {},
   "outputs": [],
   "source": [
    "# Config\n",
    "wrio = Weather(22.5423, 43.1021) # Cria instância da classe Weather com as coordenadas da cidade do Rio de Janeiro"
   ]
  },
  {
   "cell_type": "markdown",
   "metadata": {},
   "source": [
    "## Datasets\n",
    "Conforme primeiras observações feitas no notebook 'api_first_test.ipynb'. Vamos começar a analisar as tabelas do BigQuery em ordem da menor para a maior.\n",
    "<br>\n",
    "- datario.turismo_fluxo_visitantes.rede_hoteleira_ocupacao_eventos\n",
    "- datario.adm_central_atendimento_1746.chamado\n",
    "- datario.turismo_fluxo_visitantes.rede_hoteleira_ocupacao_eventos"
   ]
  },
  {
   "cell_type": "markdown",
   "metadata": {},
   "source": [
    "### Fluxo de visitantes/Ocupação de eventos "
   ]
  },
  {
   "cell_type": "markdown",
   "metadata": {},
   "source": [
    "Os códigos abaixo estão comentados para evitar o consumo desnecessário de dados no GCP"
   ]
  },
  {
   "cell_type": "code",
   "execution_count": 7,
   "metadata": {},
   "outputs": [
    {
     "name": "stdout",
     "output_type": "stream",
     "text": [
      "Downloading: 100%|\u001b[32m██████████\u001b[0m|\n"
     ]
    },
    {
     "data": {
      "text/plain": [
       "',ano,data_inicial,data_final,evento,taxa_ocupacao\\r\\n0,18/02 a 21/02 de 2023,2023-02-18,2023-02-21,Carnaval,0.9554\\r\\n1,30-31/12 e 01/01 (2022-2023),2022-12-30,2023-01-01,Reveillon,0.9251\\r\\n2,02/09 a 04/09 de 2022,2022-09-02,2022-09-04,Rock in Rio,0.8184\\r\\n3,08/09 a 11/09 de 2022,2022-09-08,2022-09-11,Rock in Rio,0.9451\\r\\n'"
      ]
     },
     "execution_count": 7,
     "metadata": {},
     "output_type": "execute_result"
    }
   ],
   "source": [
    "# Rodar a query apenas uma vez e salvar o dataframe como csv\n",
    "\n",
    "#query_ocup = \"SELECT * FROM datario.turismo_fluxo_visitantes.rede_hoteleira_ocupacao_eventos\"\n",
    "#ocup = bd.read_sql(query_ocup, billing_project_id=\"dados-rio-433111\")\n",
    "#ocup.to_csv('ocupacao.csv', index=False)"
   ]
  },
  {
   "cell_type": "code",
   "execution_count": 3,
   "metadata": {},
   "outputs": [
    {
     "data": {
      "text/html": [
       "<div>\n",
       "<style scoped>\n",
       "    .dataframe tbody tr th:only-of-type {\n",
       "        vertical-align: middle;\n",
       "    }\n",
       "\n",
       "    .dataframe tbody tr th {\n",
       "        vertical-align: top;\n",
       "    }\n",
       "\n",
       "    .dataframe thead th {\n",
       "        text-align: right;\n",
       "    }\n",
       "</style>\n",
       "<table border=\"1\" class=\"dataframe\">\n",
       "  <thead>\n",
       "    <tr style=\"text-align: right;\">\n",
       "      <th></th>\n",
       "      <th>ano</th>\n",
       "      <th>data_inicial</th>\n",
       "      <th>data_final</th>\n",
       "      <th>evento</th>\n",
       "      <th>taxa_ocupacao</th>\n",
       "    </tr>\n",
       "  </thead>\n",
       "  <tbody>\n",
       "    <tr>\n",
       "      <th>0</th>\n",
       "      <td>18/02 a 21/02 de 2023</td>\n",
       "      <td>2023-02-18</td>\n",
       "      <td>2023-02-21</td>\n",
       "      <td>Carnaval</td>\n",
       "      <td>0.9554</td>\n",
       "    </tr>\n",
       "    <tr>\n",
       "      <th>1</th>\n",
       "      <td>30-31/12 e 01/01 (2022-2023)</td>\n",
       "      <td>2022-12-30</td>\n",
       "      <td>2023-01-01</td>\n",
       "      <td>Reveillon</td>\n",
       "      <td>0.9251</td>\n",
       "    </tr>\n",
       "    <tr>\n",
       "      <th>2</th>\n",
       "      <td>02/09 a 04/09 de 2022</td>\n",
       "      <td>2022-09-02</td>\n",
       "      <td>2022-09-04</td>\n",
       "      <td>Rock in Rio</td>\n",
       "      <td>0.8184</td>\n",
       "    </tr>\n",
       "    <tr>\n",
       "      <th>3</th>\n",
       "      <td>08/09 a 11/09 de 2022</td>\n",
       "      <td>2022-09-08</td>\n",
       "      <td>2022-09-11</td>\n",
       "      <td>Rock in Rio</td>\n",
       "      <td>0.9451</td>\n",
       "    </tr>\n",
       "  </tbody>\n",
       "</table>\n",
       "</div>"
      ],
      "text/plain": [
       "                            ano data_inicial  data_final       evento  \\\n",
       "0         18/02 a 21/02 de 2023   2023-02-18  2023-02-21     Carnaval   \n",
       "1  30-31/12 e 01/01 (2022-2023)   2022-12-30  2023-01-01    Reveillon   \n",
       "2         02/09 a 04/09 de 2022   2022-09-02  2022-09-04  Rock in Rio   \n",
       "3         08/09 a 11/09 de 2022   2022-09-08  2022-09-11  Rock in Rio   \n",
       "\n",
       "   taxa_ocupacao  \n",
       "0         0.9554  \n",
       "1         0.9251  \n",
       "2         0.8184  \n",
       "3         0.9451  "
      ]
     },
     "execution_count": 3,
     "metadata": {},
     "output_type": "execute_result"
    }
   ],
   "source": [
    "# Dataset Ocupação Original\n",
    "ocup = pd.read_csv('ocupacao.csv')\n",
    "ocup"
   ]
  },
  {
   "cell_type": "markdown",
   "metadata": {},
   "source": [
    "Podemos observar que as observações foram feitas dentro do curto período de setembro/2022 até fevereiro/2023.\n",
    "<br>Todos os eventos aconteceram em pelo menos 3 dias\n",
    "<br>O Rock in Rio aconteceu por dois finais de semana seguidos, o ultimo tendo um fluxo de visitantes relativamente maior que o primeiro\n",
    "<br>O evento de maior fluxo foi o Carnaval, provavelmente por conta de ser feriado público e possívelmente ter sido em dias de calor(verificar com api)"
   ]
  },
  {
   "cell_type": "code",
   "execution_count": 4,
   "metadata": {},
   "outputs": [
    {
     "name": "stdout",
     "output_type": "stream",
     "text": [
      "<class 'pandas.core.frame.DataFrame'>\n",
      "RangeIndex: 4 entries, 0 to 3\n",
      "Data columns (total 5 columns):\n",
      " #   Column         Non-Null Count  Dtype  \n",
      "---  ------         --------------  -----  \n",
      " 0   ano            4 non-null      object \n",
      " 1   data_inicial   4 non-null      object \n",
      " 2   data_final     4 non-null      object \n",
      " 3   evento         4 non-null      object \n",
      " 4   taxa_ocupacao  4 non-null      float64\n",
      "dtypes: float64(1), object(4)\n",
      "memory usage: 292.0+ bytes\n"
     ]
    }
   ],
   "source": [
    "# Info do dataframe original\n",
    "ocup.info()"
   ]
  },
  {
   "cell_type": "markdown",
   "metadata": {},
   "source": [
    "**Tratativas**"
   ]
  },
  {
   "cell_type": "code",
   "execution_count": 10,
   "metadata": {},
   "outputs": [
    {
     "data": {
      "text/html": [
       "<div>\n",
       "<style scoped>\n",
       "    .dataframe tbody tr th:only-of-type {\n",
       "        vertical-align: middle;\n",
       "    }\n",
       "\n",
       "    .dataframe tbody tr th {\n",
       "        vertical-align: top;\n",
       "    }\n",
       "\n",
       "    .dataframe thead th {\n",
       "        text-align: right;\n",
       "    }\n",
       "</style>\n",
       "<table border=\"1\" class=\"dataframe\">\n",
       "  <thead>\n",
       "    <tr style=\"text-align: right;\">\n",
       "      <th></th>\n",
       "      <th>ano</th>\n",
       "      <th>data_inicial</th>\n",
       "      <th>data_final</th>\n",
       "      <th>evento</th>\n",
       "      <th>taxa_ocupacao</th>\n",
       "      <th>dia_inicial</th>\n",
       "      <th>dia_final</th>\n",
       "      <th>duracao</th>\n",
       "      <th>temperatura_data_inicial</th>\n",
       "      <th>clima_data_inicial</th>\n",
       "      <th>temperatura_data_final</th>\n",
       "      <th>clima_data_final</th>\n",
       "    </tr>\n",
       "  </thead>\n",
       "  <tbody>\n",
       "    <tr>\n",
       "      <th>0</th>\n",
       "      <td>2023</td>\n",
       "      <td>2023-02-18</td>\n",
       "      <td>2023-02-21</td>\n",
       "      <td>Carnaval</td>\n",
       "      <td>0.9554</td>\n",
       "      <td>Sábado</td>\n",
       "      <td>Terça-feira</td>\n",
       "      <td>4 days</td>\n",
       "      <td>15.151581</td>\n",
       "      <td>Mainly Sunny</td>\n",
       "      <td>20.324499</td>\n",
       "      <td>Mainly Sunny</td>\n",
       "    </tr>\n",
       "    <tr>\n",
       "      <th>1</th>\n",
       "      <td>(2022-2023)</td>\n",
       "      <td>2022-12-30</td>\n",
       "      <td>2023-01-01</td>\n",
       "      <td>Reveillon</td>\n",
       "      <td>0.9251</td>\n",
       "      <td>Sexta-feira</td>\n",
       "      <td>Domingo</td>\n",
       "      <td>3 days</td>\n",
       "      <td>10.391168</td>\n",
       "      <td>Rain</td>\n",
       "      <td>13.837001</td>\n",
       "      <td>Light Rain</td>\n",
       "    </tr>\n",
       "    <tr>\n",
       "      <th>2</th>\n",
       "      <td>2022</td>\n",
       "      <td>2022-09-02</td>\n",
       "      <td>2022-09-04</td>\n",
       "      <td>Rock in Rio</td>\n",
       "      <td>0.8184</td>\n",
       "      <td>Sexta-feira</td>\n",
       "      <td>Domingo</td>\n",
       "      <td>3 days</td>\n",
       "      <td>30.980749</td>\n",
       "      <td>Sunny</td>\n",
       "      <td>32.174496</td>\n",
       "      <td>Sunny</td>\n",
       "    </tr>\n",
       "    <tr>\n",
       "      <th>3</th>\n",
       "      <td>2022</td>\n",
       "      <td>2022-09-08</td>\n",
       "      <td>2022-09-11</td>\n",
       "      <td>Rock in Rio</td>\n",
       "      <td>0.9451</td>\n",
       "      <td>Quinta-feira</td>\n",
       "      <td>Domingo</td>\n",
       "      <td>4 days</td>\n",
       "      <td>32.207832</td>\n",
       "      <td>Sunny</td>\n",
       "      <td>32.826580</td>\n",
       "      <td>Mainly Sunny</td>\n",
       "    </tr>\n",
       "  </tbody>\n",
       "</table>\n",
       "</div>"
      ],
      "text/plain": [
       "           ano data_inicial data_final       evento  taxa_ocupacao  \\\n",
       "0         2023   2023-02-18 2023-02-21     Carnaval         0.9554   \n",
       "1  (2022-2023)   2022-12-30 2023-01-01    Reveillon         0.9251   \n",
       "2         2022   2022-09-02 2022-09-04  Rock in Rio         0.8184   \n",
       "3         2022   2022-09-08 2022-09-11  Rock in Rio         0.9451   \n",
       "\n",
       "    dia_inicial    dia_final duracao  temperatura_data_inicial  \\\n",
       "0        Sábado  Terça-feira  4 days                 15.151581   \n",
       "1   Sexta-feira      Domingo  3 days                 10.391168   \n",
       "2   Sexta-feira      Domingo  3 days                 30.980749   \n",
       "3  Quinta-feira      Domingo  4 days                 32.207832   \n",
       "\n",
       "  clima_data_inicial  temperatura_data_final clima_data_final  \n",
       "0       Mainly Sunny               20.324499     Mainly Sunny  \n",
       "1               Rain               13.837001       Light Rain  \n",
       "2              Sunny               32.174496            Sunny  \n",
       "3              Sunny               32.826580     Mainly Sunny  "
      ]
     },
     "execution_count": 10,
     "metadata": {},
     "output_type": "execute_result"
    }
   ],
   "source": [
    "# Converter colunas de datas para datetime\n",
    "ocup['data_inicial'] = pd.to_datetime(ocup['data_inicial'])\n",
    "ocup['data_final'] = pd.to_datetime(ocup['data_final'])\n",
    "# Extrair apenas o ano(s) da coluna ano\n",
    "ocup['ano'] = ocup['ano'].apply(lambda x: x.split()[-1])\n",
    "# Criar colunas para o dia da semana de início e fim dos eventos escrita em Português\n",
    "dias = {\n",
    "    0: \"Segunda-feira\",\n",
    "    1: \"Terça-feira\",\n",
    "    2: \"Quarta-feira\",\n",
    "    3: \"Quinta-feira\",\n",
    "    4: \"Sexta-feira\",\n",
    "    5: \"Sábado\",\n",
    "    6: \"Domingo\"\n",
    "}\n",
    "ocup['dia_inicial'] = ocup['data_inicial'].apply(lambda x: x.weekday()).map(dias)\n",
    "ocup['dia_final'] = ocup['data_final'].apply(lambda x: x.weekday()).map(dias)\n",
    "# Coluna de duração dos eventos(quantidade de dias)\n",
    "ocup['duracao'] = (ocup['data_final'] - ocup['data_inicial']) + timedelta(days=1)\n",
    "# Temperatura/clima do dia utilizando o método forecast da classe Weather\n",
    "ocup['temperatura_data_inicial'] = ocup['data_inicial'].apply(lambda x: wrio.forecast(x.date(), x.date())['temperatura media'])\n",
    "ocup['clima_data_inicial'] = ocup['data_inicial'].apply(lambda x: wrio.forecast(x.date(), x.date())['clima'])\n",
    "ocup['temperatura_data_final'] = ocup['data_final'].apply(lambda x: wrio.forecast(x.date(), x.date())['temperatura media'])\n",
    "ocup['clima_data_final'] = ocup['data_final'].apply(lambda x: wrio.forecast(x.date(), x.date())['clima'])\n",
    "ocup"
   ]
  },
  {
   "cell_type": "markdown",
   "metadata": {},
   "source": [
    "**Conclusão**\n",
    "<br>Apesar de ter sido em época de chuva e temperaturas baixas, o Reveillon teve uma taxa de ocupação mais alta do que no primeiro final de semana do evento Rock in Rio\n",
    "<br>O carnaval liderou a taxa de ocupação mesmo não sendo um dia considerado \"Quente\" para o cidadão Carioca\n",
    "\n",
    "**Sugestão de análise futura**\n",
    "A taxa de ocupação tem alguma relação com a quantidade de chamados de Perturbação do Sossego nas datas dos eventos?"
   ]
  },
  {
   "cell_type": "code",
   "execution_count": null,
   "metadata": {},
   "outputs": [],
   "source": []
  }
 ],
 "metadata": {
  "kernelspec": {
   "display_name": "govrio",
   "language": "python",
   "name": "python3"
  },
  "language_info": {
   "codemirror_mode": {
    "name": "ipython",
    "version": 3
   },
   "file_extension": ".py",
   "mimetype": "text/x-python",
   "name": "python",
   "nbconvert_exporter": "python",
   "pygments_lexer": "ipython3",
   "version": "3.12.1"
  }
 },
 "nbformat": 4,
 "nbformat_minor": 2
}
