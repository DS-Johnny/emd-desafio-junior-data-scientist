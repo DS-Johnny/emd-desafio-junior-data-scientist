{
 "cells": [
  {
   "cell_type": "markdown",
   "metadata": {},
   "source": [
    "# Imports\n",
    "- Devido à alguns erros ao tentar instalar o pacote **basedosdados**, acabei optando por instalar uma versão um pouco mais antiga do pacote\n",
    "<br>pip install basedosdados==2.0.0b15\n",
    "- Para que ela funcione ainda precisei atualizar os pacotes numpy e pandas\n",
    "<br>pip install --upgrade pandas\n",
    "<br>pip install --upgrade numpy"
   ]
  },
  {
   "cell_type": "markdown",
   "metadata": {},
   "source": [
    "**API Reference:** https://basedosdados.github.io/mais/api_reference_python/"
   ]
  },
  {
   "cell_type": "code",
   "execution_count": 12,
   "metadata": {},
   "outputs": [],
   "source": [
    "import basedosdados as bd"
   ]
  },
  {
   "cell_type": "markdown",
   "metadata": {},
   "source": [
    "# Data"
   ]
  },
  {
   "cell_type": "code",
   "execution_count": 20,
   "metadata": {},
   "outputs": [
    {
     "name": "stdout",
     "output_type": "stream",
     "text": [
      "Downloading: 100%|\u001b[32m██████████\u001b[0m|\n",
      "Downloading: 100%|\u001b[32m██████████\u001b[0m|\n",
      "Downloading: 100%|\u001b[32m██████████\u001b[0m|\n"
     ]
    }
   ],
   "source": [
    "# BigQuery Script\n",
    "query_b = \"SELECT * FROM datario.dados_mestres.bairro LIMIT 10\"\n",
    "query_c = \"SELECT * FROM datario.adm_central_atendimento_1746.chamado LIMIT 10\"\n",
    "query_e = \"SELECT * FROM datario.turismo_fluxo_visitantes.rede_hoteleira_ocupacao_eventos LIMIT 10\"\n",
    "\n",
    "# Retrieve data\n",
    "bairro = bd.read_sql(query_b, billing_project_id=\"dados-rio-433111\")\n",
    "chamado = bd.read_sql(query_c, billing_project_id=\"dados-rio-433111\")\n",
    "eventos = bd.read_sql(query_e, billing_project_id=\"dados-rio-433111\")"
   ]
  },
  {
   "cell_type": "code",
   "execution_count": 32,
   "metadata": {},
   "outputs": [
    {
     "name": "stdout",
     "output_type": "stream",
     "text": [
      "Dataset: bairro\n",
      "QT_Columns: 12\n",
      "Columns: Index(['id_bairro', 'nome', 'id_area_planejamento', 'id_regiao_planejamento',\n",
      "       'nome_regiao_planejamento', 'id_regiao_administrativa',\n",
      "       'nome_regiao_administrativa', 'subprefeitura', 'area', 'perimetro',\n",
      "       'geometry_wkt', 'geometry'],\n",
      "      dtype='object')\n",
      "\n",
      "Dataset: chamado\n",
      "QT_Columns: 32\n",
      "Columns: Index(['id_chamado', 'id_origem_ocorrencia', 'data_inicio', 'data_fim',\n",
      "       'id_bairro', 'id_territorialidade', 'id_logradouro',\n",
      "       'numero_logradouro', 'id_unidade_organizacional',\n",
      "       'nome_unidade_organizacional', 'id_unidade_organizacional_mae',\n",
      "       'unidade_organizacional_ouvidoria', 'categoria', 'id_tipo', 'tipo',\n",
      "       'id_subtipo', 'subtipo', 'status', 'longitude', 'latitude',\n",
      "       'data_alvo_finalizacao', 'data_alvo_diagnostico',\n",
      "       'data_real_diagnostico', 'tempo_prazo', 'prazo_unidade', 'prazo_tipo',\n",
      "       'dentro_prazo', 'situacao', 'tipo_situacao', 'justificativa_status',\n",
      "       'reclamacoes', 'data_particao'],\n",
      "      dtype='object')\n",
      "\n",
      "Dataset: eventos\n",
      "QT_Columns: 5\n",
      "Columns: Index(['ano', 'data_inicial', 'data_final', 'evento', 'taxa_ocupacao'], dtype='object')\n",
      "\n"
     ]
    }
   ],
   "source": [
    "# Foi observado que o método read_sql já retorna um objeto DataFrame Pandas, e os métodos e atributos de dataframe pandas podem ser utilizados sem a necessidade de importar a biblioteca \n",
    "\n",
    "# Quantidade e nomes das colunas de cada dataset a ser trabalhado no desafio\n",
    "datasets = {'bairro':bairro, 'chamado':chamado, 'eventos':eventos}\n",
    "for ds,data in datasets.items():\n",
    "    print(f'Dataset: {ds}\\nQT_Columns: {data.shape[1]}\\nColumns: {data.columns}\\n')"
   ]
  },
  {
   "cell_type": "markdown",
   "metadata": {},
   "source": [
    "# Exploring the API"
   ]
  },
  {
   "cell_type": "markdown",
   "metadata": {},
   "source": []
  },
  {
   "cell_type": "code",
   "execution_count": null,
   "metadata": {},
   "outputs": [],
   "source": []
  }
 ],
 "metadata": {
  "kernelspec": {
   "display_name": "govrio",
   "language": "python",
   "name": "python3"
  },
  "language_info": {
   "codemirror_mode": {
    "name": "ipython",
    "version": 3
   },
   "file_extension": ".py",
   "mimetype": "text/x-python",
   "name": "python",
   "nbconvert_exporter": "python",
   "pygments_lexer": "ipython3",
   "version": "3.12.1"
  }
 },
 "nbformat": 4,
 "nbformat_minor": 2
}
