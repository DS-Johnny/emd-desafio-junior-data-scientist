{
 "cells": [
  {
   "cell_type": "markdown",
   "metadata": {},
   "source": [
    "# Imports\n",
    "- Devido à alguns erros ao tentar instalar o pacote **basedosdados**, acabei optando por instalar uma versão um pouco mais antiga do pacote\n",
    "<br>pip install basedosdados==2.0.0b15\n",
    "- Para que ela funcione ainda precisei atualizar os pacotes numpy e pandas\n",
    "<br>pip install --upgrade pandas\n",
    "<br>pip install --upgrade numpy"
   ]
  },
  {
   "cell_type": "markdown",
   "metadata": {},
   "source": [
    "**API Reference:** https://basedosdados.github.io/mais/api_reference_python/"
   ]
  },
  {
   "cell_type": "code",
   "execution_count": 12,
   "metadata": {},
   "outputs": [],
   "source": [
    "import basedosdados as bd"
   ]
  },
  {
   "cell_type": "markdown",
   "metadata": {},
   "source": [
    "# Data"
   ]
  },
  {
   "cell_type": "code",
   "execution_count": 20,
   "metadata": {},
   "outputs": [
    {
     "name": "stdout",
     "output_type": "stream",
     "text": [
      "Downloading: 100%|\u001b[32m██████████\u001b[0m|\n",
      "Downloading: 100%|\u001b[32m██████████\u001b[0m|\n",
      "Downloading: 100%|\u001b[32m██████████\u001b[0m|\n"
     ]
    }
   ],
   "source": [
    "# BigQuery Script\n",
    "query_b = \"SELECT * FROM datario.dados_mestres.bairro LIMIT 10\"\n",
    "query_c = \"SELECT * FROM datario.adm_central_atendimento_1746.chamado LIMIT 10\"\n",
    "query_e = \"SELECT * FROM datario.turismo_fluxo_visitantes.rede_hoteleira_ocupacao_eventos LIMIT 10\"\n",
    "\n",
    "# Retrieve data\n",
    "bairro = bd.read_sql(query_b, billing_project_id=\"dados-rio-433111\")\n",
    "chamado = bd.read_sql(query_c, billing_project_id=\"dados-rio-433111\")\n",
    "eventos = bd.read_sql(query_e, billing_project_id=\"dados-rio-433111\")"
   ]
  },
  {
   "cell_type": "code",
   "execution_count": 39,
   "metadata": {},
   "outputs": [
    {
     "name": "stdout",
     "output_type": "stream",
     "text": [
      "Dataset: bairro\n",
      "QT_Columns: 12\n",
      "Columns: Index(['id_bairro', 'nome', 'id_area_planejamento', 'id_regiao_planejamento',\n",
      "       'nome_regiao_planejamento', 'id_regiao_administrativa',\n",
      "       'nome_regiao_administrativa', 'subprefeitura', 'area', 'perimetro',\n",
      "       'geometry_wkt', 'geometry'],\n",
      "      dtype='object')\n",
      "\n",
      "Dataset: chamado\n",
      "QT_Columns: 32\n",
      "Columns: Index(['id_chamado', 'id_origem_ocorrencia', 'data_inicio', 'data_fim',\n",
      "       'id_bairro', 'id_territorialidade', 'id_logradouro',\n",
      "       'numero_logradouro', 'id_unidade_organizacional',\n",
      "       'nome_unidade_organizacional', 'id_unidade_organizacional_mae',\n",
      "       'unidade_organizacional_ouvidoria', 'categoria', 'id_tipo', 'tipo',\n",
      "       'id_subtipo', 'subtipo', 'status', 'longitude', 'latitude',\n",
      "       'data_alvo_finalizacao', 'data_alvo_diagnostico',\n",
      "       'data_real_diagnostico', 'tempo_prazo', 'prazo_unidade', 'prazo_tipo',\n",
      "       'dentro_prazo', 'situacao', 'tipo_situacao', 'justificativa_status',\n",
      "       'reclamacoes', 'data_particao'],\n",
      "      dtype='object')\n",
      "\n",
      "Dataset: eventos\n",
      "QT_Columns: 5\n",
      "Columns: Index(['ano', 'data_inicial', 'data_final', 'evento', 'taxa_ocupacao'], dtype='object')\n",
      "\n"
     ]
    }
   ],
   "source": [
    "# Foi observado que o método read_sql já retorna um objeto DataFrame Pandas, e os métodos e atributos de dataframe pandas podem ser utilizados sem a necessidade de importar a biblioteca \n",
    "\n",
    "# Quantidade e nomes das colunas de cada dataset a ser trabalhado no desafio\n",
    "datasets = {'bairro':bairro, 'chamado':chamado, 'eventos':eventos}\n",
    "for ds,data in datasets.items():\n",
    "    print(f'Dataset: {ds}\\nQT_Columns: {data.shape[1]}\\nColumns: {data.columns}\\n')"
   ]
  },
  {
   "cell_type": "markdown",
   "metadata": {},
   "source": [
    "# Exploring the APIs"
   ]
  },
  {
   "cell_type": "markdown",
   "metadata": {},
   "source": [
    "## Public Holidays API"
   ]
  },
  {
   "cell_type": "markdown",
   "metadata": {},
   "source": [
    "- https://date.nager.at/swagger/index.html\n",
    "- https://github.com/nager/Nager.Date\n",
    "- https://date.nager.at/Api"
   ]
  },
  {
   "cell_type": "code",
   "execution_count": 81,
   "metadata": {},
   "outputs": [],
   "source": [
    "import json\n",
    "import requests\n",
    "import pandas as pd\n",
    "\n",
    "response = requests.get('https://date.nager.at/api/v3/publicholidays/2024/BR')\n",
    "public_holidays = json.loads(response.content)"
   ]
  },
  {
   "cell_type": "code",
   "execution_count": 75,
   "metadata": {},
   "outputs": [
    {
     "name": "stdout",
     "output_type": "stream",
     "text": [
      "<class 'pandas.core.frame.DataFrame'>\n",
      "RangeIndex: 14 entries, 0 to 13\n",
      "Data columns (total 9 columns):\n",
      " #   Column       Non-Null Count  Dtype \n",
      "---  ------       --------------  ----- \n",
      " 0   date         14 non-null     object\n",
      " 1   localName    14 non-null     object\n",
      " 2   name         14 non-null     object\n",
      " 3   countryCode  14 non-null     object\n",
      " 4   fixed        14 non-null     bool  \n",
      " 5   global       14 non-null     bool  \n",
      " 6   counties     1 non-null      object\n",
      " 7   launchYear   0 non-null      object\n",
      " 8   types        14 non-null     object\n",
      "dtypes: bool(2), object(7)\n",
      "memory usage: 944.0+ bytes\n"
     ]
    }
   ],
   "source": [
    "holidays = pd.DataFrame(public_holidays)\n",
    "holidays.info()"
   ]
  },
  {
   "cell_type": "code",
   "execution_count": 82,
   "metadata": {},
   "outputs": [
    {
     "data": {
      "text/html": [
       "<div>\n",
       "<style scoped>\n",
       "    .dataframe tbody tr th:only-of-type {\n",
       "        vertical-align: middle;\n",
       "    }\n",
       "\n",
       "    .dataframe tbody tr th {\n",
       "        vertical-align: top;\n",
       "    }\n",
       "\n",
       "    .dataframe thead th {\n",
       "        text-align: right;\n",
       "    }\n",
       "</style>\n",
       "<table border=\"1\" class=\"dataframe\">\n",
       "  <thead>\n",
       "    <tr style=\"text-align: right;\">\n",
       "      <th></th>\n",
       "      <th>date</th>\n",
       "      <th>localName</th>\n",
       "      <th>name</th>\n",
       "      <th>countryCode</th>\n",
       "      <th>fixed</th>\n",
       "      <th>global</th>\n",
       "      <th>counties</th>\n",
       "      <th>launchYear</th>\n",
       "      <th>types</th>\n",
       "    </tr>\n",
       "  </thead>\n",
       "  <tbody>\n",
       "    <tr>\n",
       "      <th>0</th>\n",
       "      <td>2024-01-01</td>\n",
       "      <td>Confraternização Universal</td>\n",
       "      <td>New Year's Day</td>\n",
       "      <td>BR</td>\n",
       "      <td>False</td>\n",
       "      <td>True</td>\n",
       "      <td>None</td>\n",
       "      <td>None</td>\n",
       "      <td>[Public]</td>\n",
       "    </tr>\n",
       "    <tr>\n",
       "      <th>1</th>\n",
       "      <td>2024-02-12</td>\n",
       "      <td>Carnaval</td>\n",
       "      <td>Carnival</td>\n",
       "      <td>BR</td>\n",
       "      <td>False</td>\n",
       "      <td>True</td>\n",
       "      <td>None</td>\n",
       "      <td>None</td>\n",
       "      <td>[Bank, Optional]</td>\n",
       "    </tr>\n",
       "    <tr>\n",
       "      <th>2</th>\n",
       "      <td>2024-02-13</td>\n",
       "      <td>Carnaval</td>\n",
       "      <td>Carnival</td>\n",
       "      <td>BR</td>\n",
       "      <td>False</td>\n",
       "      <td>True</td>\n",
       "      <td>None</td>\n",
       "      <td>None</td>\n",
       "      <td>[Bank, Optional]</td>\n",
       "    </tr>\n",
       "    <tr>\n",
       "      <th>3</th>\n",
       "      <td>2024-03-29</td>\n",
       "      <td>Sexta-feira Santa</td>\n",
       "      <td>Good Friday</td>\n",
       "      <td>BR</td>\n",
       "      <td>False</td>\n",
       "      <td>True</td>\n",
       "      <td>None</td>\n",
       "      <td>None</td>\n",
       "      <td>[Public]</td>\n",
       "    </tr>\n",
       "    <tr>\n",
       "      <th>4</th>\n",
       "      <td>2024-03-31</td>\n",
       "      <td>Domingo de Páscoa</td>\n",
       "      <td>Easter Sunday</td>\n",
       "      <td>BR</td>\n",
       "      <td>False</td>\n",
       "      <td>True</td>\n",
       "      <td>None</td>\n",
       "      <td>None</td>\n",
       "      <td>[Public]</td>\n",
       "    </tr>\n",
       "    <tr>\n",
       "      <th>5</th>\n",
       "      <td>2024-04-21</td>\n",
       "      <td>Dia de Tiradentes</td>\n",
       "      <td>Tiradentes</td>\n",
       "      <td>BR</td>\n",
       "      <td>False</td>\n",
       "      <td>True</td>\n",
       "      <td>None</td>\n",
       "      <td>None</td>\n",
       "      <td>[Public]</td>\n",
       "    </tr>\n",
       "    <tr>\n",
       "      <th>6</th>\n",
       "      <td>2024-05-01</td>\n",
       "      <td>Dia do Trabalhador</td>\n",
       "      <td>Labour Day</td>\n",
       "      <td>BR</td>\n",
       "      <td>False</td>\n",
       "      <td>True</td>\n",
       "      <td>None</td>\n",
       "      <td>None</td>\n",
       "      <td>[Public]</td>\n",
       "    </tr>\n",
       "    <tr>\n",
       "      <th>7</th>\n",
       "      <td>2024-05-30</td>\n",
       "      <td>Corpus Christi</td>\n",
       "      <td>Corpus Christi</td>\n",
       "      <td>BR</td>\n",
       "      <td>False</td>\n",
       "      <td>True</td>\n",
       "      <td>None</td>\n",
       "      <td>None</td>\n",
       "      <td>[Public]</td>\n",
       "    </tr>\n",
       "    <tr>\n",
       "      <th>8</th>\n",
       "      <td>2024-07-09</td>\n",
       "      <td>Revolução Constitucionalista de 1932</td>\n",
       "      <td>Constitutionalist Revolution of 1932</td>\n",
       "      <td>BR</td>\n",
       "      <td>False</td>\n",
       "      <td>False</td>\n",
       "      <td>[BR-SP]</td>\n",
       "      <td>None</td>\n",
       "      <td>[Public]</td>\n",
       "    </tr>\n",
       "    <tr>\n",
       "      <th>9</th>\n",
       "      <td>2024-09-07</td>\n",
       "      <td>Dia da Independência</td>\n",
       "      <td>Independence Day</td>\n",
       "      <td>BR</td>\n",
       "      <td>False</td>\n",
       "      <td>True</td>\n",
       "      <td>None</td>\n",
       "      <td>None</td>\n",
       "      <td>[Public]</td>\n",
       "    </tr>\n",
       "    <tr>\n",
       "      <th>10</th>\n",
       "      <td>2024-10-12</td>\n",
       "      <td>Nossa Senhora Aparecida</td>\n",
       "      <td>Our Lady of Aparecida</td>\n",
       "      <td>BR</td>\n",
       "      <td>False</td>\n",
       "      <td>True</td>\n",
       "      <td>None</td>\n",
       "      <td>None</td>\n",
       "      <td>[Public]</td>\n",
       "    </tr>\n",
       "    <tr>\n",
       "      <th>11</th>\n",
       "      <td>2024-11-02</td>\n",
       "      <td>Dia de Finados</td>\n",
       "      <td>All Souls' Day</td>\n",
       "      <td>BR</td>\n",
       "      <td>False</td>\n",
       "      <td>True</td>\n",
       "      <td>None</td>\n",
       "      <td>None</td>\n",
       "      <td>[Public]</td>\n",
       "    </tr>\n",
       "    <tr>\n",
       "      <th>12</th>\n",
       "      <td>2024-11-15</td>\n",
       "      <td>Proclamação da República</td>\n",
       "      <td>Republic Proclamation Day</td>\n",
       "      <td>BR</td>\n",
       "      <td>False</td>\n",
       "      <td>True</td>\n",
       "      <td>None</td>\n",
       "      <td>None</td>\n",
       "      <td>[Public]</td>\n",
       "    </tr>\n",
       "    <tr>\n",
       "      <th>13</th>\n",
       "      <td>2024-12-25</td>\n",
       "      <td>Natal</td>\n",
       "      <td>Christmas Day</td>\n",
       "      <td>BR</td>\n",
       "      <td>False</td>\n",
       "      <td>True</td>\n",
       "      <td>None</td>\n",
       "      <td>None</td>\n",
       "      <td>[Public]</td>\n",
       "    </tr>\n",
       "  </tbody>\n",
       "</table>\n",
       "</div>"
      ],
      "text/plain": [
       "          date                             localName  \\\n",
       "0   2024-01-01            Confraternização Universal   \n",
       "1   2024-02-12                              Carnaval   \n",
       "2   2024-02-13                              Carnaval   \n",
       "3   2024-03-29                     Sexta-feira Santa   \n",
       "4   2024-03-31                     Domingo de Páscoa   \n",
       "5   2024-04-21                     Dia de Tiradentes   \n",
       "6   2024-05-01                    Dia do Trabalhador   \n",
       "7   2024-05-30                        Corpus Christi   \n",
       "8   2024-07-09  Revolução Constitucionalista de 1932   \n",
       "9   2024-09-07                  Dia da Independência   \n",
       "10  2024-10-12               Nossa Senhora Aparecida   \n",
       "11  2024-11-02                        Dia de Finados   \n",
       "12  2024-11-15              Proclamação da República   \n",
       "13  2024-12-25                                 Natal   \n",
       "\n",
       "                                    name countryCode  fixed  global counties  \\\n",
       "0                         New Year's Day          BR  False    True     None   \n",
       "1                               Carnival          BR  False    True     None   \n",
       "2                               Carnival          BR  False    True     None   \n",
       "3                            Good Friday          BR  False    True     None   \n",
       "4                          Easter Sunday          BR  False    True     None   \n",
       "5                             Tiradentes          BR  False    True     None   \n",
       "6                             Labour Day          BR  False    True     None   \n",
       "7                         Corpus Christi          BR  False    True     None   \n",
       "8   Constitutionalist Revolution of 1932          BR  False   False  [BR-SP]   \n",
       "9                       Independence Day          BR  False    True     None   \n",
       "10                 Our Lady of Aparecida          BR  False    True     None   \n",
       "11                        All Souls' Day          BR  False    True     None   \n",
       "12             Republic Proclamation Day          BR  False    True     None   \n",
       "13                         Christmas Day          BR  False    True     None   \n",
       "\n",
       "   launchYear             types  \n",
       "0        None          [Public]  \n",
       "1        None  [Bank, Optional]  \n",
       "2        None  [Bank, Optional]  \n",
       "3        None          [Public]  \n",
       "4        None          [Public]  \n",
       "5        None          [Public]  \n",
       "6        None          [Public]  \n",
       "7        None          [Public]  \n",
       "8        None          [Public]  \n",
       "9        None          [Public]  \n",
       "10       None          [Public]  \n",
       "11       None          [Public]  \n",
       "12       None          [Public]  \n",
       "13       None          [Public]  "
      ]
     },
     "execution_count": 82,
     "metadata": {},
     "output_type": "execute_result"
    }
   ],
   "source": [
    "holidays"
   ]
  },
  {
   "cell_type": "markdown",
   "metadata": {},
   "source": [
    "## Open-Meteo Historical Weather API"
   ]
  },
  {
   "cell_type": "markdown",
   "metadata": {},
   "source": [
    "- De acordo com http://www.rio.rj.gov.br, a cidade do Rio de Janeiro está situada a 22º54'23\" de latitude sul e 43º10'21\" de longitude oeste, no município do mesmo nome: é a capital do Estado do Rio de Janeiro, um dos componentes da Região Sudeste do Brasil.\n",
    "<br>lat: 22.5423\n",
    "<br>lon: 43.1021"
   ]
  },
  {
   "cell_type": "code",
   "execution_count": null,
   "metadata": {},
   "outputs": [],
   "source": []
  }
 ],
 "metadata": {
  "kernelspec": {
   "display_name": "govrio",
   "language": "python",
   "name": "python3"
  },
  "language_info": {
   "codemirror_mode": {
    "name": "ipython",
    "version": 3
   },
   "file_extension": ".py",
   "mimetype": "text/x-python",
   "name": "python",
   "nbconvert_exporter": "python",
   "pygments_lexer": "ipython3",
   "version": "3.12.1"
  }
 },
 "nbformat": 4,
 "nbformat_minor": 2
}
