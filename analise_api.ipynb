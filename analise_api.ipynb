{
 "cells": [
  {
   "cell_type": "markdown",
   "metadata": {},
   "source": [
    "# Análise API"
   ]
  },
  {
   "cell_type": "markdown",
   "metadata": {},
   "source": [
    "## Integração com APIs: Feriados e Tempo"
   ]
  },
  {
   "cell_type": "markdown",
   "metadata": {},
   "source": [
    "\n",
    "\n",
    "### Utilize as APIs públicas abaixo para responder às questões 1-8:\n",
    "- [Public Holiday API](https://date.nager.at/Api)\n",
    "- [Open-Meteo Historical Weather API](https://open-meteo.com/)\n",
    "\n",
    "1. **Quantos feriados há no Brasil em todo o ano de 2024?**\n",
    "\n",
    "2. **Qual mês de 2024 tem o maior número de feriados?**\n",
    "\n",
    "3. **Quantos feriados em 2024 caem em dias de semana (segunda a sexta-feira)?**\n",
    "\n",
    "4. **Qual foi a temperatura média em cada mês?**  \n",
    "   Utilize a Open-Meteo Historical Weather API para obter as temperaturas médias diárias no Rio de Janeiro de 01/01/2024 a 01/08/2024.  \n",
    "   \n",
    "5. **Qual foi o tempo predominante em cada mês nesse período?**  \n",
    "   Utilize como referência para o código de tempo (_weather_code_) o seguinte link: [WMO Code](https://gist.github.com/stellasphere/9490c195ed2b53c707087c8c2db4ec0c).\n",
    "\n",
    "6. **Qual foi o tempo e a temperatura média em cada feriado de 01/01/2024 a 01/08/2024?**\n",
    "\n",
    "7. **Considere as seguintes suposições:**\n",
    "   - O cidadão carioca considera \"frio\" um dia cuja temperatura média é menor que 20ºC;\n",
    "   - Um feriado bem aproveitado no Rio de Janeiro é aquele em que se pode ir à praia;\n",
    "   - O cidadão carioca só vai à praia quando não está com frio;\n",
    "   - O cidadão carioca também só vai à praia em dias com sol, evitando dias **totalmente** nublados ou chuvosos (considere _weather_code_ para determinar as condições climáticas).\n",
    "\n",
    "   Houve algum feriado \"não aproveitável\" em 2024? Se sim, qual(is)?\n",
    "\n",
    "8. **Qual foi o feriado \"mais aproveitável\" de 2024?**  \n",
    "   Considere o melhor par tempo e temperatura."
   ]
  },
  {
   "cell_type": "markdown",
   "metadata": {},
   "source": [
    "## Imports"
   ]
  },
  {
   "cell_type": "code",
   "execution_count": 110,
   "metadata": {},
   "outputs": [],
   "source": [
    "import json\n",
    "import requests\n",
    "import pandas as pd\n",
    "from utils import Weather\n",
    "\n",
    "wrio = Weather(-22.91065792690287, -43.205696376202305) # Coordenadas da prefeitura da cidade do Rio de Janeiro obtidas pelo google maps"
   ]
  },
  {
   "cell_type": "markdown",
   "metadata": {},
   "source": [
    "### Dados de feriados"
   ]
  },
  {
   "cell_type": "code",
   "execution_count": 3,
   "metadata": {},
   "outputs": [
    {
     "data": {
      "text/html": [
       "<div>\n",
       "<style scoped>\n",
       "    .dataframe tbody tr th:only-of-type {\n",
       "        vertical-align: middle;\n",
       "    }\n",
       "\n",
       "    .dataframe tbody tr th {\n",
       "        vertical-align: top;\n",
       "    }\n",
       "\n",
       "    .dataframe thead th {\n",
       "        text-align: right;\n",
       "    }\n",
       "</style>\n",
       "<table border=\"1\" class=\"dataframe\">\n",
       "  <thead>\n",
       "    <tr style=\"text-align: right;\">\n",
       "      <th></th>\n",
       "      <th>date</th>\n",
       "      <th>localName</th>\n",
       "      <th>name</th>\n",
       "      <th>countryCode</th>\n",
       "      <th>fixed</th>\n",
       "      <th>global</th>\n",
       "      <th>counties</th>\n",
       "      <th>launchYear</th>\n",
       "      <th>types</th>\n",
       "    </tr>\n",
       "  </thead>\n",
       "  <tbody>\n",
       "    <tr>\n",
       "      <th>0</th>\n",
       "      <td>2024-01-01</td>\n",
       "      <td>Confraternização Universal</td>\n",
       "      <td>New Year's Day</td>\n",
       "      <td>BR</td>\n",
       "      <td>False</td>\n",
       "      <td>True</td>\n",
       "      <td>None</td>\n",
       "      <td>None</td>\n",
       "      <td>[Public]</td>\n",
       "    </tr>\n",
       "    <tr>\n",
       "      <th>1</th>\n",
       "      <td>2024-02-12</td>\n",
       "      <td>Carnaval</td>\n",
       "      <td>Carnival</td>\n",
       "      <td>BR</td>\n",
       "      <td>False</td>\n",
       "      <td>True</td>\n",
       "      <td>None</td>\n",
       "      <td>None</td>\n",
       "      <td>[Bank, Optional]</td>\n",
       "    </tr>\n",
       "    <tr>\n",
       "      <th>2</th>\n",
       "      <td>2024-02-13</td>\n",
       "      <td>Carnaval</td>\n",
       "      <td>Carnival</td>\n",
       "      <td>BR</td>\n",
       "      <td>False</td>\n",
       "      <td>True</td>\n",
       "      <td>None</td>\n",
       "      <td>None</td>\n",
       "      <td>[Bank, Optional]</td>\n",
       "    </tr>\n",
       "    <tr>\n",
       "      <th>3</th>\n",
       "      <td>2024-03-29</td>\n",
       "      <td>Sexta-feira Santa</td>\n",
       "      <td>Good Friday</td>\n",
       "      <td>BR</td>\n",
       "      <td>False</td>\n",
       "      <td>True</td>\n",
       "      <td>None</td>\n",
       "      <td>None</td>\n",
       "      <td>[Public]</td>\n",
       "    </tr>\n",
       "    <tr>\n",
       "      <th>4</th>\n",
       "      <td>2024-03-31</td>\n",
       "      <td>Domingo de Páscoa</td>\n",
       "      <td>Easter Sunday</td>\n",
       "      <td>BR</td>\n",
       "      <td>False</td>\n",
       "      <td>True</td>\n",
       "      <td>None</td>\n",
       "      <td>None</td>\n",
       "      <td>[Public]</td>\n",
       "    </tr>\n",
       "    <tr>\n",
       "      <th>5</th>\n",
       "      <td>2024-04-21</td>\n",
       "      <td>Dia de Tiradentes</td>\n",
       "      <td>Tiradentes</td>\n",
       "      <td>BR</td>\n",
       "      <td>False</td>\n",
       "      <td>True</td>\n",
       "      <td>None</td>\n",
       "      <td>None</td>\n",
       "      <td>[Public]</td>\n",
       "    </tr>\n",
       "    <tr>\n",
       "      <th>6</th>\n",
       "      <td>2024-05-01</td>\n",
       "      <td>Dia do Trabalhador</td>\n",
       "      <td>Labour Day</td>\n",
       "      <td>BR</td>\n",
       "      <td>False</td>\n",
       "      <td>True</td>\n",
       "      <td>None</td>\n",
       "      <td>None</td>\n",
       "      <td>[Public]</td>\n",
       "    </tr>\n",
       "    <tr>\n",
       "      <th>7</th>\n",
       "      <td>2024-05-30</td>\n",
       "      <td>Corpus Christi</td>\n",
       "      <td>Corpus Christi</td>\n",
       "      <td>BR</td>\n",
       "      <td>False</td>\n",
       "      <td>True</td>\n",
       "      <td>None</td>\n",
       "      <td>None</td>\n",
       "      <td>[Public]</td>\n",
       "    </tr>\n",
       "    <tr>\n",
       "      <th>8</th>\n",
       "      <td>2024-07-09</td>\n",
       "      <td>Revolução Constitucionalista de 1932</td>\n",
       "      <td>Constitutionalist Revolution of 1932</td>\n",
       "      <td>BR</td>\n",
       "      <td>False</td>\n",
       "      <td>False</td>\n",
       "      <td>[BR-SP]</td>\n",
       "      <td>None</td>\n",
       "      <td>[Public]</td>\n",
       "    </tr>\n",
       "    <tr>\n",
       "      <th>9</th>\n",
       "      <td>2024-09-07</td>\n",
       "      <td>Dia da Independência</td>\n",
       "      <td>Independence Day</td>\n",
       "      <td>BR</td>\n",
       "      <td>False</td>\n",
       "      <td>True</td>\n",
       "      <td>None</td>\n",
       "      <td>None</td>\n",
       "      <td>[Public]</td>\n",
       "    </tr>\n",
       "    <tr>\n",
       "      <th>10</th>\n",
       "      <td>2024-10-12</td>\n",
       "      <td>Nossa Senhora Aparecida</td>\n",
       "      <td>Our Lady of Aparecida</td>\n",
       "      <td>BR</td>\n",
       "      <td>False</td>\n",
       "      <td>True</td>\n",
       "      <td>None</td>\n",
       "      <td>None</td>\n",
       "      <td>[Public]</td>\n",
       "    </tr>\n",
       "    <tr>\n",
       "      <th>11</th>\n",
       "      <td>2024-11-02</td>\n",
       "      <td>Dia de Finados</td>\n",
       "      <td>All Souls' Day</td>\n",
       "      <td>BR</td>\n",
       "      <td>False</td>\n",
       "      <td>True</td>\n",
       "      <td>None</td>\n",
       "      <td>None</td>\n",
       "      <td>[Public]</td>\n",
       "    </tr>\n",
       "    <tr>\n",
       "      <th>12</th>\n",
       "      <td>2024-11-15</td>\n",
       "      <td>Proclamação da República</td>\n",
       "      <td>Republic Proclamation Day</td>\n",
       "      <td>BR</td>\n",
       "      <td>False</td>\n",
       "      <td>True</td>\n",
       "      <td>None</td>\n",
       "      <td>None</td>\n",
       "      <td>[Public]</td>\n",
       "    </tr>\n",
       "    <tr>\n",
       "      <th>13</th>\n",
       "      <td>2024-12-25</td>\n",
       "      <td>Natal</td>\n",
       "      <td>Christmas Day</td>\n",
       "      <td>BR</td>\n",
       "      <td>False</td>\n",
       "      <td>True</td>\n",
       "      <td>None</td>\n",
       "      <td>None</td>\n",
       "      <td>[Public]</td>\n",
       "    </tr>\n",
       "  </tbody>\n",
       "</table>\n",
       "</div>"
      ],
      "text/plain": [
       "          date  ...             types\n",
       "0   2024-01-01  ...          [Public]\n",
       "1   2024-02-12  ...  [Bank, Optional]\n",
       "2   2024-02-13  ...  [Bank, Optional]\n",
       "3   2024-03-29  ...          [Public]\n",
       "4   2024-03-31  ...          [Public]\n",
       "5   2024-04-21  ...          [Public]\n",
       "6   2024-05-01  ...          [Public]\n",
       "7   2024-05-30  ...          [Public]\n",
       "8   2024-07-09  ...          [Public]\n",
       "9   2024-09-07  ...          [Public]\n",
       "10  2024-10-12  ...          [Public]\n",
       "11  2024-11-02  ...          [Public]\n",
       "12  2024-11-15  ...          [Public]\n",
       "13  2024-12-25  ...          [Public]\n",
       "\n",
       "[14 rows x 9 columns]"
      ]
     },
     "execution_count": 3,
     "metadata": {},
     "output_type": "execute_result"
    }
   ],
   "source": [
    "response = requests.get('https://date.nager.at/api/v3/publicholidays/2024/BR')\n",
    "public_holidays = json.loads(response.content)\n",
    "holidays = pd.DataFrame(public_holidays)\n",
    "holidays"
   ]
  },
  {
   "cell_type": "markdown",
   "metadata": {},
   "source": [
    "### Tratativas"
   ]
  },
  {
   "cell_type": "code",
   "execution_count": 47,
   "metadata": {},
   "outputs": [
    {
     "name": "stdout",
     "output_type": "stream",
     "text": [
      "<class 'pandas.core.frame.DataFrame'>\n",
      "RangeIndex: 14 entries, 0 to 13\n",
      "Data columns (total 12 columns):\n",
      " #   Column       Non-Null Count  Dtype         \n",
      "---  ------       --------------  -----         \n",
      " 0   date         14 non-null     datetime64[ns]\n",
      " 1   localName    14 non-null     object        \n",
      " 2   name         14 non-null     object        \n",
      " 3   countryCode  14 non-null     object        \n",
      " 4   fixed        14 non-null     bool          \n",
      " 5   global       14 non-null     bool          \n",
      " 6   counties     1 non-null      object        \n",
      " 7   launchYear   0 non-null      object        \n",
      " 8   types        14 non-null     object        \n",
      " 9   month        14 non-null     object        \n",
      " 10  weekday      14 non-null     object        \n",
      " 11  weekday_n    14 non-null     int64         \n",
      "dtypes: bool(2), datetime64[ns](1), int64(1), object(8)\n",
      "memory usage: 1.2+ KB\n"
     ]
    }
   ],
   "source": [
    "# dicionário para converter os meses\n",
    "meses = {\n",
    "    1 : 'Janeiro',\n",
    "    2 : 'Fevereiro',\n",
    "    3 : 'Março',\n",
    "    4 : 'Abril',\n",
    "    5 : 'Maio',\n",
    "    6 : 'Junho',\n",
    "    7 : 'Julho',\n",
    "    8 : 'Agosto',\n",
    "    9 : 'Setembro',\n",
    "    10: 'Outubro',\n",
    "    11: 'Novembro',\n",
    "    12: 'Dezembro'\n",
    "}\n",
    "dias_semana = {\n",
    "    0: \"Segunda-feira\",\n",
    "    1: \"Terça-feira\",\n",
    "    2: \"Quarta-feira\",\n",
    "    3: \"Quinta-feira\",\n",
    "    4: \"Sexta-feira\",\n",
    "    5: \"Sábado\",\n",
    "    6: \"Domingo\"\n",
    "}\n",
    "holidays['date'] = pd.to_datetime(holidays['date'])\n",
    "holidays['month'] = holidays['date'].apply(lambda x: x.month).map(meses)\n",
    "holidays['weekday_n'] = holidays['date'].apply(lambda x: x.weekday())\n",
    "holidays['weekday'] = holidays['date'].apply(lambda x: x.weekday()).map(dias_semana)\n",
    "\n",
    "\n",
    "\n",
    "holidays.info()"
   ]
  },
  {
   "cell_type": "markdown",
   "metadata": {},
   "source": [
    "1. **Quantos feriados há no Brasil em todo o ano de 2024?**"
   ]
  },
  {
   "cell_type": "code",
   "execution_count": 22,
   "metadata": {},
   "outputs": [
    {
     "name": "stdout",
     "output_type": "stream",
     "text": [
      "Resposta: Há 13 feriados no Brasil se contarmos o Carnaval apenas uma vez\n"
     ]
    }
   ],
   "source": [
    "print(f'Resposta: Há {len(holidays)-1} feriados no Brasil se contarmos o Carnaval apenas uma vez')"
   ]
  },
  {
   "cell_type": "markdown",
   "metadata": {},
   "source": [
    "2. **Qual mês de 2024 tem o maior número de feriados?**"
   ]
  },
  {
   "cell_type": "code",
   "execution_count": 21,
   "metadata": {},
   "outputs": [
    {
     "data": {
      "text/plain": [
       "month\n",
       "Fevereiro    2\n",
       "Março        2\n",
       "Novembro     2\n",
       "Maio         2\n",
       "Janeiro      1\n",
       "Abril        1\n",
       "Julho        1\n",
       "Setembro     1\n",
       "Outubro      1\n",
       "Dezembro     1\n",
       "Name: count, dtype: int64"
      ]
     },
     "execution_count": 21,
     "metadata": {},
     "output_type": "execute_result"
    }
   ],
   "source": [
    "holidays['month'].value_counts()"
   ]
  },
  {
   "cell_type": "markdown",
   "metadata": {},
   "source": [
    "Resposta: Se não considerarmos a duplicidade do Carnaval em Fevereiro, temos um empate entre Março, Maio e Novembro. Porém se considerarmos a quantidade de \"Dias livres\" que geralmente a população tem durante o Carnaval, temos mais \"dias livres\" em fevereiro por conta do Carnaval geralmente se extender por mais tempo do que os outros feriados."
   ]
  },
  {
   "cell_type": "markdown",
   "metadata": {},
   "source": [
    "3. **Quantos feriados em 2024 caem em dias de semana (segunda a sexta-feira)?**"
   ]
  },
  {
   "cell_type": "code",
   "execution_count": 37,
   "metadata": {},
   "outputs": [
    {
     "name": "stdout",
     "output_type": "stream",
     "text": [
      "Há 9 feriados em dias de semana(segunda a sexta-feira) em 2024\n"
     ]
    }
   ],
   "source": [
    "feriados_na_semana = sum(holidays['weekday_n'].apply(lambda x: True if x in range(0, 5) else False))\n",
    "print(f'Há {feriados_na_semana} feriados em dias de semana(segunda a sexta-feira) em 2024')"
   ]
  },
  {
   "cell_type": "markdown",
   "metadata": {},
   "source": [
    "4. **Qual foi a temperatura média em cada mês?**  \n",
    "   Utilize a Open-Meteo Historical Weather API para obter as temperaturas médias diárias no Rio de Janeiro de 01/01/2024 a 01/08/2024. "
   ]
  },
  {
   "cell_type": "code",
   "execution_count": 66,
   "metadata": {},
   "outputs": [
    {
     "data": {
      "text/html": [
       "<div>\n",
       "<style scoped>\n",
       "    .dataframe tbody tr th:only-of-type {\n",
       "        vertical-align: middle;\n",
       "    }\n",
       "\n",
       "    .dataframe tbody tr th {\n",
       "        vertical-align: top;\n",
       "    }\n",
       "\n",
       "    .dataframe thead th {\n",
       "        text-align: right;\n",
       "    }\n",
       "</style>\n",
       "<table border=\"1\" class=\"dataframe\">\n",
       "  <thead>\n",
       "    <tr style=\"text-align: right;\">\n",
       "      <th></th>\n",
       "      <th></th>\n",
       "      <th>temperatura media</th>\n",
       "    </tr>\n",
       "    <tr>\n",
       "      <th>month_n</th>\n",
       "      <th>month</th>\n",
       "      <th></th>\n",
       "    </tr>\n",
       "  </thead>\n",
       "  <tbody>\n",
       "    <tr>\n",
       "      <th>1</th>\n",
       "      <th>Janeiro</th>\n",
       "      <td>26.739733</td>\n",
       "    </tr>\n",
       "    <tr>\n",
       "      <th>2</th>\n",
       "      <th>Fevereiro</th>\n",
       "      <td>27.258488</td>\n",
       "    </tr>\n",
       "    <tr>\n",
       "      <th>3</th>\n",
       "      <th>Março</th>\n",
       "      <td>26.461977</td>\n",
       "    </tr>\n",
       "    <tr>\n",
       "      <th>4</th>\n",
       "      <th>Abril</th>\n",
       "      <td>25.215429</td>\n",
       "    </tr>\n",
       "    <tr>\n",
       "      <th>5</th>\n",
       "      <th>Maio</th>\n",
       "      <td>25.036240</td>\n",
       "    </tr>\n",
       "    <tr>\n",
       "      <th>6</th>\n",
       "      <th>Junho</th>\n",
       "      <td>22.694458</td>\n",
       "    </tr>\n",
       "    <tr>\n",
       "      <th>7</th>\n",
       "      <th>Julho</th>\n",
       "      <td>21.151089</td>\n",
       "    </tr>\n",
       "    <tr>\n",
       "      <th>8</th>\n",
       "      <th>Agosto</th>\n",
       "      <td>21.270914</td>\n",
       "    </tr>\n",
       "  </tbody>\n",
       "</table>\n",
       "</div>"
      ],
      "text/plain": [
       "                   temperatura media\n",
       "month_n month                       \n",
       "1       Janeiro            26.739733\n",
       "2       Fevereiro          27.258488\n",
       "3       Março              26.461977\n",
       "4       Abril              25.215429\n",
       "5       Maio               25.036240\n",
       "6       Junho              22.694458\n",
       "7       Julho              21.151089\n",
       "8       Agosto             21.270914"
      ]
     },
     "execution_count": 66,
     "metadata": {},
     "output_type": "execute_result"
    }
   ],
   "source": [
    "temperaturas_diarias_2024 = wrio.forecast('2024-01-01', '2024-08-01')\n",
    "temperaturas_diarias_2024['month_n'] = temperaturas_diarias_2024['data'].apply(lambda x: x.month)\n",
    "temperaturas_diarias_2024['month'] = temperaturas_diarias_2024['data'].apply(lambda x: x.month).map(meses)\n",
    "by_month = temperaturas_diarias_2024.groupby(['month_n','month']).agg({'temperatura media':'mean'}).sort_values('month_n', ascending=True)\n",
    "\n",
    "by_month"
   ]
  },
  {
   "cell_type": "markdown",
   "metadata": {},
   "source": [
    "5. **Qual foi o tempo predominante em cada mês nesse período?**  \n",
    "   Utilize como referência para o código de tempo (_weather_code_) o seguinte link: [WMO Code](https://gist.github.com/stellasphere/9490c195ed2b53c707087c8c2db4ec0c)."
   ]
  },
  {
   "cell_type": "code",
   "execution_count": 111,
   "metadata": {},
   "outputs": [
    {
     "data": {
      "text/plain": [
       "month_n  month    \n",
       "1        Janeiro               Rain\n",
       "2        Fevereiro    Light Drizzle\n",
       "3        Março        Light Drizzle\n",
       "4        Abril               Cloudy\n",
       "5        Maio         Light Drizzle\n",
       "6        Junho         Mainly Sunny\n",
       "7        Julho               Cloudy\n",
       "8        Agosto       Partly Cloudy\n",
       "Name: clima, dtype: object"
      ]
     },
     "execution_count": 111,
     "metadata": {},
     "output_type": "execute_result"
    }
   ],
   "source": [
    "temperaturas_diarias_2024.groupby(['month_n','month'])['clima'].apply(lambda x: x.mode()[0])"
   ]
  },
  {
   "cell_type": "markdown",
   "metadata": {},
   "source": [
    "6. **Qual foi o tempo e a temperatura média em cada feriado de 01/01/2024 a 01/08/2024?**"
   ]
  },
  {
   "cell_type": "code",
   "execution_count": 148,
   "metadata": {},
   "outputs": [
    {
     "data": {
      "text/html": [
       "<div>\n",
       "<style scoped>\n",
       "    .dataframe tbody tr th:only-of-type {\n",
       "        vertical-align: middle;\n",
       "    }\n",
       "\n",
       "    .dataframe tbody tr th {\n",
       "        vertical-align: top;\n",
       "    }\n",
       "\n",
       "    .dataframe thead th {\n",
       "        text-align: right;\n",
       "    }\n",
       "</style>\n",
       "<table border=\"1\" class=\"dataframe\">\n",
       "  <thead>\n",
       "    <tr style=\"text-align: right;\">\n",
       "      <th></th>\n",
       "      <th>date</th>\n",
       "      <th>localName</th>\n",
       "      <th>temperatura media</th>\n",
       "      <th>clima</th>\n",
       "    </tr>\n",
       "  </thead>\n",
       "  <tbody>\n",
       "    <tr>\n",
       "      <th>0</th>\n",
       "      <td>2024-01-01</td>\n",
       "      <td>Confraternização Universal</td>\n",
       "      <td>24.900084</td>\n",
       "      <td>Light Drizzle</td>\n",
       "    </tr>\n",
       "    <tr>\n",
       "      <th>1</th>\n",
       "      <td>2024-02-12</td>\n",
       "      <td>Carnaval</td>\n",
       "      <td>30.202169</td>\n",
       "      <td>Mainly Sunny</td>\n",
       "    </tr>\n",
       "    <tr>\n",
       "      <th>2</th>\n",
       "      <td>2024-02-13</td>\n",
       "      <td>Carnaval</td>\n",
       "      <td>30.577166</td>\n",
       "      <td>Light Drizzle</td>\n",
       "    </tr>\n",
       "    <tr>\n",
       "      <th>3</th>\n",
       "      <td>2024-03-29</td>\n",
       "      <td>Sexta-feira Santa</td>\n",
       "      <td>25.089666</td>\n",
       "      <td>Light Rain</td>\n",
       "    </tr>\n",
       "    <tr>\n",
       "      <th>4</th>\n",
       "      <td>2024-03-31</td>\n",
       "      <td>Domingo de Páscoa</td>\n",
       "      <td>24.577164</td>\n",
       "      <td>Drizzle</td>\n",
       "    </tr>\n",
       "    <tr>\n",
       "      <th>5</th>\n",
       "      <td>2024-04-21</td>\n",
       "      <td>Dia de Tiradentes</td>\n",
       "      <td>23.133413</td>\n",
       "      <td>Partly Cloudy</td>\n",
       "    </tr>\n",
       "    <tr>\n",
       "      <th>6</th>\n",
       "      <td>2024-05-01</td>\n",
       "      <td>Dia do Trabalhador</td>\n",
       "      <td>28.154251</td>\n",
       "      <td>Sunny</td>\n",
       "    </tr>\n",
       "    <tr>\n",
       "      <th>7</th>\n",
       "      <td>2024-05-30</td>\n",
       "      <td>Corpus Christi</td>\n",
       "      <td>20.825081</td>\n",
       "      <td>Light Drizzle</td>\n",
       "    </tr>\n",
       "    <tr>\n",
       "      <th>8</th>\n",
       "      <td>2024-07-09</td>\n",
       "      <td>Revolução Constitucionalista de 1932</td>\n",
       "      <td>21.533417</td>\n",
       "      <td>Drizzle</td>\n",
       "    </tr>\n",
       "  </tbody>\n",
       "</table>\n",
       "</div>"
      ],
      "text/plain": [
       "        date  ...          clima\n",
       "0 2024-01-01  ...  Light Drizzle\n",
       "1 2024-02-12  ...   Mainly Sunny\n",
       "2 2024-02-13  ...  Light Drizzle\n",
       "3 2024-03-29  ...     Light Rain\n",
       "4 2024-03-31  ...        Drizzle\n",
       "5 2024-04-21  ...  Partly Cloudy\n",
       "6 2024-05-01  ...          Sunny\n",
       "7 2024-05-30  ...  Light Drizzle\n",
       "8 2024-07-09  ...        Drizzle\n",
       "\n",
       "[9 rows x 4 columns]"
      ]
     },
     "execution_count": 148,
     "metadata": {},
     "output_type": "execute_result"
    }
   ],
   "source": [
    "holidays['temperatura media'] = holidays[holidays['date'] <= '2024-08-01']['date'].apply(lambda x: wrio.forecast(x.date(), x.date())['temperatura media'])\n",
    "holidays['clima'] = holidays[holidays['date'] <= '2024-08-01']['date'].apply(lambda x: wrio.forecast(x.date(), x.date())['clima'])\n",
    "holidays[holidays['date'] <= '2024-08-01'][['date', 'localName', 'temperatura media', 'clima']]"
   ]
  },
  {
   "cell_type": "markdown",
   "metadata": {},
   "source": [
    "7. **Considere as seguintes suposições:**\n",
    "   - O cidadão carioca considera \"frio\" um dia cuja temperatura média é menor que 20ºC;\n",
    "   - Um feriado bem aproveitado no Rio de Janeiro é aquele em que se pode ir à praia;\n",
    "   - O cidadão carioca só vai à praia quando não está com frio;\n",
    "   - O cidadão carioca também só vai à praia em dias com sol, evitando dias **totalmente** nublados ou chuvosos (considere _weather_code_ para determinar as condições climáticas).\n",
    "\n",
    "   Houve algum feriado \"não aproveitável\" em 2024? Se sim, qual(is)?"
   ]
  },
  {
   "cell_type": "code",
   "execution_count": 157,
   "metadata": {},
   "outputs": [
    {
     "name": "stderr",
     "output_type": "stream",
     "text": [
      "C:\\Users\\Johnny\\AppData\\Local\\Temp\\ipykernel_4892\\3588839015.py:8: SettingWithCopyWarning: \n",
      "A value is trying to be set on a copy of a slice from a DataFrame.\n",
      "Try using .loc[row_indexer,col_indexer] = value instead\n",
      "\n",
      "See the caveats in the documentation: https://pandas.pydata.org/pandas-docs/stable/user_guide/indexing.html#returning-a-view-versus-a-copy\n",
      "  holidays_2['praia'] = (holidays_2['temperatura media'] >= 20) & (holidays_2['clima'].apply(lambda x: clima_aproveitavel(x)))\n"
     ]
    },
    {
     "data": {
      "text/html": [
       "<div>\n",
       "<style scoped>\n",
       "    .dataframe tbody tr th:only-of-type {\n",
       "        vertical-align: middle;\n",
       "    }\n",
       "\n",
       "    .dataframe tbody tr th {\n",
       "        vertical-align: top;\n",
       "    }\n",
       "\n",
       "    .dataframe thead th {\n",
       "        text-align: right;\n",
       "    }\n",
       "</style>\n",
       "<table border=\"1\" class=\"dataframe\">\n",
       "  <thead>\n",
       "    <tr style=\"text-align: right;\">\n",
       "      <th></th>\n",
       "      <th>date</th>\n",
       "      <th>localName</th>\n",
       "      <th>temperatura media</th>\n",
       "      <th>clima</th>\n",
       "    </tr>\n",
       "  </thead>\n",
       "  <tbody>\n",
       "    <tr>\n",
       "      <th>0</th>\n",
       "      <td>2024-01-01</td>\n",
       "      <td>Confraternização Universal</td>\n",
       "      <td>24.900084</td>\n",
       "      <td>Light Drizzle</td>\n",
       "    </tr>\n",
       "    <tr>\n",
       "      <th>2</th>\n",
       "      <td>2024-02-13</td>\n",
       "      <td>Carnaval</td>\n",
       "      <td>30.577166</td>\n",
       "      <td>Light Drizzle</td>\n",
       "    </tr>\n",
       "    <tr>\n",
       "      <th>3</th>\n",
       "      <td>2024-03-29</td>\n",
       "      <td>Sexta-feira Santa</td>\n",
       "      <td>25.089666</td>\n",
       "      <td>Light Rain</td>\n",
       "    </tr>\n",
       "    <tr>\n",
       "      <th>4</th>\n",
       "      <td>2024-03-31</td>\n",
       "      <td>Domingo de Páscoa</td>\n",
       "      <td>24.577164</td>\n",
       "      <td>Drizzle</td>\n",
       "    </tr>\n",
       "    <tr>\n",
       "      <th>7</th>\n",
       "      <td>2024-05-30</td>\n",
       "      <td>Corpus Christi</td>\n",
       "      <td>20.825081</td>\n",
       "      <td>Light Drizzle</td>\n",
       "    </tr>\n",
       "    <tr>\n",
       "      <th>8</th>\n",
       "      <td>2024-07-09</td>\n",
       "      <td>Revolução Constitucionalista de 1932</td>\n",
       "      <td>21.533417</td>\n",
       "      <td>Drizzle</td>\n",
       "    </tr>\n",
       "  </tbody>\n",
       "</table>\n",
       "</div>"
      ],
      "text/plain": [
       "        date  ...          clima\n",
       "0 2024-01-01  ...  Light Drizzle\n",
       "2 2024-02-13  ...  Light Drizzle\n",
       "3 2024-03-29  ...     Light Rain\n",
       "4 2024-03-31  ...        Drizzle\n",
       "7 2024-05-30  ...  Light Drizzle\n",
       "8 2024-07-09  ...        Drizzle\n",
       "\n",
       "[6 rows x 4 columns]"
      ]
     },
     "execution_count": 157,
     "metadata": {},
     "output_type": "execute_result"
    }
   ],
   "source": [
    "def clima_aproveitavel(clima):\n",
    "    clima_ok = ['Mainly Sunny', 'Sunny', 'Partly Cloudy']\n",
    "    if clima in clima_ok:\n",
    "        return True\n",
    "    else:\n",
    "        return False\n",
    "holidays_2 = holidays[holidays['date'] <= '2024-08-01']\n",
    "holidays_2['praia'] = (holidays_2['temperatura media'] >= 20) & (holidays_2['clima'].apply(lambda x: clima_aproveitavel(x)))\n",
    "holidays_2[holidays_2['praia'] == False][['date', 'localName', 'temperatura media', 'clima']]"
   ]
  },
  {
   "cell_type": "markdown",
   "metadata": {},
   "source": [
    "8. **Qual foi o feriado \"mais aproveitável\" de 2024?**  \n",
    "   Considere o melhor par tempo e temperatura."
   ]
  },
  {
   "cell_type": "code",
   "execution_count": 159,
   "metadata": {},
   "outputs": [
    {
     "data": {
      "text/html": [
       "<div>\n",
       "<style scoped>\n",
       "    .dataframe tbody tr th:only-of-type {\n",
       "        vertical-align: middle;\n",
       "    }\n",
       "\n",
       "    .dataframe tbody tr th {\n",
       "        vertical-align: top;\n",
       "    }\n",
       "\n",
       "    .dataframe thead th {\n",
       "        text-align: right;\n",
       "    }\n",
       "</style>\n",
       "<table border=\"1\" class=\"dataframe\">\n",
       "  <thead>\n",
       "    <tr style=\"text-align: right;\">\n",
       "      <th></th>\n",
       "      <th>date</th>\n",
       "      <th>localName</th>\n",
       "      <th>temperatura media</th>\n",
       "      <th>clima</th>\n",
       "    </tr>\n",
       "  </thead>\n",
       "  <tbody>\n",
       "    <tr>\n",
       "      <th>1</th>\n",
       "      <td>2024-02-12</td>\n",
       "      <td>Carnaval</td>\n",
       "      <td>30.202169</td>\n",
       "      <td>Mainly Sunny</td>\n",
       "    </tr>\n",
       "    <tr>\n",
       "      <th>5</th>\n",
       "      <td>2024-04-21</td>\n",
       "      <td>Dia de Tiradentes</td>\n",
       "      <td>23.133413</td>\n",
       "      <td>Partly Cloudy</td>\n",
       "    </tr>\n",
       "    <tr>\n",
       "      <th>6</th>\n",
       "      <td>2024-05-01</td>\n",
       "      <td>Dia do Trabalhador</td>\n",
       "      <td>28.154251</td>\n",
       "      <td>Sunny</td>\n",
       "    </tr>\n",
       "  </tbody>\n",
       "</table>\n",
       "</div>"
      ],
      "text/plain": [
       "        date           localName  temperatura media          clima\n",
       "1 2024-02-12            Carnaval          30.202169   Mainly Sunny\n",
       "5 2024-04-21   Dia de Tiradentes          23.133413  Partly Cloudy\n",
       "6 2024-05-01  Dia do Trabalhador          28.154251          Sunny"
      ]
     },
     "execution_count": 159,
     "metadata": {},
     "output_type": "execute_result"
    }
   ],
   "source": [
    "holidays_2[holidays_2['praia'] == True][['date', 'localName', 'temperatura media', 'clima']]"
   ]
  },
  {
   "cell_type": "markdown",
   "metadata": {},
   "source": [
    "O feriado mais aproveitável foi o dia do trabalhador, pois analisando sua temperatura, não estava muito mais baixa do que a do carnaval, porém o carnaval do dia 12/02/2024 não foi um dia \"Completamente Ensolarado\" e tem chances de ter ocorrido uma leve garoa, que foi o tempo predominante do dia seguinte.\n",
    "<br>Levando isso em consideração, o Dia do Trabalhador além de ter sido um dia quente, também foi um dia belo e ensolarado."
   ]
  },
  {
   "cell_type": "markdown",
   "metadata": {},
   "source": []
  }
 ],
 "metadata": {
  "kernelspec": {
   "display_name": "govrio",
   "language": "python",
   "name": "python3"
  },
  "language_info": {
   "codemirror_mode": {
    "name": "ipython",
    "version": 3
   },
   "file_extension": ".py",
   "mimetype": "text/x-python",
   "name": "python",
   "nbconvert_exporter": "python",
   "pygments_lexer": "ipython3",
   "version": "3.12.1"
  }
 },
 "nbformat": 4,
 "nbformat_minor": 2
}
