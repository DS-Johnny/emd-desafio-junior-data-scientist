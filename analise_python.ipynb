{
 "cells": [
  {
   "cell_type": "markdown",
   "metadata": {},
   "source": [
    "# Análise das Perguntas SQL com Python"
   ]
  },
  {
   "cell_type": "markdown",
   "metadata": {},
   "source": [
    "## Localização de chamados do 1746\n",
    "#### Utilize a tabela de Chamados do 1746 e a tabela de Bairros do Rio de Janeiro para as perguntas de 1-5.\n",
    "\n",
    "1. Quantos chamados foram abertos no dia 01/04/2023?\n",
    "2. Qual o tipo de chamado que teve mais teve chamados abertos no dia 01/04/2023?\n",
    "3. Quais os nomes dos 3 bairros que mais tiveram chamados abertos nesse dia?\n",
    "4. Qual o nome da subprefeitura com mais chamados abertos nesse dia?\n",
    "5. Existe algum chamado aberto nesse dia que não foi associado a um bairro ou subprefeitura na tabela de bairros? Se sim, por que isso acontece?\n",
    "\n",
    "\n",
    "## Chamados do 1746 em grandes eventos\n",
    "#### Utilize a tabela de Chamados do 1746 e a tabela de Ocupação Hoteleira em Grandes Eventos no Rio para as perguntas de 6-10. Para todas as perguntas considere o subtipo de chamado \"Perturbação do sossego\".\n",
    "\n",
    "6. Quantos chamados com o subtipo \"Perturbação do sossego\" foram abertos desde 01/01/2022 até 31/12/2023 (incluindo extremidades)?\n",
    "7. Selecione os chamados com esse subtipo que foram abertos durante os eventos contidos na tabela de eventos (Reveillon, Carnaval e Rock in Rio).\n",
    "8. Quantos chamados desse subtipo foram abertos em cada evento?\n",
    "9. Qual evento teve a maior média diária de chamados abertos desse subtipo?\n",
    "10. Compare as médias diárias de chamados abertos desse subtipo durante os eventos específicos (Reveillon, Carnaval e Rock in Rio) e a média diária de chamados abertos desse subtipo considerando todo o período de 01/01/2022 até 31/12/2023.\n",
    "\n",
    "##### Importante: a tabela de Chamados do 1746 possui mais de 10M de linhas. Evite fazer consultas exploratórias na tabela sem um filtro ou limite de linhas para economizar sua cota no BigQuery!"
   ]
  },
  {
   "cell_type": "markdown",
   "metadata": {},
   "source": [
    "## Imports"
   ]
  },
  {
   "cell_type": "code",
   "execution_count": 7,
   "metadata": {},
   "outputs": [],
   "source": [
    "import pandas as pd"
   ]
  },
  {
   "cell_type": "markdown",
   "metadata": {},
   "source": [
    "# Dados"
   ]
  },
  {
   "cell_type": "code",
   "execution_count": 11,
   "metadata": {},
   "outputs": [],
   "source": [
    "ocup = pd.read_csv('datasets/ocupacao.csv')\n",
    "bairro = pd.read_csv('datasets/bairro.csv')\n",
    "chamado = pd.read_parquet('datasets/chamado.parquet')\n"
   ]
  },
  {
   "cell_type": "code",
   "execution_count": 71,
   "metadata": {},
   "outputs": [
    {
     "data": {
      "text/html": [
       "<div>\n",
       "<style scoped>\n",
       "    .dataframe tbody tr th:only-of-type {\n",
       "        vertical-align: middle;\n",
       "    }\n",
       "\n",
       "    .dataframe tbody tr th {\n",
       "        vertical-align: top;\n",
       "    }\n",
       "\n",
       "    .dataframe thead th {\n",
       "        text-align: right;\n",
       "    }\n",
       "</style>\n",
       "<table border=\"1\" class=\"dataframe\">\n",
       "  <thead>\n",
       "    <tr style=\"text-align: right;\">\n",
       "      <th></th>\n",
       "      <th>ano</th>\n",
       "      <th>data_inicial</th>\n",
       "      <th>data_final</th>\n",
       "      <th>evento</th>\n",
       "      <th>taxa_ocupacao</th>\n",
       "    </tr>\n",
       "  </thead>\n",
       "  <tbody>\n",
       "    <tr>\n",
       "      <th>0</th>\n",
       "      <td>18/02 a 21/02 de 2023</td>\n",
       "      <td>2023-02-18</td>\n",
       "      <td>2023-02-21</td>\n",
       "      <td>Carnaval</td>\n",
       "      <td>0.9554</td>\n",
       "    </tr>\n",
       "    <tr>\n",
       "      <th>1</th>\n",
       "      <td>30-31/12 e 01/01 (2022-2023)</td>\n",
       "      <td>2022-12-30</td>\n",
       "      <td>2023-01-01</td>\n",
       "      <td>Reveillon</td>\n",
       "      <td>0.9251</td>\n",
       "    </tr>\n",
       "    <tr>\n",
       "      <th>2</th>\n",
       "      <td>02/09 a 04/09 de 2022</td>\n",
       "      <td>2022-09-02</td>\n",
       "      <td>2022-09-04</td>\n",
       "      <td>Rock in Rio</td>\n",
       "      <td>0.8184</td>\n",
       "    </tr>\n",
       "    <tr>\n",
       "      <th>3</th>\n",
       "      <td>08/09 a 11/09 de 2022</td>\n",
       "      <td>2022-09-08</td>\n",
       "      <td>2022-09-11</td>\n",
       "      <td>Rock in Rio</td>\n",
       "      <td>0.9451</td>\n",
       "    </tr>\n",
       "  </tbody>\n",
       "</table>\n",
       "</div>"
      ],
      "text/plain": [
       "                            ano data_inicial  data_final       evento  \\\n",
       "0         18/02 a 21/02 de 2023   2023-02-18  2023-02-21     Carnaval   \n",
       "1  30-31/12 e 01/01 (2022-2023)   2022-12-30  2023-01-01    Reveillon   \n",
       "2         02/09 a 04/09 de 2022   2022-09-02  2022-09-04  Rock in Rio   \n",
       "3         08/09 a 11/09 de 2022   2022-09-08  2022-09-11  Rock in Rio   \n",
       "\n",
       "   taxa_ocupacao  \n",
       "0         0.9554  \n",
       "1         0.9251  \n",
       "2         0.8184  \n",
       "3         0.9451  "
      ]
     },
     "execution_count": 71,
     "metadata": {},
     "output_type": "execute_result"
    }
   ],
   "source": [
    "ocup.head()"
   ]
  },
  {
   "cell_type": "code",
   "execution_count": 76,
   "metadata": {},
   "outputs": [
    {
     "data": {
      "text/html": [
       "<div>\n",
       "<style scoped>\n",
       "    .dataframe tbody tr th:only-of-type {\n",
       "        vertical-align: middle;\n",
       "    }\n",
       "\n",
       "    .dataframe tbody tr th {\n",
       "        vertical-align: top;\n",
       "    }\n",
       "\n",
       "    .dataframe thead th {\n",
       "        text-align: right;\n",
       "    }\n",
       "</style>\n",
       "<table border=\"1\" class=\"dataframe\">\n",
       "  <thead>\n",
       "    <tr style=\"text-align: right;\">\n",
       "      <th></th>\n",
       "      <th>ano</th>\n",
       "      <th>data_inicial</th>\n",
       "      <th>data_final</th>\n",
       "      <th>evento</th>\n",
       "      <th>taxa_ocupacao</th>\n",
       "      <th>periodo</th>\n",
       "    </tr>\n",
       "  </thead>\n",
       "  <tbody>\n",
       "    <tr>\n",
       "      <th>0</th>\n",
       "      <td>18/02 a 21/02 de 2023</td>\n",
       "      <td>2023-02-18</td>\n",
       "      <td>2023-02-21</td>\n",
       "      <td>Carnaval</td>\n",
       "      <td>0.9554</td>\n",
       "      <td>[2023-02-18, 2023-02-19, 2023-02-20, 2023-02-21]</td>\n",
       "    </tr>\n",
       "    <tr>\n",
       "      <th>1</th>\n",
       "      <td>30-31/12 e 01/01 (2022-2023)</td>\n",
       "      <td>2022-12-30</td>\n",
       "      <td>2023-01-01</td>\n",
       "      <td>Reveillon</td>\n",
       "      <td>0.9251</td>\n",
       "      <td>[2022-12-30, 2022-12-31, 2023-01-01]</td>\n",
       "    </tr>\n",
       "    <tr>\n",
       "      <th>2</th>\n",
       "      <td>02/09 a 04/09 de 2022</td>\n",
       "      <td>2022-09-02</td>\n",
       "      <td>2022-09-04</td>\n",
       "      <td>Rock in Rio</td>\n",
       "      <td>0.8184</td>\n",
       "      <td>[2022-09-02, 2022-09-03, 2022-09-04]</td>\n",
       "    </tr>\n",
       "    <tr>\n",
       "      <th>3</th>\n",
       "      <td>08/09 a 11/09 de 2022</td>\n",
       "      <td>2022-09-08</td>\n",
       "      <td>2022-09-11</td>\n",
       "      <td>Rock in Rio</td>\n",
       "      <td>0.9451</td>\n",
       "      <td>[2022-09-08, 2022-09-09, 2022-09-10, 2022-09-11]</td>\n",
       "    </tr>\n",
       "  </tbody>\n",
       "</table>\n",
       "</div>"
      ],
      "text/plain": [
       "                            ano data_inicial  data_final       evento  \\\n",
       "0         18/02 a 21/02 de 2023   2023-02-18  2023-02-21     Carnaval   \n",
       "1  30-31/12 e 01/01 (2022-2023)   2022-12-30  2023-01-01    Reveillon   \n",
       "2         02/09 a 04/09 de 2022   2022-09-02  2022-09-04  Rock in Rio   \n",
       "3         08/09 a 11/09 de 2022   2022-09-08  2022-09-11  Rock in Rio   \n",
       "\n",
       "   taxa_ocupacao                                           periodo  \n",
       "0         0.9554  [2023-02-18, 2023-02-19, 2023-02-20, 2023-02-21]  \n",
       "1         0.9251              [2022-12-30, 2022-12-31, 2023-01-01]  \n",
       "2         0.8184              [2022-09-02, 2022-09-03, 2022-09-04]  \n",
       "3         0.9451  [2022-09-08, 2022-09-09, 2022-09-10, 2022-09-11]  "
      ]
     },
     "execution_count": 76,
     "metadata": {},
     "output_type": "execute_result"
    }
   ],
   "source": [
    "# Função para gerar a lista de datas\n",
    "def gerar_lista_datas(row):\n",
    "    return pd.date_range(start=row['data_inicial'], end=row['data_final']).strftime('%Y-%m-%d').tolist()\n",
    "\n",
    "# Aplicando a função em cada linha do DataFrame\n",
    "#datas = ocup.apply(gerar_lista_datas, axis=1)\n",
    "ocup['periodo'] = ocup.apply(gerar_lista_datas, axis=1)\n",
    "ocup"
   ]
  },
  {
   "cell_type": "code",
   "execution_count": 103,
   "metadata": {},
   "outputs": [
    {
     "data": {
      "text/html": [
       "<div>\n",
       "<style scoped>\n",
       "    .dataframe tbody tr th:only-of-type {\n",
       "        vertical-align: middle;\n",
       "    }\n",
       "\n",
       "    .dataframe tbody tr th {\n",
       "        vertical-align: top;\n",
       "    }\n",
       "\n",
       "    .dataframe thead th {\n",
       "        text-align: right;\n",
       "    }\n",
       "</style>\n",
       "<table border=\"1\" class=\"dataframe\">\n",
       "  <thead>\n",
       "    <tr style=\"text-align: right;\">\n",
       "      <th></th>\n",
       "      <th>ano</th>\n",
       "      <th>data_inicial</th>\n",
       "      <th>data_final</th>\n",
       "      <th>evento</th>\n",
       "      <th>taxa_ocupacao</th>\n",
       "      <th>periodo</th>\n",
       "    </tr>\n",
       "  </thead>\n",
       "  <tbody>\n",
       "    <tr>\n",
       "      <th>0</th>\n",
       "      <td>18/02 a 21/02 de 2023</td>\n",
       "      <td>2023-02-18</td>\n",
       "      <td>2023-02-21</td>\n",
       "      <td>Carnaval</td>\n",
       "      <td>0.9554</td>\n",
       "      <td>2023-02-18</td>\n",
       "    </tr>\n",
       "    <tr>\n",
       "      <th>0</th>\n",
       "      <td>18/02 a 21/02 de 2023</td>\n",
       "      <td>2023-02-18</td>\n",
       "      <td>2023-02-21</td>\n",
       "      <td>Carnaval</td>\n",
       "      <td>0.9554</td>\n",
       "      <td>2023-02-19</td>\n",
       "    </tr>\n",
       "    <tr>\n",
       "      <th>0</th>\n",
       "      <td>18/02 a 21/02 de 2023</td>\n",
       "      <td>2023-02-18</td>\n",
       "      <td>2023-02-21</td>\n",
       "      <td>Carnaval</td>\n",
       "      <td>0.9554</td>\n",
       "      <td>2023-02-20</td>\n",
       "    </tr>\n",
       "    <tr>\n",
       "      <th>0</th>\n",
       "      <td>18/02 a 21/02 de 2023</td>\n",
       "      <td>2023-02-18</td>\n",
       "      <td>2023-02-21</td>\n",
       "      <td>Carnaval</td>\n",
       "      <td>0.9554</td>\n",
       "      <td>2023-02-21</td>\n",
       "    </tr>\n",
       "    <tr>\n",
       "      <th>1</th>\n",
       "      <td>30-31/12 e 01/01 (2022-2023)</td>\n",
       "      <td>2022-12-30</td>\n",
       "      <td>2023-01-01</td>\n",
       "      <td>Reveillon</td>\n",
       "      <td>0.9251</td>\n",
       "      <td>2022-12-30</td>\n",
       "    </tr>\n",
       "    <tr>\n",
       "      <th>1</th>\n",
       "      <td>30-31/12 e 01/01 (2022-2023)</td>\n",
       "      <td>2022-12-30</td>\n",
       "      <td>2023-01-01</td>\n",
       "      <td>Reveillon</td>\n",
       "      <td>0.9251</td>\n",
       "      <td>2022-12-31</td>\n",
       "    </tr>\n",
       "    <tr>\n",
       "      <th>1</th>\n",
       "      <td>30-31/12 e 01/01 (2022-2023)</td>\n",
       "      <td>2022-12-30</td>\n",
       "      <td>2023-01-01</td>\n",
       "      <td>Reveillon</td>\n",
       "      <td>0.9251</td>\n",
       "      <td>2023-01-01</td>\n",
       "    </tr>\n",
       "    <tr>\n",
       "      <th>2</th>\n",
       "      <td>02/09 a 04/09 de 2022</td>\n",
       "      <td>2022-09-02</td>\n",
       "      <td>2022-09-04</td>\n",
       "      <td>Rock in Rio</td>\n",
       "      <td>0.8184</td>\n",
       "      <td>2022-09-02</td>\n",
       "    </tr>\n",
       "    <tr>\n",
       "      <th>2</th>\n",
       "      <td>02/09 a 04/09 de 2022</td>\n",
       "      <td>2022-09-02</td>\n",
       "      <td>2022-09-04</td>\n",
       "      <td>Rock in Rio</td>\n",
       "      <td>0.8184</td>\n",
       "      <td>2022-09-03</td>\n",
       "    </tr>\n",
       "    <tr>\n",
       "      <th>2</th>\n",
       "      <td>02/09 a 04/09 de 2022</td>\n",
       "      <td>2022-09-02</td>\n",
       "      <td>2022-09-04</td>\n",
       "      <td>Rock in Rio</td>\n",
       "      <td>0.8184</td>\n",
       "      <td>2022-09-04</td>\n",
       "    </tr>\n",
       "    <tr>\n",
       "      <th>3</th>\n",
       "      <td>08/09 a 11/09 de 2022</td>\n",
       "      <td>2022-09-08</td>\n",
       "      <td>2022-09-11</td>\n",
       "      <td>Rock in Rio</td>\n",
       "      <td>0.9451</td>\n",
       "      <td>2022-09-08</td>\n",
       "    </tr>\n",
       "    <tr>\n",
       "      <th>3</th>\n",
       "      <td>08/09 a 11/09 de 2022</td>\n",
       "      <td>2022-09-08</td>\n",
       "      <td>2022-09-11</td>\n",
       "      <td>Rock in Rio</td>\n",
       "      <td>0.9451</td>\n",
       "      <td>2022-09-09</td>\n",
       "    </tr>\n",
       "    <tr>\n",
       "      <th>3</th>\n",
       "      <td>08/09 a 11/09 de 2022</td>\n",
       "      <td>2022-09-08</td>\n",
       "      <td>2022-09-11</td>\n",
       "      <td>Rock in Rio</td>\n",
       "      <td>0.9451</td>\n",
       "      <td>2022-09-10</td>\n",
       "    </tr>\n",
       "    <tr>\n",
       "      <th>3</th>\n",
       "      <td>08/09 a 11/09 de 2022</td>\n",
       "      <td>2022-09-08</td>\n",
       "      <td>2022-09-11</td>\n",
       "      <td>Rock in Rio</td>\n",
       "      <td>0.9451</td>\n",
       "      <td>2022-09-11</td>\n",
       "    </tr>\n",
       "  </tbody>\n",
       "</table>\n",
       "</div>"
      ],
      "text/plain": [
       "                            ano data_inicial  data_final       evento  \\\n",
       "0         18/02 a 21/02 de 2023   2023-02-18  2023-02-21     Carnaval   \n",
       "0         18/02 a 21/02 de 2023   2023-02-18  2023-02-21     Carnaval   \n",
       "0         18/02 a 21/02 de 2023   2023-02-18  2023-02-21     Carnaval   \n",
       "0         18/02 a 21/02 de 2023   2023-02-18  2023-02-21     Carnaval   \n",
       "1  30-31/12 e 01/01 (2022-2023)   2022-12-30  2023-01-01    Reveillon   \n",
       "1  30-31/12 e 01/01 (2022-2023)   2022-12-30  2023-01-01    Reveillon   \n",
       "1  30-31/12 e 01/01 (2022-2023)   2022-12-30  2023-01-01    Reveillon   \n",
       "2         02/09 a 04/09 de 2022   2022-09-02  2022-09-04  Rock in Rio   \n",
       "2         02/09 a 04/09 de 2022   2022-09-02  2022-09-04  Rock in Rio   \n",
       "2         02/09 a 04/09 de 2022   2022-09-02  2022-09-04  Rock in Rio   \n",
       "3         08/09 a 11/09 de 2022   2022-09-08  2022-09-11  Rock in Rio   \n",
       "3         08/09 a 11/09 de 2022   2022-09-08  2022-09-11  Rock in Rio   \n",
       "3         08/09 a 11/09 de 2022   2022-09-08  2022-09-11  Rock in Rio   \n",
       "3         08/09 a 11/09 de 2022   2022-09-08  2022-09-11  Rock in Rio   \n",
       "\n",
       "   taxa_ocupacao     periodo  \n",
       "0         0.9554  2023-02-18  \n",
       "0         0.9554  2023-02-19  \n",
       "0         0.9554  2023-02-20  \n",
       "0         0.9554  2023-02-21  \n",
       "1         0.9251  2022-12-30  \n",
       "1         0.9251  2022-12-31  \n",
       "1         0.9251  2023-01-01  \n",
       "2         0.8184  2022-09-02  \n",
       "2         0.8184  2022-09-03  \n",
       "2         0.8184  2022-09-04  \n",
       "3         0.9451  2022-09-08  \n",
       "3         0.9451  2022-09-09  \n",
       "3         0.9451  2022-09-10  \n",
       "3         0.9451  2022-09-11  "
      ]
     },
     "execution_count": 103,
     "metadata": {},
     "output_type": "execute_result"
    }
   ],
   "source": [
    "df_explodido = ocup.explode('periodo')\n",
    "df_explodido"
   ]
  },
  {
   "cell_type": "markdown",
   "metadata": {},
   "source": [
    "## Trativas"
   ]
  },
  {
   "cell_type": "code",
   "execution_count": 108,
   "metadata": {},
   "outputs": [],
   "source": [
    "# Para fazer o merge dos dataframes bairro + chamado é preciso converter o tipo da coluna id_bairro\n",
    "bairro['id_bairro'] = bairro['id_bairro'].apply(lambda x: str(x)) # converter o id_bairro de bairro para str porque possui menos registros no dataframe\n",
    "\n",
    "# Merge(join) de chamado + bairro\n",
    "cham_bair = pd.merge(chamado, bairro, how='left', on='id_bairro')\n",
    "\n",
    "# Coluna de data\n",
    "cham_bair['data_inicio'] = pd.to_datetime(cham_bair['data_inicio'])\n",
    "cham_bair['data_inicio'] = cham_bair['data_inicio'].apply(lambda x: x.strftime('%Y-%m-%d'))\n",
    "\n",
    "# Merge cham_bair + ocup\n",
    "# Função para gerar a lista de datas\n",
    "def gerar_lista_datas(row):\n",
    "    return pd.date_range(start=row['data_inicial'], end=row['data_final']).strftime('%Y-%m-%d').tolist() # essa função analisa as datas de inicio e fim e retorna uma lista com todas as datas do evento\n",
    "\n",
    "# Aplicando a função em cada linha do DataFrame\n",
    "ocup['periodo'] = ocup.apply(gerar_lista_datas, axis=1) # agora o dataframe ocup possui uma coluna com listas dos dias de cada evento\n",
    "\n",
    "# Transformando o dataframe para que cada data da coluna 'periodo' seja uma linha\n",
    "df_explodido = ocup.explode('periodo') # A função explode transforma listas em várias linhas, mantendo as demais colunas\n",
    "df_explodido = df_explodido[['periodo', 'evento', 'taxa_ocupacao']] # Filtra o dataframe\n",
    "df_explodido.columns = ['data_inicio', 'evento', 'taxa_ocupacao'] # muda o nome da coluna para ser possível fazer o merge\n",
    "\n",
    "# Faz o join do dataframe cham_bair com o df_explodido\n",
    "merged = pd.merge(cham_bair, df_explodido, how='left', on='data_inicio') "
   ]
  },
  {
   "cell_type": "code",
   "execution_count": 110,
   "metadata": {},
   "outputs": [
    {
     "name": "stdout",
     "output_type": "stream",
     "text": [
      "<class 'pandas.core.frame.DataFrame'>\n",
      "RangeIndex: 1634336 entries, 0 to 1634335\n",
      "Data columns (total 26 columns):\n",
      " #   Column                       Non-Null Count    Dtype  \n",
      "---  ------                       --------------    -----  \n",
      " 0   id_chamado                   1634336 non-null  object \n",
      " 1   data_inicio                  1634336 non-null  object \n",
      " 2   id_bairro                    1562182 non-null  object \n",
      " 3   nome_unidade_organizacional  1634336 non-null  object \n",
      " 4   categoria                    1634336 non-null  object \n",
      " 5   tipo                         1634336 non-null  object \n",
      " 6   subtipo                      1634336 non-null  object \n",
      " 7   status                       1634336 non-null  object \n",
      " 8   longitude                    1192576 non-null  float64\n",
      " 9   latitude                     1192576 non-null  float64\n",
      " 10  situacao                     1634336 non-null  object \n",
      " 11  tipo_situacao                1634336 non-null  object \n",
      " 12  reclamacoes                  1634336 non-null  Int64  \n",
      " 13  nome                         1562182 non-null  object \n",
      " 14  id_area_planejamento         1562182 non-null  float64\n",
      " 15  id_regiao_planejamento       1562182 non-null  float64\n",
      " 16  nome_regiao_planejamento     1562182 non-null  object \n",
      " 17  id_regiao_administrativa     1562182 non-null  float64\n",
      " 18  nome_regiao_administrativa   1562182 non-null  object \n",
      " 19  subprefeitura                1562182 non-null  object \n",
      " 20  area                         1562182 non-null  float64\n",
      " 21  perimetro                    1562182 non-null  float64\n",
      " 22  geometry_wkt                 1562182 non-null  object \n",
      " 23  geometry                     1562182 non-null  object \n",
      " 24  evento                       18841 non-null    object \n",
      " 25  taxa_ocupacao                18841 non-null    float64\n",
      "dtypes: Int64(1), float64(8), object(17)\n",
      "memory usage: 325.8+ MB\n"
     ]
    }
   ],
   "source": [
    "merged.info()"
   ]
  },
  {
   "cell_type": "code",
   "execution_count": null,
   "metadata": {},
   "outputs": [],
   "source": []
  },
  {
   "cell_type": "code",
   "execution_count": 41,
   "metadata": {},
   "outputs": [
    {
     "name": "stdout",
     "output_type": "stream",
     "text": [
      "<class 'pandas.core.frame.DataFrame'>\n",
      "RangeIndex: 1634336 entries, 0 to 1634335\n",
      "Data columns (total 24 columns):\n",
      " #   Column                       Non-Null Count    Dtype  \n",
      "---  ------                       --------------    -----  \n",
      " 0   id_chamado                   1634336 non-null  object \n",
      " 1   data_inicio                  1634336 non-null  object \n",
      " 2   id_bairro                    1562182 non-null  object \n",
      " 3   nome_unidade_organizacional  1634336 non-null  object \n",
      " 4   categoria                    1634336 non-null  object \n",
      " 5   tipo                         1634336 non-null  object \n",
      " 6   subtipo                      1634336 non-null  object \n",
      " 7   status                       1634336 non-null  object \n",
      " 8   longitude                    1192576 non-null  float64\n",
      " 9   latitude                     1192576 non-null  float64\n",
      " 10  situacao                     1634336 non-null  object \n",
      " 11  tipo_situacao                1634336 non-null  object \n",
      " 12  reclamacoes                  1634336 non-null  Int64  \n",
      " 13  nome                         1562182 non-null  object \n",
      " 14  id_area_planejamento         1562182 non-null  float64\n",
      " 15  id_regiao_planejamento       1562182 non-null  float64\n",
      " 16  nome_regiao_planejamento     1562182 non-null  object \n",
      " 17  id_regiao_administrativa     1562182 non-null  float64\n",
      " 18  nome_regiao_administrativa   1562182 non-null  object \n",
      " 19  subprefeitura                1562182 non-null  object \n",
      " 20  area                         1562182 non-null  float64\n",
      " 21  perimetro                    1562182 non-null  float64\n",
      " 22  geometry_wkt                 1562182 non-null  object \n",
      " 23  geometry                     1562182 non-null  object \n",
      "dtypes: Int64(1), float64(7), object(16)\n",
      "memory usage: 300.8+ MB\n"
     ]
    }
   ],
   "source": [
    "cham_bair.info()"
   ]
  },
  {
   "cell_type": "markdown",
   "metadata": {},
   "source": [
    "## Respostas"
   ]
  },
  {
   "cell_type": "markdown",
   "metadata": {},
   "source": [
    "1. **Quantos chamados foram abertos no dia 01/04/2023?**"
   ]
  },
  {
   "cell_type": "code",
   "execution_count": 47,
   "metadata": {},
   "outputs": [
    {
     "data": {
      "text/plain": [
       "1756"
      ]
     },
     "execution_count": 47,
     "metadata": {},
     "output_type": "execute_result"
    }
   ],
   "source": [
    "abril_01 = cham_bair[cham_bair['data_inicio'] == '2023-04-01']\n",
    "len(abril_01)"
   ]
  },
  {
   "cell_type": "markdown",
   "metadata": {},
   "source": [
    "2. **Qual o tipo de chamado que teve mais teve chamados abertos no dia 01/04/2023?**"
   ]
  },
  {
   "cell_type": "code",
   "execution_count": 50,
   "metadata": {},
   "outputs": [
    {
     "data": {
      "text/plain": [
       "tipo\n",
       "Estacionamento irregular    366\n",
       "Name: count, dtype: int64"
      ]
     },
     "execution_count": 50,
     "metadata": {},
     "output_type": "execute_result"
    }
   ],
   "source": [
    "abril_01['tipo'].value_counts().head(1)"
   ]
  },
  {
   "cell_type": "markdown",
   "metadata": {},
   "source": [
    "3. **Quais os nomes dos 3 bairros que mais tiveram chamados abertos nesse dia?**"
   ]
  },
  {
   "cell_type": "code",
   "execution_count": 55,
   "metadata": {},
   "outputs": [
    {
     "data": {
      "text/plain": [
       "nome\n",
       "Campo Grande       113\n",
       "Tijuca              89\n",
       "Barra da Tijuca     59\n",
       "Name: count, dtype: int64"
      ]
     },
     "execution_count": 55,
     "metadata": {},
     "output_type": "execute_result"
    }
   ],
   "source": [
    "#abril_01.groupby('nome').agg({'id_chamado':'count'}).sort_values('id_chamado', ascending=False).head(3)\n",
    "abril_01['nome'].value_counts().head(3)"
   ]
  },
  {
   "cell_type": "markdown",
   "metadata": {},
   "source": [
    "4. **Qual o nome da subprefeitura com mais chamados abertos nesse dia?**"
   ]
  },
  {
   "cell_type": "code",
   "execution_count": 56,
   "metadata": {},
   "outputs": [
    {
     "data": {
      "text/plain": [
       "subprefeitura\n",
       "Zona Norte    510\n",
       "Name: count, dtype: int64"
      ]
     },
     "execution_count": 56,
     "metadata": {},
     "output_type": "execute_result"
    }
   ],
   "source": [
    "abril_01['subprefeitura'].value_counts().head(1)"
   ]
  },
  {
   "cell_type": "markdown",
   "metadata": {},
   "source": [
    "5. **Existe algum chamado aberto nesse dia que não foi associado a um bairro ou subprefeitura na tabela de bairros? Se sim, por que isso acontece?**"
   ]
  },
  {
   "cell_type": "code",
   "execution_count": 62,
   "metadata": {},
   "outputs": [
    {
     "name": "stdout",
     "output_type": "stream",
     "text": [
      "Existem 72154 chamados abertos nesse dia que não foram associados a bairro nem subprefeituras\n",
      "Isso acontece pois não há informações sobre o local no registro do chamado. Não há id do bairro, nem coordenadas e nem qualquer informação que possibilite identificar de onde vem o chamado.\n"
     ]
    }
   ],
   "source": [
    "print(f'Existem {len(cham_bair[cham_bair['nome'].isnull()])} chamados abertos nesse dia que não foram associados a bairro nem subprefeituras')\n",
    "print('Isso acontece pois não há informações sobre o local no registro do chamado. Não há id do bairro, nem coordenadas e nem qualquer informação que possibilite identificar de onde vem o chamado.')"
   ]
  },
  {
   "cell_type": "code",
   "execution_count": 60,
   "metadata": {},
   "outputs": [
    {
     "data": {
      "text/plain": [
       "array(['Sem possibilidade de atendimento', 'Fechado com informação',\n",
       "       'Não constatado', 'Fechado com providências',\n",
       "       'Fechado com solução', 'Pendente', 'Aberto', 'Cancelado',\n",
       "       'Em Andamento'], dtype=object)"
      ]
     },
     "execution_count": 60,
     "metadata": {},
     "output_type": "execute_result"
    }
   ],
   "source": [
    "cham_bair[cham_bair['nome'].isnull()]['status'].unique()"
   ]
  },
  {
   "cell_type": "markdown",
   "metadata": {},
   "source": [
    "Inclusive, analisando os status dos mesmos podemos perceber que nenhum dos chamados pode ser atendido"
   ]
  },
  {
   "cell_type": "markdown",
   "metadata": {},
   "source": [
    "6. **Quantos chamados com o subtipo \"Perturbação do sossego\" foram abertos desde 01/01/2022 até 31/12/2023 (incluindo extremidades)?**"
   ]
  },
  {
   "cell_type": "code",
   "execution_count": 70,
   "metadata": {},
   "outputs": [
    {
     "name": "stdout",
     "output_type": "stream",
     "text": [
      "Foram abertos 42830 chamados com o subtipo \"Perturbação do sossego\" dentro deste período.\n"
     ]
    }
   ],
   "source": [
    "# O dataframe já está previamente filtrado com o período do dia 01/01/202 e 31/12/2023(considerando que as extremidades sejam o primeiro e último dia deste período)\n",
    "print(f'Foram abertos {sum(cham_bair['subtipo'] == 'Perturbação do sossego')} chamados com o subtipo \"Perturbação do sossego\" dentro deste período.')"
   ]
  },
  {
   "cell_type": "markdown",
   "metadata": {},
   "source": [
    "7. **Selecione os chamados com esse subtipo que foram abertos durante os eventos contidos na tabela de eventos (Reveillon, Carnaval e Rock in Rio).**"
   ]
  },
  {
   "cell_type": "code",
   "execution_count": 120,
   "metadata": {},
   "outputs": [
    {
     "data": {
      "text/html": [
       "<div>\n",
       "<style scoped>\n",
       "    .dataframe tbody tr th:only-of-type {\n",
       "        vertical-align: middle;\n",
       "    }\n",
       "\n",
       "    .dataframe tbody tr th {\n",
       "        vertical-align: top;\n",
       "    }\n",
       "\n",
       "    .dataframe thead th {\n",
       "        text-align: right;\n",
       "    }\n",
       "</style>\n",
       "<table border=\"1\" class=\"dataframe\">\n",
       "  <thead>\n",
       "    <tr style=\"text-align: right;\">\n",
       "      <th></th>\n",
       "      <th>id_chamado</th>\n",
       "      <th>data_inicio</th>\n",
       "      <th>id_bairro</th>\n",
       "      <th>nome_unidade_organizacional</th>\n",
       "      <th>categoria</th>\n",
       "      <th>tipo</th>\n",
       "      <th>subtipo</th>\n",
       "      <th>status</th>\n",
       "      <th>longitude</th>\n",
       "      <th>latitude</th>\n",
       "      <th>...</th>\n",
       "      <th>nome_regiao_planejamento</th>\n",
       "      <th>id_regiao_administrativa</th>\n",
       "      <th>nome_regiao_administrativa</th>\n",
       "      <th>subprefeitura</th>\n",
       "      <th>area</th>\n",
       "      <th>perimetro</th>\n",
       "      <th>geometry_wkt</th>\n",
       "      <th>geometry</th>\n",
       "      <th>evento</th>\n",
       "      <th>taxa_ocupacao</th>\n",
       "    </tr>\n",
       "  </thead>\n",
       "  <tbody>\n",
       "    <tr>\n",
       "      <th>7750</th>\n",
       "      <td>17663234</td>\n",
       "      <td>2022-09-03</td>\n",
       "      <td>28</td>\n",
       "      <td>GM-RIO - Guarda Municipal do Rio de Janeiro</td>\n",
       "      <td>Serviço</td>\n",
       "      <td>Perturbação do sossego</td>\n",
       "      <td>Perturbação do sossego</td>\n",
       "      <td>Fechado com solução</td>\n",
       "      <td>-43.224021</td>\n",
       "      <td>-22.962225</td>\n",
       "      <td>...</td>\n",
       "      <td>Zona Sul</td>\n",
       "      <td>6.0</td>\n",
       "      <td>Lagoa</td>\n",
       "      <td>Zona Sul</td>\n",
       "      <td>2.689204e+06</td>\n",
       "      <td>12263.131623</td>\n",
       "      <td>POLYGON ((-43.204182360353876 -22.955817747731...</td>\n",
       "      <td>POLYGON((-43.2041823603539 -22.9558177477313, ...</td>\n",
       "      <td>Rock in Rio</td>\n",
       "      <td>0.8184</td>\n",
       "    </tr>\n",
       "    <tr>\n",
       "      <th>7751</th>\n",
       "      <td>17684216</td>\n",
       "      <td>2022-09-10</td>\n",
       "      <td>42</td>\n",
       "      <td>GM-RIO - Guarda Municipal do Rio de Janeiro</td>\n",
       "      <td>Serviço</td>\n",
       "      <td>Perturbação do sossego</td>\n",
       "      <td>Perturbação do sossego</td>\n",
       "      <td>Fechado com solução</td>\n",
       "      <td>-43.265079</td>\n",
       "      <td>-22.852406</td>\n",
       "      <td>...</td>\n",
       "      <td>Ramos</td>\n",
       "      <td>10.0</td>\n",
       "      <td>Ramos</td>\n",
       "      <td>Zona Norte</td>\n",
       "      <td>3.689833e+06</td>\n",
       "      <td>12231.009936</td>\n",
       "      <td>POLYGON ((-43.256280603077975 -22.837866685590...</td>\n",
       "      <td>POLYGON((-43.256280603078 -22.8378666855908, -...</td>\n",
       "      <td>Rock in Rio</td>\n",
       "      <td>0.9451</td>\n",
       "    </tr>\n",
       "    <tr>\n",
       "      <th>7760</th>\n",
       "      <td>17682475</td>\n",
       "      <td>2022-09-09</td>\n",
       "      <td>64</td>\n",
       "      <td>GM-RIO - Guarda Municipal do Rio de Janeiro</td>\n",
       "      <td>Serviço</td>\n",
       "      <td>Perturbação do sossego</td>\n",
       "      <td>Perturbação do sossego</td>\n",
       "      <td>Fechado com solução</td>\n",
       "      <td>-43.286791</td>\n",
       "      <td>-22.891278</td>\n",
       "      <td>...</td>\n",
       "      <td>Méier</td>\n",
       "      <td>13.0</td>\n",
       "      <td>Meier</td>\n",
       "      <td>Zona Norte</td>\n",
       "      <td>1.012636e+06</td>\n",
       "      <td>6163.388130</td>\n",
       "      <td>POLYGON ((-43.2848445736727 -22.88758600816928...</td>\n",
       "      <td>POLYGON((-43.2848445736727 -22.8875860081693, ...</td>\n",
       "      <td>Rock in Rio</td>\n",
       "      <td>0.9451</td>\n",
       "    </tr>\n",
       "    <tr>\n",
       "      <th>7762</th>\n",
       "      <td>17662396</td>\n",
       "      <td>2022-09-03</td>\n",
       "      <td>59</td>\n",
       "      <td>GM-RIO - Guarda Municipal do Rio de Janeiro</td>\n",
       "      <td>Serviço</td>\n",
       "      <td>Perturbação do sossego</td>\n",
       "      <td>Perturbação do sossego</td>\n",
       "      <td>Fechado com solução</td>\n",
       "      <td>-43.257869</td>\n",
       "      <td>-22.905025</td>\n",
       "      <td>...</td>\n",
       "      <td>Méier</td>\n",
       "      <td>13.0</td>\n",
       "      <td>Meier</td>\n",
       "      <td>Zona Norte</td>\n",
       "      <td>9.281085e+05</td>\n",
       "      <td>5342.536959</td>\n",
       "      <td>POLYGON ((-43.25220181097268 -22.8961093505744...</td>\n",
       "      <td>POLYGON((-43.2522018109727 -22.8961093505744, ...</td>\n",
       "      <td>Rock in Rio</td>\n",
       "      <td>0.8184</td>\n",
       "    </tr>\n",
       "    <tr>\n",
       "      <th>7764</th>\n",
       "      <td>17684395</td>\n",
       "      <td>2022-09-11</td>\n",
       "      <td>43</td>\n",
       "      <td>GM-RIO - Guarda Municipal do Rio de Janeiro</td>\n",
       "      <td>Serviço</td>\n",
       "      <td>Perturbação do sossego</td>\n",
       "      <td>Perturbação do sossego</td>\n",
       "      <td>Fechado com solução</td>\n",
       "      <td>-43.280718</td>\n",
       "      <td>-22.844154</td>\n",
       "      <td>...</td>\n",
       "      <td>Penha</td>\n",
       "      <td>11.0</td>\n",
       "      <td>Penha</td>\n",
       "      <td>Zona Norte</td>\n",
       "      <td>5.811323e+06</td>\n",
       "      <td>13667.794012</td>\n",
       "      <td>POLYGON ((-43.25648886199383 -22.8336276062704...</td>\n",
       "      <td>POLYGON((-43.2564888619938 -22.8336276062704, ...</td>\n",
       "      <td>Rock in Rio</td>\n",
       "      <td>0.9451</td>\n",
       "    </tr>\n",
       "    <tr>\n",
       "      <th>...</th>\n",
       "      <td>...</td>\n",
       "      <td>...</td>\n",
       "      <td>...</td>\n",
       "      <td>...</td>\n",
       "      <td>...</td>\n",
       "      <td>...</td>\n",
       "      <td>...</td>\n",
       "      <td>...</td>\n",
       "      <td>...</td>\n",
       "      <td>...</td>\n",
       "      <td>...</td>\n",
       "      <td>...</td>\n",
       "      <td>...</td>\n",
       "      <td>...</td>\n",
       "      <td>...</td>\n",
       "      <td>...</td>\n",
       "      <td>...</td>\n",
       "      <td>...</td>\n",
       "      <td>...</td>\n",
       "      <td>...</td>\n",
       "      <td>...</td>\n",
       "    </tr>\n",
       "    <tr>\n",
       "      <th>1605279</th>\n",
       "      <td>18078334</td>\n",
       "      <td>2022-12-30</td>\n",
       "      <td>17</td>\n",
       "      <td>GM-RIO - Guarda Municipal do Rio de Janeiro</td>\n",
       "      <td>Serviço</td>\n",
       "      <td>Perturbação do sossego</td>\n",
       "      <td>Perturbação do sossego</td>\n",
       "      <td>Sem possibilidade de atendimento</td>\n",
       "      <td>-43.181432</td>\n",
       "      <td>-22.933223</td>\n",
       "      <td>...</td>\n",
       "      <td>Zona Sul</td>\n",
       "      <td>4.0</td>\n",
       "      <td>Botafogo</td>\n",
       "      <td>Zona Sul</td>\n",
       "      <td>2.493507e+06</td>\n",
       "      <td>10537.128736</td>\n",
       "      <td>POLYGON ((-43.18148564548288 -22.9295123629833...</td>\n",
       "      <td>POLYGON((-43.1814856454829 -22.9295123629834, ...</td>\n",
       "      <td>Reveillon</td>\n",
       "      <td>0.9251</td>\n",
       "    </tr>\n",
       "    <tr>\n",
       "      <th>1605295</th>\n",
       "      <td>18075939</td>\n",
       "      <td>2022-12-30</td>\n",
       "      <td>25</td>\n",
       "      <td>GM-RIO - Guarda Municipal do Rio de Janeiro</td>\n",
       "      <td>Serviço</td>\n",
       "      <td>Perturbação do sossego</td>\n",
       "      <td>Perturbação do sossego</td>\n",
       "      <td>Sem possibilidade de atendimento</td>\n",
       "      <td>-43.203012</td>\n",
       "      <td>-22.984636</td>\n",
       "      <td>...</td>\n",
       "      <td>Zona Sul</td>\n",
       "      <td>6.0</td>\n",
       "      <td>Lagoa</td>\n",
       "      <td>Zona Sul</td>\n",
       "      <td>3.084907e+06</td>\n",
       "      <td>23487.557826</td>\n",
       "      <td>MULTIPOLYGON (((-43.194871617225914 -22.977457...</td>\n",
       "      <td>MULTIPOLYGON(((-43.1948716172259 -22.977457772...</td>\n",
       "      <td>Reveillon</td>\n",
       "      <td>0.9251</td>\n",
       "    </tr>\n",
       "    <tr>\n",
       "      <th>1605353</th>\n",
       "      <td>18078245</td>\n",
       "      <td>2022-12-30</td>\n",
       "      <td>141</td>\n",
       "      <td>GM-RIO - Guarda Municipal do Rio de Janeiro</td>\n",
       "      <td>Serviço</td>\n",
       "      <td>Perturbação do sossego</td>\n",
       "      <td>Perturbação do sossego</td>\n",
       "      <td>Sem possibilidade de atendimento</td>\n",
       "      <td>-43.478031</td>\n",
       "      <td>-22.882524</td>\n",
       "      <td>...</td>\n",
       "      <td>Bangu</td>\n",
       "      <td>17.0</td>\n",
       "      <td>Bangu</td>\n",
       "      <td>Grande Bangu</td>\n",
       "      <td>3.596620e+07</td>\n",
       "      <td>46529.035222</td>\n",
       "      <td>POLYGON ((-43.487172994385624 -22.848805326665...</td>\n",
       "      <td>POLYGON((-43.4871729943856 -22.8488053266659, ...</td>\n",
       "      <td>Reveillon</td>\n",
       "      <td>0.9251</td>\n",
       "    </tr>\n",
       "    <tr>\n",
       "      <th>1605405</th>\n",
       "      <td>18077790</td>\n",
       "      <td>2022-12-30</td>\n",
       "      <td>25</td>\n",
       "      <td>GM-RIO - Guarda Municipal do Rio de Janeiro</td>\n",
       "      <td>Serviço</td>\n",
       "      <td>Perturbação do sossego</td>\n",
       "      <td>Perturbação do sossego</td>\n",
       "      <td>Sem possibilidade de atendimento</td>\n",
       "      <td>NaN</td>\n",
       "      <td>NaN</td>\n",
       "      <td>...</td>\n",
       "      <td>Zona Sul</td>\n",
       "      <td>6.0</td>\n",
       "      <td>Lagoa</td>\n",
       "      <td>Zona Sul</td>\n",
       "      <td>3.084907e+06</td>\n",
       "      <td>23487.557826</td>\n",
       "      <td>MULTIPOLYGON (((-43.194871617225914 -22.977457...</td>\n",
       "      <td>MULTIPOLYGON(((-43.1948716172259 -22.977457772...</td>\n",
       "      <td>Reveillon</td>\n",
       "      <td>0.9251</td>\n",
       "    </tr>\n",
       "    <tr>\n",
       "      <th>1605425</th>\n",
       "      <td>18078357</td>\n",
       "      <td>2022-12-30</td>\n",
       "      <td>75</td>\n",
       "      <td>GM-RIO - Guarda Municipal do Rio de Janeiro</td>\n",
       "      <td>Serviço</td>\n",
       "      <td>Perturbação do sossego</td>\n",
       "      <td>Perturbação do sossego</td>\n",
       "      <td>Sem possibilidade de atendimento</td>\n",
       "      <td>NaN</td>\n",
       "      <td>NaN</td>\n",
       "      <td>...</td>\n",
       "      <td>Madureira</td>\n",
       "      <td>14.0</td>\n",
       "      <td>Iraja</td>\n",
       "      <td>Zona Norte</td>\n",
       "      <td>5.152091e+05</td>\n",
       "      <td>3581.530911</td>\n",
       "      <td>POLYGON ((-43.3136229689694 -22.82587008322301...</td>\n",
       "      <td>POLYGON((-43.3136229689694 -22.825870083223, -...</td>\n",
       "      <td>Reveillon</td>\n",
       "      <td>0.9251</td>\n",
       "    </tr>\n",
       "  </tbody>\n",
       "</table>\n",
       "<p>1214 rows × 26 columns</p>\n",
       "</div>"
      ],
      "text/plain": [
       "        id_chamado data_inicio id_bairro  \\\n",
       "7750      17663234  2022-09-03        28   \n",
       "7751      17684216  2022-09-10        42   \n",
       "7760      17682475  2022-09-09        64   \n",
       "7762      17662396  2022-09-03        59   \n",
       "7764      17684395  2022-09-11        43   \n",
       "...            ...         ...       ...   \n",
       "1605279   18078334  2022-12-30        17   \n",
       "1605295   18075939  2022-12-30        25   \n",
       "1605353   18078245  2022-12-30       141   \n",
       "1605405   18077790  2022-12-30        25   \n",
       "1605425   18078357  2022-12-30        75   \n",
       "\n",
       "                         nome_unidade_organizacional categoria  \\\n",
       "7750     GM-RIO - Guarda Municipal do Rio de Janeiro   Serviço   \n",
       "7751     GM-RIO - Guarda Municipal do Rio de Janeiro   Serviço   \n",
       "7760     GM-RIO - Guarda Municipal do Rio de Janeiro   Serviço   \n",
       "7762     GM-RIO - Guarda Municipal do Rio de Janeiro   Serviço   \n",
       "7764     GM-RIO - Guarda Municipal do Rio de Janeiro   Serviço   \n",
       "...                                              ...       ...   \n",
       "1605279  GM-RIO - Guarda Municipal do Rio de Janeiro   Serviço   \n",
       "1605295  GM-RIO - Guarda Municipal do Rio de Janeiro   Serviço   \n",
       "1605353  GM-RIO - Guarda Municipal do Rio de Janeiro   Serviço   \n",
       "1605405  GM-RIO - Guarda Municipal do Rio de Janeiro   Serviço   \n",
       "1605425  GM-RIO - Guarda Municipal do Rio de Janeiro   Serviço   \n",
       "\n",
       "                           tipo                 subtipo  \\\n",
       "7750     Perturbação do sossego  Perturbação do sossego   \n",
       "7751     Perturbação do sossego  Perturbação do sossego   \n",
       "7760     Perturbação do sossego  Perturbação do sossego   \n",
       "7762     Perturbação do sossego  Perturbação do sossego   \n",
       "7764     Perturbação do sossego  Perturbação do sossego   \n",
       "...                         ...                     ...   \n",
       "1605279  Perturbação do sossego  Perturbação do sossego   \n",
       "1605295  Perturbação do sossego  Perturbação do sossego   \n",
       "1605353  Perturbação do sossego  Perturbação do sossego   \n",
       "1605405  Perturbação do sossego  Perturbação do sossego   \n",
       "1605425  Perturbação do sossego  Perturbação do sossego   \n",
       "\n",
       "                                   status  longitude   latitude  ...  \\\n",
       "7750                  Fechado com solução -43.224021 -22.962225  ...   \n",
       "7751                  Fechado com solução -43.265079 -22.852406  ...   \n",
       "7760                  Fechado com solução -43.286791 -22.891278  ...   \n",
       "7762                  Fechado com solução -43.257869 -22.905025  ...   \n",
       "7764                  Fechado com solução -43.280718 -22.844154  ...   \n",
       "...                                   ...        ...        ...  ...   \n",
       "1605279  Sem possibilidade de atendimento -43.181432 -22.933223  ...   \n",
       "1605295  Sem possibilidade de atendimento -43.203012 -22.984636  ...   \n",
       "1605353  Sem possibilidade de atendimento -43.478031 -22.882524  ...   \n",
       "1605405  Sem possibilidade de atendimento        NaN        NaN  ...   \n",
       "1605425  Sem possibilidade de atendimento        NaN        NaN  ...   \n",
       "\n",
       "        nome_regiao_planejamento id_regiao_administrativa  \\\n",
       "7750                    Zona Sul                      6.0   \n",
       "7751                       Ramos                     10.0   \n",
       "7760                       Méier                     13.0   \n",
       "7762                       Méier                     13.0   \n",
       "7764                       Penha                     11.0   \n",
       "...                          ...                      ...   \n",
       "1605279                 Zona Sul                      4.0   \n",
       "1605295                 Zona Sul                      6.0   \n",
       "1605353                    Bangu                     17.0   \n",
       "1605405                 Zona Sul                      6.0   \n",
       "1605425                Madureira                     14.0   \n",
       "\n",
       "         nome_regiao_administrativa subprefeitura          area     perimetro  \\\n",
       "7750                          Lagoa      Zona Sul  2.689204e+06  12263.131623   \n",
       "7751                          Ramos    Zona Norte  3.689833e+06  12231.009936   \n",
       "7760                          Meier    Zona Norte  1.012636e+06   6163.388130   \n",
       "7762                          Meier    Zona Norte  9.281085e+05   5342.536959   \n",
       "7764                          Penha    Zona Norte  5.811323e+06  13667.794012   \n",
       "...                             ...           ...           ...           ...   \n",
       "1605279                    Botafogo      Zona Sul  2.493507e+06  10537.128736   \n",
       "1605295                       Lagoa      Zona Sul  3.084907e+06  23487.557826   \n",
       "1605353                       Bangu  Grande Bangu  3.596620e+07  46529.035222   \n",
       "1605405                       Lagoa      Zona Sul  3.084907e+06  23487.557826   \n",
       "1605425                       Iraja    Zona Norte  5.152091e+05   3581.530911   \n",
       "\n",
       "                                              geometry_wkt  \\\n",
       "7750     POLYGON ((-43.204182360353876 -22.955817747731...   \n",
       "7751     POLYGON ((-43.256280603077975 -22.837866685590...   \n",
       "7760     POLYGON ((-43.2848445736727 -22.88758600816928...   \n",
       "7762     POLYGON ((-43.25220181097268 -22.8961093505744...   \n",
       "7764     POLYGON ((-43.25648886199383 -22.8336276062704...   \n",
       "...                                                    ...   \n",
       "1605279  POLYGON ((-43.18148564548288 -22.9295123629833...   \n",
       "1605295  MULTIPOLYGON (((-43.194871617225914 -22.977457...   \n",
       "1605353  POLYGON ((-43.487172994385624 -22.848805326665...   \n",
       "1605405  MULTIPOLYGON (((-43.194871617225914 -22.977457...   \n",
       "1605425  POLYGON ((-43.3136229689694 -22.82587008322301...   \n",
       "\n",
       "                                                  geometry       evento  \\\n",
       "7750     POLYGON((-43.2041823603539 -22.9558177477313, ...  Rock in Rio   \n",
       "7751     POLYGON((-43.256280603078 -22.8378666855908, -...  Rock in Rio   \n",
       "7760     POLYGON((-43.2848445736727 -22.8875860081693, ...  Rock in Rio   \n",
       "7762     POLYGON((-43.2522018109727 -22.8961093505744, ...  Rock in Rio   \n",
       "7764     POLYGON((-43.2564888619938 -22.8336276062704, ...  Rock in Rio   \n",
       "...                                                    ...          ...   \n",
       "1605279  POLYGON((-43.1814856454829 -22.9295123629834, ...    Reveillon   \n",
       "1605295  MULTIPOLYGON(((-43.1948716172259 -22.977457772...    Reveillon   \n",
       "1605353  POLYGON((-43.4871729943856 -22.8488053266659, ...    Reveillon   \n",
       "1605405  MULTIPOLYGON(((-43.1948716172259 -22.977457772...    Reveillon   \n",
       "1605425  POLYGON((-43.3136229689694 -22.825870083223, -...    Reveillon   \n",
       "\n",
       "        taxa_ocupacao  \n",
       "7750           0.8184  \n",
       "7751           0.9451  \n",
       "7760           0.9451  \n",
       "7762           0.8184  \n",
       "7764           0.9451  \n",
       "...               ...  \n",
       "1605279        0.9251  \n",
       "1605295        0.9251  \n",
       "1605353        0.9251  \n",
       "1605405        0.9251  \n",
       "1605425        0.9251  \n",
       "\n",
       "[1214 rows x 26 columns]"
      ]
     },
     "execution_count": 120,
     "metadata": {},
     "output_type": "execute_result"
    }
   ],
   "source": [
    "eventos = merged[merged['evento'].isin(['Reveillon', 'Carnaval','Rock in Rio'])]\n",
    "eventos[eventos['subtipo'] == 'Perturbação do sossego']"
   ]
  },
  {
   "cell_type": "markdown",
   "metadata": {},
   "source": [
    "8. **Quantos chamados desse subtipo foram abertos em cada evento?**"
   ]
  },
  {
   "cell_type": "code",
   "execution_count": 122,
   "metadata": {},
   "outputs": [
    {
     "data": {
      "text/html": [
       "<div>\n",
       "<style scoped>\n",
       "    .dataframe tbody tr th:only-of-type {\n",
       "        vertical-align: middle;\n",
       "    }\n",
       "\n",
       "    .dataframe tbody tr th {\n",
       "        vertical-align: top;\n",
       "    }\n",
       "\n",
       "    .dataframe thead th {\n",
       "        text-align: right;\n",
       "    }\n",
       "</style>\n",
       "<table border=\"1\" class=\"dataframe\">\n",
       "  <thead>\n",
       "    <tr style=\"text-align: right;\">\n",
       "      <th></th>\n",
       "      <th>id_chamado</th>\n",
       "    </tr>\n",
       "    <tr>\n",
       "      <th>evento</th>\n",
       "      <th></th>\n",
       "    </tr>\n",
       "  </thead>\n",
       "  <tbody>\n",
       "    <tr>\n",
       "      <th>Carnaval</th>\n",
       "      <td>241</td>\n",
       "    </tr>\n",
       "    <tr>\n",
       "      <th>Reveillon</th>\n",
       "      <td>139</td>\n",
       "    </tr>\n",
       "    <tr>\n",
       "      <th>Rock in Rio</th>\n",
       "      <td>834</td>\n",
       "    </tr>\n",
       "  </tbody>\n",
       "</table>\n",
       "</div>"
      ],
      "text/plain": [
       "             id_chamado\n",
       "evento                 \n",
       "Carnaval            241\n",
       "Reveillon           139\n",
       "Rock in Rio         834"
      ]
     },
     "execution_count": 122,
     "metadata": {},
     "output_type": "execute_result"
    }
   ],
   "source": [
    "eventos[eventos['subtipo'] == 'Perturbação do sossego'].groupby('evento').agg({'id_chamado':'count'})"
   ]
  },
  {
   "cell_type": "markdown",
   "metadata": {},
   "source": [
    "9. **Qual evento teve a maior média diária de chamados abertos desse subtipo?**"
   ]
  },
  {
   "cell_type": "code",
   "execution_count": 143,
   "metadata": {},
   "outputs": [
    {
     "data": {
      "text/html": [
       "<div>\n",
       "<style scoped>\n",
       "    .dataframe tbody tr th:only-of-type {\n",
       "        vertical-align: middle;\n",
       "    }\n",
       "\n",
       "    .dataframe tbody tr th {\n",
       "        vertical-align: top;\n",
       "    }\n",
       "\n",
       "    .dataframe thead th {\n",
       "        text-align: right;\n",
       "    }\n",
       "</style>\n",
       "<table border=\"1\" class=\"dataframe\">\n",
       "  <thead>\n",
       "    <tr style=\"text-align: right;\">\n",
       "      <th></th>\n",
       "      <th>id_chamado</th>\n",
       "    </tr>\n",
       "    <tr>\n",
       "      <th>evento</th>\n",
       "      <th></th>\n",
       "    </tr>\n",
       "  </thead>\n",
       "  <tbody>\n",
       "    <tr>\n",
       "      <th>Carnaval</th>\n",
       "      <td>60.250000</td>\n",
       "    </tr>\n",
       "    <tr>\n",
       "      <th>Reveillon</th>\n",
       "      <td>46.333333</td>\n",
       "    </tr>\n",
       "    <tr>\n",
       "      <th>Rock in Rio</th>\n",
       "      <td>119.142857</td>\n",
       "    </tr>\n",
       "  </tbody>\n",
       "</table>\n",
       "</div>"
      ],
      "text/plain": [
       "             id_chamado\n",
       "evento                 \n",
       "Carnaval      60.250000\n",
       "Reveillon     46.333333\n",
       "Rock in Rio  119.142857"
      ]
     },
     "execution_count": 143,
     "metadata": {},
     "output_type": "execute_result"
    }
   ],
   "source": [
    "eventos_2 = eventos[eventos['subtipo'] == 'Perturbação do sossego'].groupby(['evento','data_inicio']).agg({'id_chamado':'count'}).reset_index()\n",
    "eventos_2.groupby('evento').agg({'id_chamado':'mean'})"
   ]
  },
  {
   "cell_type": "markdown",
   "metadata": {},
   "source": [
    "O Rock in Rio teve uma média diária de chamados abertos do subtipo Perturbação ao sossego bem maior do que os outros eventos"
   ]
  },
  {
   "cell_type": "markdown",
   "metadata": {},
   "source": [
    "10. **Compare as médias diárias de chamados abertos desse subtipo durante os eventos específicos (Reveillon, Carnaval e Rock in Rio) e a média diária de chamados abertos desse subtipo considerando todo o período de 01/01/2022 até 31/12/2023.**"
   ]
  },
  {
   "cell_type": "code",
   "execution_count": 150,
   "metadata": {},
   "outputs": [
    {
     "data": {
      "text/plain": [
       "id_chamado    61.982634\n",
       "dtype: float64"
      ]
     },
     "execution_count": 150,
     "metadata": {},
     "output_type": "execute_result"
    }
   ],
   "source": [
    "df2 = cham_bair[cham_bair['subtipo'] == 'Perturbação do sossego'].groupby('data_inicio').agg({'id_chamado':'count'})\n",
    "#df2['id_chamado'].mean()\n",
    "df2.mean()"
   ]
  },
  {
   "cell_type": "markdown",
   "metadata": {},
   "source": [
    "O Rock em Rio definitivamente possui uma média de chamados para Perturbação ao sossego bem maior do que a média geral(quase o dobro).\n",
    "<br>Sendo uma média diária de 119 chamados deste subtipo só no Rock in Rio contra uma média de 62 chamados diários ao longo dos anos 2022 e 2023 juntos.\n",
    "<br> O Carnaval possui uma média de chamados diários muito próxima do normal, enquanto é possível notar uma queda nessa estimativa durante o Reveillon. "
   ]
  },
  {
   "cell_type": "markdown",
   "metadata": {},
   "source": []
  }
 ],
 "metadata": {
  "kernelspec": {
   "display_name": "govrio",
   "language": "python",
   "name": "python3"
  },
  "language_info": {
   "codemirror_mode": {
    "name": "ipython",
    "version": 3
   },
   "file_extension": ".py",
   "mimetype": "text/x-python",
   "name": "python",
   "nbconvert_exporter": "python",
   "pygments_lexer": "ipython3",
   "version": "3.12.1"
  }
 },
 "nbformat": 4,
 "nbformat_minor": 2
}
